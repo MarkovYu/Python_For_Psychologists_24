{
 "cells": [
  {
   "cell_type": "markdown",
   "id": "5d55b4ed",
   "metadata": {},
   "source": [
    "<img src=\"https://github.com/M-earnest/Python_for_Psychologists_Winter2022/blob/main/lecture/static/pfp_logo.png?raw=true\" width=300 />\n",
    "<center><h3>Homework assignment #3 - Introduction to Python - 2</h3></center>\n",
    "\n",
    "Welcome to homework assignment #3 of the \"Python for Psychologists\" course, winter term 2024. We'll continue working on `python` in this  `jupyter notebook`. Again, if you encounter any problems along the way, please don't hesitate to get in touch (via e-mail or the discord server) or check back in the [`Intro to Python I`](https://markovyu.github.io/Python_For_Psychologists_24/introduction/introduction_4.html)  or the [`Intro to Python II`](https://markovyu.github.io/Python_For_Psychologists_24/introduction/intro_python_II.html) chapters on the course website. \n",
    "\n",
    "\n",
    "Some general points:\n",
    "\n",
    "Throughout the assignment you will be asked to either provide some `answers to questions in written form` or directly `code`. Regarding the first, you can just write your answer in the empty `markdown cells` below the questions. Regarding the second, you can write your `code` in the empty `code cells` below the questions and actually `run` it so that the output (if there's one) will be included in the notebook. The `number` and `type` of `cell` you need to answer a given questions will be indicated but if you want to use more `cells` please don't hesitate to add a few. If you see something like \"Type Markdown ... or Please provide your solution here\n",
    "\", you can just click (or double-click) on it to make it a `markdown cell`. If any of this sounds confusing or unclear you can again consult the [`Introduction to Jupyter`](https://markovyu.github.io/Python_For_Psychologists_24/introduction/intro_jupyter.html) page. \n",
    "\n",
    "Please don't forget to save your `notebook` regularly (maybe every few minutes) either via `strg + s` on `windows` and `cmd + s` on `macOS`. Once you finished the `assignment`, pleas save the entire `notebook` via `File` -> `Save as...` and provide the following name `FirstNameSurname_pfp_2022_homework_assignment_3` where `FirstName` should be changed to your first name and `Surname` to your surname.\n",
    "\n",
    "The aim of this homework assignment is to go through the things we talked about in the session again and deepen your understanding of them. This will entail the following parts:\n",
    "\n",
    "[1. Operators & Comparisons]()  \n",
    "[2. Strings]()  \n",
    "[3. Lists]()  \n",
    "[4. Dictionaries]() \n",
    "\n",
    "You should be able to answer all of the following questions given the content included in the respective sections on the website, as well as the things covered in during the session. **If you feel like some of the things asked here were actually not (sufficiently) covered during the session, please don't hesitate to let me know ASAP and we'll figure that out.** Otherwise you of course are welcome to train your \"google muscles\", just keep in mind that code directly copied from the internet should include sufficient credits (i.e. include links to the respective website as a comment in code/markdown cells. And remember that there is always more than one correct answer in `programming`.\n",
    "\n",
    "However, after this way too long intro, I wish you a great time and hope this will feel less like an assignment and more like a fun add on to the session. Again: learning new things takes time and programming is by no means an exception to that. Thus don't worry if you have to look back and fourth between the assignment and the materials: we all start somewhere and you putting in the effort is already fantastic. You got this!\n",
    "\n",
    "<img src=\"https://media4.giphy.com/media/11F0d3IVhQbreE/giphy.gif?cid=ecf05e47mwgbxua2plvfxralxf36ahupi2mubqdc416b6l8f&rid=giphy.gif&ct=g\" width=300 />\n",
    "<center><a href=\"https://giphy.com/gifs/bill-murray-pointing-you-got-this-11F0d3IVhQbreE\">via GIPHY</a></center>"
   ]
  },
  {
   "cell_type": "markdown",
   "id": "ea57a853",
   "metadata": {},
   "source": [
    "## Homework assignment #3\n",
    "\n",
    "### [1. Operators & comparisons]()  \n",
    "\n",
    "During the session we talked about `arithmetic operations` and `comparison` being on of the most basic utilization of `Python`. Explain what they refer to and what types of them we have available in `python`. "
   ]
  },
  {
   "cell_type": "markdown",
   "id": "7d228a64",
   "metadata": {},
   "source": [
    "Please provide your solution here\n",
    "\n",
    "arithmetic operations:"
   ]
  },
  {
   "cell_type": "markdown",
   "id": "bd393328",
   "metadata": {},
   "source": [
    "Please provide your solution here\n",
    "\n",
    "comparisons:"
   ]
  },
  {
   "cell_type": "markdown",
   "id": "8bfc9a72",
   "metadata": {},
   "source": [
    "Lets work with some \"real\" `data`: `group_control` and `group_target` `variables` that contain `list`s of `numbers`, lets imagine that it was an experiment with two groups and percent correct answers were measured: \n",
    "\n",
    "- the `values` of `group_control`:\n",
    "\n",
    "  [0.56377612, 0.88131505, 0.11624772, 0.07403529, 0.75973353,\n",
    "   0.00409758, 0.93428345, 0.19309668, 0.3293604 , 0.67125433,\n",
    "   0.29852433, 0.84537071, 0.61858061, 0.69103466, 0.922849  ,\n",
    "   0.4790626 , 0.84704065, 0.0797407 , 0.9544613 , 0.90069604]  \n",
    "   \n",
    "   \n",
    "- the `values` of `group_target`:\n",
    "\n",
    "  [0.7486552 , 0.51256649, 0.35233699, 0.45989524, 0.13884197,\n",
    "   0.44548063, 0.49262154, 0.6530387 , 0.1199654 , 0.64623522,\n",
    "   0.37008847, 0.35532377, 0.96873621, 0.90653078, 0.6161739 ,\n",
    "   0.26623139, 0.28488811, 0.30282947, 0.12302529, 0.25670394]\n",
    "   \n",
    "Could you please `\"define\"` these `variables` - `group_control` and `group_target` with the respective `values`?\n",
    "\n",
    "Hint: you can copy them"
   ]
  },
  {
   "cell_type": "code",
   "execution_count": null,
   "id": "6e620acc",
   "metadata": {},
   "outputs": [],
   "source": [
    "# Please write your solution here"
   ]
  },
  {
   "cell_type": "code",
   "execution_count": null,
   "id": "c8d6c5ff",
   "metadata": {},
   "outputs": [],
   "source": [
    "# Please write your solution here"
   ]
  },
  {
   "cell_type": "markdown",
   "id": "31d10112",
   "metadata": {},
   "source": [
    "Lets compute some stats on these `variables`. For example, `minimum`, `maximum` and `mean values`. We will need to remember how to `import` a new library for it, because we will not do it manually. You will need to use library `numpy`, and find relevant functions in this library. Can you compute `minimum`, `maximum` and `mean values` for each `group` and assign them to the `variables` `group_control_min`, `group_control_max`, etc.? \n",
    "\n",
    "Hint: if you imported a library sucessfully you can write its name plus dot and press TAB - you will see the list of all available functions (they are highlighted with blue and letter f)\n",
    "\n",
    "Hint: functions in `numpy` and other libraries could be used like `numpy.function_name(argument_name)` \n",
    "\n",
    "Hint: functions names are usually have similar name to the action they do try to start typing them and after press TAB\n",
    "\n",
    "Hint: if you lost here please write in discord group"
   ]
  },
  {
   "cell_type": "code",
   "execution_count": null,
   "id": "14165d9e",
   "metadata": {},
   "outputs": [],
   "source": [
    "# Please write your solution here\n"
   ]
  },
  {
   "cell_type": "markdown",
   "id": "cb96e749",
   "metadata": {},
   "source": [
    "and now `compare` them? More precisely, could you do the following: \n",
    "\n",
    "- evaluate for each `value` if they are `equal`\n",
    "- evaluate if the `minimum value` of `group_control` is `greater than` than that of `group_control`\n",
    "- evaluate if the `maximum value` of `group_control` is `less or equal` than that of `group_control`\n",
    "- evaluate if the `mean values` are `not equal` "
   ]
  },
  {
   "cell_type": "code",
   "execution_count": null,
   "id": "c2d54c35",
   "metadata": {},
   "outputs": [],
   "source": [
    "# Please write your solution here"
   ]
  },
  {
   "cell_type": "code",
   "execution_count": null,
   "id": "6e0c31e1",
   "metadata": {},
   "outputs": [],
   "source": [
    "# Please write your solution here"
   ]
  },
  {
   "cell_type": "code",
   "execution_count": null,
   "id": "bcf64625",
   "metadata": {},
   "outputs": [],
   "source": [
    "# Please write your solution here"
   ]
  },
  {
   "cell_type": "code",
   "execution_count": null,
   "id": "68524fb8",
   "metadata": {},
   "outputs": [],
   "source": [
    "# Please write your solution here"
   ]
  },
  {
   "cell_type": "markdown",
   "id": "c18c313c",
   "metadata": {},
   "source": [
    "Awesome, thanks so much! That result regarding the `mean values` is interesting. \n",
    "\n",
    "Maybe we should run a test to evaluate if they're actually different in the `statistical sense`. Thus, lets compute an `independent t-test` between the `values` of our `variables`, using `scipy'`s `stats` `module`, specifically, the `ttest_ind` `function`? Lets `assign` the outcomes to the `variables` `t_stat_group_difference` and `p_value_group_difference`? \n",
    "\n",
    "Hint: you will need to import `ttest_ind` from `scipy.stats` first\n",
    "\n",
    "Hint: if the `output` of a `function` contains multiple `values` you can directly `access` and `assign` them to` variables`. For example, the `scipy.stats.ttest_ind` returns a `list` within which the `first index` is the `t statistic` and the `second index` the `p value`. In contrast, you could also directly `assign` the outcomes of the `function` to two `variable`s. For example: `t_stat, p = ttest_ind(data1, data2)`."
   ]
  },
  {
   "cell_type": "code",
   "execution_count": null,
   "id": "5d6eef42",
   "metadata": {},
   "outputs": [],
   "source": [
    "# Please write your solution here"
   ]
  },
  {
   "cell_type": "markdown",
   "id": "440a81d1",
   "metadata": {},
   "source": [
    "Before we dive into other things, a quick important question: does `python` actually follow `arithmetic rules` that would guide how we have to define `equations`, e.g. the succession of `+`/`-` and `*`/`/`?   "
   ]
  },
  {
   "cell_type": "markdown",
   "id": "95ef72e9",
   "metadata": {},
   "source": [
    "Please write your solution here"
   ]
  },
  {
   "cell_type": "markdown",
   "id": "72afe9f3",
   "metadata": {},
   "source": [
    "### **Optional Bonus**\n",
    "\n",
    "**This is optional, but what is below it (Number 2, 3, 4) - is not**\n",
    "\n",
    "\n",
    "_(The remaining tasks within this **first** part are **optional** and thus don't need to be completed if you don't want to, this won't affect the final assessment of your `homework assignment`. However, we obviously strongly suggest that you give it a try as it will deepen your understanding of `operators` and `comparisons` as well as their important role regarding complex analyses. Here, this will entail the \"manual\" computation/derivation of the `t-test` you computed above via `scipy`.)_   \n",
    "\n",
    "Now that we've assigne our test statistic and p-value to a separate variable each we could move on with our lives, but lets compute the `independent t-test` again, this time \"manually\". \n",
    "\n",
    "Thinking back to the intro to stats classes, we know that we need a few `values` to do that: \n",
    "- `means`, \n",
    "- `standard deviation`, \n",
    "- `standard errors`, \n",
    "- `critical value`, \n",
    "\n",
    "etc.\n",
    "\n",
    "Thus, we're going to compute them and run the test step-by-step. We already have the `mean`s, so we can go directly to the `standard deviations`. We can compute them using the `std` function from `numpy`. All we need to do is provide our `variables` and the `degrees of freedom` (here `1`). We are going to store the outputs in the `variables` `group_control_std` and `group_target_std`. \n",
    "(_Hint_: you can adapt the following syntax `std1, std2 = np.std(data1, ddof=1), np.std(data2, ddof=1)`."
   ]
  },
  {
   "cell_type": "code",
   "execution_count": null,
   "id": "b4f6303a",
   "metadata": {},
   "outputs": [],
   "source": [
    "# Please write your solution here"
   ]
  },
  {
   "cell_type": "markdown",
   "id": "c9f5072f",
   "metadata": {},
   "source": [
    "</br>\n",
    "\n",
    "Next up, `standard errors`. We can compute them via dividing the `standard deviation` by the `square root` of the number of observations, i.e. the `values` in our `variables`. \n",
    "\n",
    "As we already have the `standard deviation`, we're only missing our number of observations. \n",
    "\n",
    "To get these we'll use the `in-built` `function` `len()`. We're going to save the output to two new variables `group_control_n_obs` and `group_target_n_obs`. \n",
    "\n",
    "(_Hint_: you can adapt the following syntax `len1, len2 = len(data1), len(data2)`.) "
   ]
  },
  {
   "cell_type": "code",
   "execution_count": null,
   "id": "17ed37f0",
   "metadata": {},
   "outputs": [],
   "source": [
    "# Please write your solution here"
   ]
  },
  {
   "cell_type": "markdown",
   "id": "55ce4938",
   "metadata": {},
   "source": [
    "Now we can use `numpy`'s `sqrt` `function` to compute the `square root` of our number of observations. As usual, we're going to create two new respective `variables`, `group_control_sqrt` and `group_target_sqrt`. \n",
    "\n",
    "(_Hint_: you can adapt the following syntax `sqrt1, sqrt2 = sqrt(len1), sqrt(len2)`.)"
   ]
  },
  {
   "cell_type": "code",
   "execution_count": null,
   "id": "0644c384",
   "metadata": {},
   "outputs": [],
   "source": [
    "# Please write your solution here"
   ]
  },
  {
   "cell_type": "markdown",
   "id": "63f81c5e",
   "metadata": {},
   "source": [
    "Nice, but we're still missing our `standard errors`. \n",
    "\n",
    "Let's compute the `standard errors` and assign them to two `variables` called `group_control_se` and `group_target_se` by dividing the `standard deviation` by the `square root of the number of observations`\n",
    "\n",
    "(Hint: adapt the syntax for both your variables `standard_error1 = std1/sqrt1`.)"
   ]
  },
  {
   "cell_type": "code",
   "execution_count": null,
   "id": "5829246f",
   "metadata": {},
   "outputs": [],
   "source": [
    "# Please write your solution here"
   ]
  },
  {
   "cell_type": "markdown",
   "id": "b8d6ab66",
   "metadata": {},
   "source": [
    "The last thing we need to calculate for our `t statistic` is the `standard error of the difference between samples` (are the memories of the stats intro classes coming back?). \n",
    "\n",
    "<img src=\"https://media2.giphy.com/media/21GCae4djDWtP5soiY/giphy.gif?cid=ecf05e4747ev7x19d5e5latq93opq3izmt2byq82svpc577j&rid=giphy.gif&ct=g\" width=200 />\n",
    "<center><a href=\"https://media2.giphy.com/media/21GCae4djDWtP5soiY/giphy.gif?cid=ecf05e4747ev7x19d5e5latq93opq3izmt2byq82svpc577j&rid=giphy.gif&ct=g\">via GIPHY</a></center>\n",
    "\n",
    "The resulting `value` should be stored in a `variable` called `group_difference_sed` and can be obtained via adapting the following equation `sed = sqrt(standard_error1**2.0 + standard_error2**2.0)`."
   ]
  },
  {
   "cell_type": "code",
   "execution_count": null,
   "id": "b588f64d",
   "metadata": {},
   "outputs": [],
   "source": [
    "# Please write your solution here"
   ]
  },
  {
   "cell_type": "markdown",
   "id": "b5de0b13",
   "metadata": {},
   "source": [
    "Bonus Bonus questions: what's `**` again?"
   ]
  },
  {
   "cell_type": "markdown",
   "id": "30d21b59",
   "metadata": {},
   "source": [
    "Please provide your solution here"
   ]
  },
  {
   "cell_type": "markdown",
   "id": "e3801993",
   "metadata": {},
   "source": [
    "It's `t statistic` time. \n",
    "\n",
    "<img src=\"https://media3.giphy.com/media/Wn74RUT0vjnoU98Hnt/giphy.gif?cid=ecf05e47g7vie62q1mab8839boa8uuo20kfdeszidh3e80ix&rid=giphy.gif&ct=g\" width=200 />\n",
    "<center><a href=\"https://media3.giphy.com/media/Wn74RUT0vjnoU98Hnt/giphy.gif?cid=ecf05e47g7vie62q1mab8839boa8uuo20kfdeszidh3e80ix&rid=giphy.gif&ct=g\">via GIPHY</a></center>\n",
    "\n",
    "\n",
    "We get this `value` by dividing the `difference between the means` by the `standard error of the difference between samples`, i.e. `t_stat = mean1 - mean2 / sed`. Assign the `value` to a `variable` called `t_stat`\n",
    "\n",
    "(_Hint_: **check** the proposed equation precisely. **Remember** the order of mathematical operations)"
   ]
  },
  {
   "cell_type": "code",
   "execution_count": null,
   "id": "52b5a4d1",
   "metadata": {},
   "outputs": [],
   "source": [
    "# Please write your solution here"
   ]
  },
  {
   "cell_type": "markdown",
   "id": "6bff8aa4",
   "metadata": {},
   "source": [
    "</br>\n",
    "\n",
    "Fantastic, Amzazing! \n",
    "\n",
    "However, being the \"thorough\" \"researchers\" we were \"trained\" to be (ignoring the assumptions needed for a parametric test...) we know that the `t statistic` is only one half of the story, we also need a `p value`. \n",
    "\n",
    "Adding this rather straightforward, we need the \n",
    "\n",
    "- `degrees of freedom` \n",
    "\n",
    "\n",
    "and the \n",
    "\n",
    "\n",
    "- `cumulative distribution function` \n",
    "\n",
    "of the `t-distribution`. \n",
    "\n",
    "Lets start with the first one. This `value` is obtained via computing the `sum` of the number of observations (`len`) in both samples minus `two`. We'll assign it to the `df` variable.\n",
    "\n",
    "(_Hint_: you can adapt the following syntax `df = len(data1) + len(data2) - 2`.) "
   ]
  },
  {
   "cell_type": "code",
   "execution_count": null,
   "id": "be0d1e75",
   "metadata": {
    "scrolled": false
   },
   "outputs": [],
   "source": [
    "# Please write your solution here"
   ]
  },
  {
   "cell_type": "markdown",
   "id": "54815bd5",
   "metadata": {},
   "source": [
    "</br>\n",
    "\n",
    "We can now integrate that into a more complex function within which we calculate the `p value` of the test. \n",
    "\n",
    "For this we need to get the \n",
    "\n",
    "- `cumulative distribution function` on the `t-distribution`. \n",
    "\n",
    "We can obtain this via the `cdf` `function` of the `t` `module` available in `scipy` (`stats.t.cdf`)."
   ]
  },
  {
   "cell_type": "markdown",
   "id": "ff60bb69",
   "metadata": {},
   "source": [
    "Now we can finally adapt the following equation to get the `p value`: `p = (1 - t.cdf(abs(t_stat), df)) * 2`. Could you please do that in the `cell` below? "
   ]
  },
  {
   "cell_type": "code",
   "execution_count": null,
   "id": "7cf7177f",
   "metadata": {},
   "outputs": [],
   "source": [
    "# Please write your solution here"
   ]
  },
  {
   "cell_type": "markdown",
   "id": "9a1af6d9",
   "metadata": {},
   "source": [
    "</br>\n",
    "\n",
    "Having computed the `t_stat` and `p value`, we need to situate them with respect to a given `critical value` and `significance level`. \n",
    "\n",
    "Starting with the `critical value`, we can compute that via applying the `percent point function` (which is part of `scipy`'s `t` `module`: `stats.t.ppf`) to our `degrees of freedom` and the assumed `alpha`. \n",
    "Regarding the latter, we'll go \"classic\" and assume `0.05` and therefore `95% confidence`(I know: shocker...). Thus, we can adapt the following function: `critical_value = stats.t.ppf(1.0-0.05, degrees_of_freedom)`. Could you please do that in the `cell` below? "
   ]
  },
  {
   "cell_type": "code",
   "execution_count": null,
   "id": "9b7410d3",
   "metadata": {},
   "outputs": [],
   "source": [
    "# Please write your solution here"
   ]
  },
  {
   "cell_type": "markdown",
   "id": "ffe5108c",
   "metadata": {},
   "source": [
    "</br>\n",
    "\n",
    "Oh my, all these equations...but that should be all. \n",
    "\n",
    "Now, we only need to compare our `t statistic` and `p value` to the `critical value` and `alpha` respectively to make some statements about the outcomes of our test. \n",
    "\n",
    "Could you evaluate if the `t statistic` is `greater or equal` than the `critical value` and if the `p value` is `less` than the `alpha`?"
   ]
  },
  {
   "cell_type": "code",
   "execution_count": null,
   "id": "55aa907d",
   "metadata": {},
   "outputs": [],
   "source": [
    "# Please write your solution here"
   ]
  },
  {
   "cell_type": "code",
   "execution_count": null,
   "id": "9659bd9a",
   "metadata": {},
   "outputs": [],
   "source": [
    "# Please write your solution here"
   ]
  },
  {
   "cell_type": "markdown",
   "id": "b84b06b0",
   "metadata": {},
   "source": [
    "Whoa, we just computed a `t statistic` step-by-step in `python`. You might think: \"WTF? I came here to learn `python` and not redo stats...\" and you're definitely right! \n",
    "\n",
    "\n",
    "\n",
    "<img src=\"https://media1.giphy.com/media/clzJklnRWLyioNgMB4/giphy.gif?cid=ecf05e47og7zlmfgiaftmro3vq27i4er4d9rfmpsyy8j8xr6&rid=giphy.gif&ct=g\" width=300 />\n",
    "<center><a href=\"https://media1.giphy.com/media/clzJklnRWLyioNgMB4/giphy.gif?cid=ecf05e47og7zlmfgiaftmro3vq27i4er4d9rfmpsyy8j8xr6&rid=giphy.gif&ct=g\">via GIPHY</a></center>\n",
    "\n",
    "However, this example and the respective tasks aimed to provide you with more insights on what can be achieved via `basic operations` and `comparison` in `python`. \n",
    "\n",
    "Further we outline again that these basic operations are the underlying workhorses of basically any more complex `function`. \n",
    "\n",
    "Additionally, the steps should showcase some of the different `function`s supported by the `numpy` and `scipy` `modules` as a proxy for all the things that are possible (remember: these are just two of several hundred or thousand `modules` out there).\n",
    "\n",
    "Lastly, this was also meant to be a practice regarding adapting `code snippets` you find in the `documentation` of the `modules` or the internet to your use case and data at hand. The good news is that this was the hardest part of this `homework assignment`, the rest _should_ be way easier to follow/do.    "
   ]
  },
  {
   "cell_type": "markdown",
   "id": "e05a0ded",
   "metadata": {
    "solution2": "hidden",
    "solution2_first": true
   },
   "source": [
    "So you've learned a whole lot, just by following along!"
   ]
  },
  {
   "cell_type": "markdown",
   "id": "dc0badea",
   "metadata": {
    "solution2": "hidden"
   },
   "source": [
    "We know all of these things are a lot and for most of you completely new. However, you'll definitely learn them by just keeping at it. You're putting in a real effort, thanks for that!   \n",
    "\n",
    "<img src=\"https://media4.giphy.com/media/qiMbL701IR1PTRUeDY/giphy.gif?cid=ecf05e477s1y16aet98p0yym5tlb9slhbagq9sbtt2if33i9&rid=giphy.gif&ct=g\" width=300 />\n",
    "<center><a href=\"https://media4.giphy.com/media/qiMbL701IR1PTRUeDY/giphy.gif?cid=ecf05e477s1y16aet98p0yym5tlb9slhbagq9sbtt2if33i9&rid=giphy.gif&ct=g\">via GIPHY</a></center>"
   ]
  },
  {
   "cell_type": "markdown",
   "id": "849e86d6",
   "metadata": {},
   "source": [
    "</br>\n",
    "\n",
    "### [2. Strings]()  \n",
    "\n",
    "Welcome back, don't forget the rest of the assigment is mandatory!\n",
    "\n",
    "After talking about different `operations` and `comparison` we talked about different `data types` and `structures`, starting with `strings`. \n",
    "\n",
    "However, didn't we talk about `strings` before as one of the `fundamental data types`? Is there something more going on with them? Could you please provide some pointers on why `strings` are somewhat different than say `integers`or `floats` in the `cell` below?"
   ]
  },
  {
   "cell_type": "markdown",
   "id": "0359f5c9",
   "metadata": {},
   "source": [
    "Please write your solution here"
   ]
  },
  {
   "cell_type": "markdown",
   "id": "af56872e",
   "metadata": {},
   "source": [
    "Interesting...how about we investigate this further by defining a new `variable` called `stats_statement`, that contains the following `string` as `value`: `\"The difference between the control and target group was not significant.\"`? \n",
    "\n",
    "(Hint: you can just copy-paste it.)"
   ]
  },
  {
   "cell_type": "code",
   "execution_count": null,
   "id": "1e1dc200",
   "metadata": {},
   "outputs": [],
   "source": [
    "# Please write your solution here"
   ]
  },
  {
   "cell_type": "markdown",
   "id": "1b413623",
   "metadata": {},
   "source": [
    "With that in place: is there a way to get some basic information, like the `type` and `length` of the `string`? Name them in the `cell` below."
   ]
  },
  {
   "cell_type": "code",
   "execution_count": null,
   "id": "a524f4b8",
   "metadata": {},
   "outputs": [],
   "source": [
    "# Please write your solution here"
   ]
  },
  {
   "cell_type": "code",
   "execution_count": null,
   "id": "55ad4a42",
   "metadata": {},
   "outputs": [],
   "source": [
    "# Please write your solution here"
   ]
  },
  {
   "cell_type": "markdown",
   "id": "b3a0df50",
   "metadata": {},
   "source": [
    "So far so good. \n",
    "\n",
    "However, we know that `non-significant` results don't sell well out there and that the industry demands us to only include `significant` results. Is there any way we could _`replace`_ the `not significant` portion of our `string` with `significant`? \n",
    "\n",
    "(_Hint_: Remember that python tries to stay as close to the natural use of language)"
   ]
  },
  {
   "cell_type": "code",
   "execution_count": null,
   "id": "faf59352",
   "metadata": {},
   "outputs": [],
   "source": [
    "# Please write your solution here"
   ]
  },
  {
   "cell_type": "markdown",
   "id": "8a0b96fe",
   "metadata": {},
   "source": [
    "That brings up an important point: are `strings` actually `replaced` `\"in-place\"` or do they require a new `variable` `assignment`? In case of the latter: how would you do that? "
   ]
  },
  {
   "cell_type": "markdown",
   "id": "a3b8e095",
   "metadata": {},
   "source": [
    "Please write your solution here"
   ]
  },
  {
   "cell_type": "code",
   "execution_count": null,
   "id": "1616b6a4",
   "metadata": {},
   "outputs": [],
   "source": [
    "# Please write your solution here"
   ]
  },
  {
   "cell_type": "markdown",
   "id": "4eefeed1",
   "metadata": {},
   "source": [
    "Can we actually make sure that the `string` contains the sub-`string` (or word/letter combination) `significant`, i.e. is there a way to `compare` two  `strings`? Or maybe to find out if one `string` is `contained` `in` another?"
   ]
  },
  {
   "cell_type": "code",
   "execution_count": null,
   "id": "a88b0f1c",
   "metadata": {},
   "outputs": [],
   "source": [
    "# Please write your solution here"
   ]
  },
  {
   "attachments": {},
   "cell_type": "markdown",
   "id": "de0a3741",
   "metadata": {},
   "source": [
    "Great! We now want to make sure we put the right group comparison in our `string`. Is there a way to \"extract\" certain `characters`/sub-`strings` based on their `index`? If so, what would be the name of this technique and is there anything we should watch out for?\n",
    "\n",
    "Hint: remember about how `index` works in python"
   ]
  },
  {
   "cell_type": "markdown",
   "id": "04dd96df",
   "metadata": {},
   "source": [
    "Please write your solution here"
   ]
  },
  {
   "cell_type": "markdown",
   "id": "57ba7431",
   "metadata": {},
   "source": [
    "Thanks for the reminder. Could you maybe get the sub-`string` \"control and target\" from the `string`?\n",
    "\n",
    "(Remember Start, Stop, Step?)"
   ]
  },
  {
   "cell_type": "code",
   "execution_count": null,
   "id": "d8708b1a",
   "metadata": {},
   "outputs": [],
   "source": [
    "# Please write your solution here"
   ]
  },
  {
   "cell_type": "markdown",
   "id": "e4250746",
   "metadata": {},
   "source": [
    "I've been informed that people who want to be taken somewhat serious about their work usually report more info than just a p-value. Crazy, right? \n",
    "So, to seem somewhat capable  let's add some more information to our statement.\n",
    "Please define a new `variable` called `t_stat_statement` with the `value`: `The t statistic was: [insert t statistic here].\"`, replacing `[insert t statistic here]` with the `t statistic` you computed above (in the very first task)?\n",
    "\n",
    "Hint: here you just need to manually insert a computed value from the first task, no formating!"
   ]
  },
  {
   "cell_type": "code",
   "execution_count": null,
   "id": "338310c2",
   "metadata": {},
   "outputs": [],
   "source": [
    "# Please write your solution here"
   ]
  },
  {
   "cell_type": "markdown",
   "id": "0eb0008d",
   "metadata": {},
   "source": [
    "Now `concatenate` the two `strings` within one `print` `function` in such a way that they will be separated by a `space`\n",
    "\n",
    "Hint: you can do it multiple ways withtin the `print` function or before calling `print` function"
   ]
  },
  {
   "cell_type": "code",
   "execution_count": null,
   "id": "bb44a086",
   "metadata": {},
   "outputs": [],
   "source": [
    "# Please write your solution here"
   ]
  },
  {
   "cell_type": "markdown",
   "id": "2d9bed26",
   "metadata": {},
   "source": [
    "In `python` we usually like to `automate` as much as possible to remove human sources of error in our analyzes and be as `reproducible` as possible. \n",
    "\n",
    "Usually the more we write/put in manually the higher the chance of errors. This holds, for example, true for including computed `outputs` in `print` `function`s like we did above. Do you know a way to `format` the `t_statistic_statement` `string` so that we can \"automatically\" insert the `computed t statistic` and don't have to specifically write it?   \n",
    "\n",
    "(_Hint_: There are more ways than one to actually insert additional information into a string)"
   ]
  },
  {
   "cell_type": "code",
   "execution_count": null,
   "id": "ca814e7d",
   "metadata": {},
   "outputs": [],
   "source": [
    "# Please write your solution here"
   ]
  },
  {
   "cell_type": "markdown",
   "id": "b15b582c",
   "metadata": {},
   "source": [
    "### [3. Lists]()  \n",
    "\n",
    "The next `data type` on our list are `lists`. Please explain what `lists` are and what makes them somewhat special (e.g. compared to othe `data types` or `structures` such as strings or `tuples`)?"
   ]
  },
  {
   "cell_type": "markdown",
   "id": "ed7f681b",
   "metadata": {},
   "source": [
    "Please write your solution here"
   ]
  },
  {
   "cell_type": "markdown",
   "id": "d5d58b7a",
   "metadata": {},
   "source": [
    "As you might remember, it was said that the `values` of our `group_control` and `group_target` `variables` were provided as `list`s. Please briefly verify that they really have this `type`!"
   ]
  },
  {
   "cell_type": "code",
   "execution_count": null,
   "id": "e3b7b485",
   "metadata": {},
   "outputs": [],
   "source": [
    "group_control=  [0.56377612, 0.88131505, 0.11624772, 0.07403529, 0.75973353,\n",
    "   0.00409758, 0.93428345, 0.19309668, 0.3293604 , 0.67125433,\n",
    "   0.29852433, 0.84537071, 0.61858061, 0.69103466, 0.922849  ,\n",
    "   0.4790626 , 0.84704065, 0.0797407 , 0.9544613 , 0.90069604]  \n",
    "group_target=  [0.7486552 , 0.51256649, 0.35233699, 0.45989524, 0.13884197,\n",
    "   0.44548063, 0.49262154, 0.6530387 , 0.1199654 , 0.64623522,\n",
    "   0.37008847, 0.35532377, 0.96873621, 0.90653078, 0.6161739 ,\n",
    "   0.26623139, 0.28488811, 0.30282947, 0.12302529, 0.25670394]"
   ]
  },
  {
   "cell_type": "code",
   "execution_count": null,
   "id": "4ce5168f",
   "metadata": {},
   "outputs": [],
   "source": [
    "# Please write your solution here"
   ]
  },
  {
   "cell_type": "markdown",
   "id": "3251f6c3",
   "metadata": {},
   "source": [
    "One of the first things we usually want to know about `list`s is their `len`gth. \n",
    "Could you briefly get the `len`gth of each `list` and indicate them via `print` `function`s like the following: `\"The control group had [insert number of responses here] responses.\"`. \n",
    "\n",
    "(_Hint_: try to use `string formatting` to insert the needed `value`)"
   ]
  },
  {
   "cell_type": "code",
   "execution_count": null,
   "id": "496930de",
   "metadata": {},
   "outputs": [],
   "source": [
    "# Please write your solution here"
   ]
  },
  {
   "cell_type": "markdown",
   "id": "39f9780a",
   "metadata": {},
   "source": [
    "Going back to our `list`s and having a closer look at them, we recognize that there are actually some errors we need to fix. \n",
    "\n",
    "You've learned that the `data type` `list` comes with some in-built `function`s that could ease up certain operations. Briefly name at least two and describe what they're doing?"
   ]
  },
  {
   "cell_type": "markdown",
   "id": "f2b398d7",
   "metadata": {},
   "source": [
    "Please write your solution here"
   ]
  },
  {
   "cell_type": "markdown",
   "id": "d58db2fa",
   "metadata": {},
   "source": [
    "Say initially, we need to change the order of `elements` in our `list`s. \n",
    "\n",
    "Specifically, our groups should be `sort`ed in an `ascending order`. How would you do that? Add the new list to a variable called `group_control_asc` and `group_target_asc`.\n",
    "\n",
    "Attention: If we'd use the `list.sort()` function we'd change our list `in-place`, to avoid that we use the python internal function `sorted()`. So the syntax would be `sorted_group = sorted(group)`\n",
    "\n",
    "(_Hint_: To get some input check out the [Python \"Howtos\" in the official docs](https://docs.python.org/3/howto/))"
   ]
  },
  {
   "cell_type": "code",
   "execution_count": null,
   "id": "fbf89481",
   "metadata": {},
   "outputs": [],
   "source": [
    "# Please write your solution here"
   ]
  },
  {
   "cell_type": "markdown",
   "id": "b7de68e9",
   "metadata": {},
   "source": [
    "Now could you quickly do the same, but sort our `group values` in a `descending order`?"
   ]
  },
  {
   "cell_type": "code",
   "execution_count": null,
   "id": "0e6f590e",
   "metadata": {},
   "outputs": [],
   "source": [
    "# Please write your solution here"
   ]
  },
  {
   "cell_type": "markdown",
   "id": "5552faeb",
   "metadata": {},
   "source": [
    "If you'd want to add a `value` that we initially forgot at a specific `index` to our new lists, how would you do that? \n",
    "\n",
    "For example, you want to `add` the `value`s `0.782374610` and `0.12039482` at `index` `3` and `8` in  respectively`group_control` and `group_target`, as well as in respetively our newly `sorted lists` `group_control_asc` and `group_target_asc`. Provide the answer below."
   ]
  },
  {
   "cell_type": "code",
   "execution_count": null,
   "id": "4b685792",
   "metadata": {},
   "outputs": [],
   "source": [
    "# Please write your solution here"
   ]
  },
  {
   "cell_type": "markdown",
   "id": "b8b56316",
   "metadata": {},
   "source": [
    "This brings up two important questions. First, how do `list`s work regarding `indices`, comparably to `strings` or not?"
   ]
  },
  {
   "cell_type": "markdown",
   "id": "281e2be4",
   "metadata": {},
   "source": [
    "Please write your solution here"
   ]
  },
  {
   "cell_type": "markdown",
   "id": "01b2bfdf",
   "metadata": {},
   "source": [
    "Second, what happens to the `indices` of the other `elements` when we `insert` a new `value`?  "
   ]
  },
  {
   "cell_type": "markdown",
   "id": "745b0491",
   "metadata": {},
   "source": [
    "Please write your solution here"
   ]
  },
  {
   "cell_type": "markdown",
   "id": "865184d9",
   "metadata": {},
   "source": [
    "Oh my, one of the \"classics\" happened: someone forgot to add the responses of the last two `participant`s to the `list`s. Could you please _`append`_ the `values` `0.27384265`, `0.56938264` and `0.28385745`, `0.91282374` to respectively `group_control_asc` and `group_target_asc`, as well as respectively the `group_control` and `group_target` variables? "
   ]
  },
  {
   "cell_type": "code",
   "execution_count": null,
   "id": "03cbb026",
   "metadata": {},
   "outputs": [],
   "source": [
    "# Please write your solution here"
   ]
  },
  {
   "cell_type": "markdown",
   "id": "8cc20b9e",
   "metadata": {},
   "source": [
    "The errors won't stop...we just noticed that participant `10` of the `control group` and `5` of the `target group` didn't complete the experiment. Please _`remove`_ their `responses` from the respective `list`s.\n",
    "\n",
    "Hint: here it means participant number 10th and number 5th, not the index"
   ]
  },
  {
   "cell_type": "code",
   "execution_count": null,
   "id": "f78c10ba",
   "metadata": {},
   "outputs": [],
   "source": [
    "# Please write your solution here"
   ]
  },
  {
   "cell_type": "markdown",
   "id": "5ad6aa7c",
   "metadata": {},
   "source": [
    "Wait, what variables you used in the last task? `group_xxx_asc` or `group_xxx`? Which one will be correct to use in this logic?"
   ]
  },
  {
   "cell_type": "markdown",
   "id": "392e5f3d",
   "metadata": {},
   "source": [
    "Please write your solution here"
   ]
  },
  {
   "cell_type": "markdown",
   "id": "f827ee57",
   "metadata": {},
   "source": [
    "One last thing: Say we want to make it impossible that our lists could be tampered with, i.e. that `elements` in our `data structure` could be changed, what `data type` you've met could you use? And how is that `property` of this `data type` called again?"
   ]
  },
  {
   "cell_type": "markdown",
   "id": "eb4f039d",
   "metadata": {},
   "source": [
    "Please write your solution here"
   ]
  },
  {
   "cell_type": "markdown",
   "id": "bb6f7b08",
   "metadata": {},
   "source": [
    "### [4. Dictionaries]()\n",
    "\n",
    "The last `data type` we had a look at where `dictionaries`. Could you name some of the prominent differences to `strings` and `list`s? "
   ]
  },
  {
   "cell_type": "markdown",
   "id": "4cc0f5b7",
   "metadata": {},
   "source": [
    "Please provide your solution here"
   ]
  },
  {
   "cell_type": "markdown",
   "id": "f4b44432",
   "metadata": {},
   "source": [
    "Damn, `dictionaries` seem pretty handy and you've might have guessed already above, that these will come in useful for our future analyzes, if we'd need something we can store and access all of the previously obtained information, i.e. our `t test` results, in a explicit manner. \n",
    "\n",
    "However, given we changed our underlying `list`s quite a bit, we need to re-compute the `t statistic` and `p value` again. Don't worry, you can definitely copy-paste the previously used `scipy.stats`' `ttest_ind` `function` for that and not our lengthy manual implementation. Please do that for both our `sort`ed, as well as our original `lists`.\n",
    "\n",
    "\n",
    "Remember, if you want to use the `ttest_ind` function again, you first have to import it from `scipy.stats` "
   ]
  },
  {
   "cell_type": "code",
   "execution_count": null,
   "id": "14fc6d17",
   "metadata": {},
   "outputs": [],
   "source": [
    "group_control=  [0.56377612, 0.88131505, 0.11624772, 0.07403529, 0.75973353,\n",
    "   0.00409758, 0.93428345, 0.19309668, 0.3293604 , 0.67125433,\n",
    "   0.29852433, 0.84537071, 0.61858061, 0.69103466, 0.922849  ,\n",
    "   0.4790626 , 0.84704065, 0.0797407 , 0.9544613 , 0.90069604]  \n",
    "group_target=  [0.7486552 , 0.51256649, 0.35233699, 0.45989524, 0.13884197,\n",
    "   0.44548063, 0.49262154, 0.6530387 , 0.1199654 , 0.64623522,\n",
    "   0.37008847, 0.35532377, 0.96873621, 0.90653078, 0.6161739 ,\n",
    "   0.26623139, 0.28488811, 0.30282947, 0.12302529, 0.25670394]"
   ]
  },
  {
   "cell_type": "code",
   "execution_count": null,
   "id": "0cef04d7",
   "metadata": {},
   "outputs": [],
   "source": [
    "# Please provide your solution here"
   ]
  },
  {
   "cell_type": "markdown",
   "id": "f03b4552",
   "metadata": {},
   "source": [
    "Awesome, thanks! Could you now please create a `dictionary` called `t-test_info` with the following `key-value` pairs:\n",
    "\n",
    "`t_statistic` : the computed t statistic,   \n",
    "`p_value` : the computed p value,  \n",
    "`n_responses_control` : length of the list group_control,  \n",
    "`n_responses_target` : length of the list group_target,  \n",
    "`responses_control` : the list group_control,  \n",
    "`responses_target` : the list group_target,\n",
    "\n",
    "(_Hint_: the `value` descriptions indicate the `values` you should put at the respective `key`.)"
   ]
  },
  {
   "cell_type": "code",
   "execution_count": null,
   "id": "b984155d",
   "metadata": {},
   "outputs": [],
   "source": [
    "# Please provide your solution here"
   ]
  },
  {
   "cell_type": "markdown",
   "id": "38eadffb",
   "metadata": {},
   "source": [
    "The more complex your `data types` get the more you should do `quality control`. Is there an easy way to get all the `keys` and `values` of your newly created `dictionary`?"
   ]
  },
  {
   "cell_type": "code",
   "execution_count": null,
   "id": "50df84a2",
   "metadata": {},
   "outputs": [],
   "source": [
    "# Please provide your solution here"
   ]
  },
  {
   "cell_type": "markdown",
   "id": "61447602",
   "metadata": {},
   "source": [
    "Assuming you wanted to access the computed `p value`, could you use the same kind of `indexing` as before for that? If not how would you get it?"
   ]
  },
  {
   "cell_type": "code",
   "execution_count": null,
   "id": "6e52cc42",
   "metadata": {},
   "outputs": [],
   "source": [
    "# Please provide your solution here"
   ]
  },
  {
   "cell_type": "markdown",
   "id": "6ece9e4d",
   "metadata": {},
   "source": [
    "Great! We decided to add new `key` in our dictionary and add `mean` values of `control` and `target` lists. Lets call it `mean_values` and store a list of `means` of `control` and `target` lists.\n",
    "\n",
    "Hint: you need to add list of mean values for both groups\n",
    "\n",
    "Hint: you need to use numpy.mean to compute mean"
   ]
  },
  {
   "cell_type": "code",
   "execution_count": null,
   "id": "488ec56e",
   "metadata": {},
   "outputs": [],
   "source": [
    "# Please provide your solution here"
   ]
  },
  {
   "cell_type": "markdown",
   "id": "5a27f921",
   "metadata": {},
   "source": [
    "Thats nice addition to our dictionary. The last task, lets access mean values from our `dictionary` called `t-test_info`. Can you compare whether they equal each other and store this information in new key `mean_comparison`."
   ]
  },
  {
   "cell_type": "code",
   "execution_count": null,
   "id": "6fa535f1",
   "metadata": {},
   "outputs": [],
   "source": [
    "# Please provide your solution here"
   ]
  },
  {
   "cell_type": "markdown",
   "id": "a721b2bd",
   "metadata": {},
   "source": [
    "### [5. Outro/Q&A]()\n",
    "\n",
    "Awesome, you did it, great job! Take a few seconds to appreaciate your effort and have a little party!\n",
    "\n",
    "<img src=\"https://media1.giphy.com/media/DhstvI3zZ598Nb1rFf/giphy.gif?cid=ecf05e478h6h9u9rhaooj89a82vr51xya6jslv0xp8xp8hud&rid=giphy.gif&ct=g\" width=300 />\n",
    "<center><a href=\"https://media1.giphy.com/media/DhstvI3zZ598Nb1rFf/giphy.gif?cid=ecf05e478h6h9u9rhaooj89a82vr51xya6jslv0xp8xp8hud&rid=giphy.gif&ct=g\">via GIPHY</a></center>\n",
    "\n",
    "Please remember to save the `notebook` as described in the beginning and send it to me via e-mail. If you have questions, encountered problems and/or errors, please use the `cell` to outline things further. The same holds true for any type of `feedback`! "
   ]
  },
  {
   "cell_type": "markdown",
   "id": "8d9a9262",
   "metadata": {},
   "source": [
    "Thanks for going through this `assignment`, we hope you found it useful and informative. `Feedback` on your work can also by provided and is just one e-mail or discord message away!"
   ]
  },
  {
   "cell_type": "markdown",
   "id": "073918a5",
   "metadata": {},
   "source": [
    "You can write your feedback here as well"
   ]
  }
 ],
 "metadata": {
  "kernelspec": {
   "display_name": "Python 3 (ipykernel)",
   "language": "python",
   "name": "python3"
  },
  "language_info": {
   "codemirror_mode": {
    "name": "ipython",
    "version": 3
   },
   "file_extension": ".py",
   "mimetype": "text/x-python",
   "name": "python",
   "nbconvert_exporter": "python",
   "pygments_lexer": "ipython3",
   "version": "3.7.6"
  }
 },
 "nbformat": 4,
 "nbformat_minor": 5
}
