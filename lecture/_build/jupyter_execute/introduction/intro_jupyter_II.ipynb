{
 "cells": [
  {
   "cell_type": "markdown",
   "metadata": {},
   "source": [
    "# Introduction II - Jupiter Notebook 7.0\n",
    "\n",
    "\n",
    "[Yury Markov](https://www.y-markov.com)  \n",
    "Phd student - [Scene Grammar Lab](http://www.scenegrammarlab.com/)\n",
    "\n",
    "@[Goethe-University Frankfurt](https://www.goethe-university-frankfurt.de/en?locale=en)"
   ]
  },
  {
   "cell_type": "markdown",
   "metadata": {},
   "source": [
    "## Objectives 📍\n",
    "\n",
    "* learn new features of `jupyter notebooks 7.0`\n",
    "- based on [Notebook 7.0 documentation](https://jupyter-notebook.readthedocs.io/en/stable/notebook_7_features.html)"
   ]
  },
  {
   "cell_type": "markdown",
   "metadata": {},
   "source": [
    "### Themes\n",
    "A Dark Theme is now available in the Jupyter Notebook by default. You can also install other themes as JupyterLab extensions.\n",
    "\n",
    "### Table of content\n",
    "Notebook 7 includes a new table of contents extension that allows you to navigate through your notebook using a sidebar. The Table of Contents is built-in and enabled by default, just like in JupyterLab.\n",
    "\n",
    "### New UI\n",
    "Lets look on it together in the class\n"
   ]
  },
  {
   "cell_type": "markdown",
   "metadata": {},
   "source": [
    "## What is a Debugger?\n",
    "\n",
    "A **debugger** is a tool that helps programmers find and fix errors in their code by allowing them to examine the code line-by-line as it executes. It is particularly useful for:\n",
    "- Identifying where and why code is failing\n",
    "- Inspecting variable values at different stages of execution\n",
    "- Testing logical flows and ensuring functions work as expected\n",
    "\n",
    "With a debugger, you can set **breakpoints** (specific lines where the code will pause) to inspect the state of your program and understand how data is being processed.\n",
    "\n",
    "## How to Use the Debugger in Jupyter Notebook 7\n",
    "\n",
    "Jupyter Notebook 7 includes a built-in debugger, but it requires a compatible kernel (like IPython 7.0 or later or **xeus-python**) to function. Here’s a step-by-step guide on using the debugger:\n",
    "\n",
    "### Step 1: Select a Debugger-Compatible Kernel\n",
    "\n",
    "1. Open your notebook.\n",
    "2. Go to the **Kernel** menu and select **Change Kernel**.\n",
    "3. Choose a kernel compatible with debugging (e.g., IPython or xeus-python).\n",
    "\n",
    "If you don’t see a compatible kernel, ensure you have the latest version of IPython by running:\n",
    "   \n",
    "   pip install ipykernel --upgrade\n",
    "\n",
    "### Step 2: Activate the Debugger\n",
    "\n",
    "1. With a compatible kernel selected, you should see a **Debugger** button in the toolbar or under the **View** or **Kernel** menus.\n",
    "2. Click the **Debugger** button to enable debug mode.\n",
    "\n",
    "### Step 3: Set Breakpoints\n",
    "\n",
    "1. Click in the left margin of a code cell next to the line numbers to add breakpoints. These red dots indicate where execution will pause, allowing you to inspect variables.\n",
    "2. You can add multiple breakpoints within a cell or across cells as needed.\n",
    "\n",
    "### Step 4: Run the Debugger\n",
    "\n",
    "1. Run the cell with the breakpoints set.\n",
    "2. The debugger will pause execution at each breakpoint, allowing you to inspect the state of variables and the code’s behavior.\n",
    "\n",
    "### Step 5: Step Through the Code\n",
    "\n",
    "While in debug mode, use the following options to control execution:\n",
    "- **Continue**: Resume code execution until the next breakpoint.\n",
    "- **Step Over**: Move to the next line within the current function.\n",
    "- **Step Into**: Enter into a function call to debug it line by line.\n",
    "- **Inspect Variables**: The debugger panel displays variable values, letting you inspect them at each breakpoint.\n",
    "\n",
    "### Example Code with Debugger"
   ]
  },
  {
   "cell_type": "code",
   "execution_count": null,
   "metadata": {
    "vscode": {
     "languageId": "plaintext"
    }
   },
   "outputs": [],
   "source": [
    "def divide_numbers(a, b):\n",
    "    result = a / b  # Set a breakpoint here to check values of 'a' and 'b'\n",
    "    return result\n",
    "\n",
    "divide_numbers(10, 0)  # This will throw an error due to division by zero"
   ]
  },
  {
   "cell_type": "markdown",
   "metadata": {},
   "source": [
    "\n",
    "\n",
    "### Exiting Debug Mode\n",
    "\n",
    "Once you are done debugging, you can click **Stop Debugging** to exit debug mode and resume regular code execution.\n",
    "\n",
    "### Troubleshooting\n",
    "\n",
    "If the debugger option is unavailable, ensure:\n",
    "- You are using Jupyter Notebook 7 or later.\n",
    "- You have a compatible kernel installed.\n",
    "\n",
    "The debugger in Jupyter Notebook 7 allows you to diagnose issues within your code interactively, making it a powerful tool for troubleshooting and understanding your code."
   ]
  }
 ],
 "metadata": {
  "language_info": {
   "name": "python"
  }
 },
 "nbformat": 4,
 "nbformat_minor": 2
}