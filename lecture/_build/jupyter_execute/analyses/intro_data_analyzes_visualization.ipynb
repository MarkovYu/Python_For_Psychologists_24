{
 "cells": [
  {
   "cell_type": "markdown",
   "metadata": {},
   "source": [
    "# Data analyzes I - basics in data handling\n",
    "\n",
    "Edited by [Yury Markov (he/him)](https://www.y-markov.com/)\n",
    "[Peer Herholz (he/him)](https://peerherholz.github.io/)  \n",
    "Habilitation candidate  - [Fiebach Lab](http://www.fiebachlab.org/), [Neurocognitive Psychology](https://www.psychologie.uni-frankfurt.de/49868684/Abteilungen) at [Goethe-University Frankfurt](https://www.goethe-university-frankfurt.de/en?locale=en)    \n",
    "Research affiliate - [NeuroDataScience lab](https://neurodatascience.github.io/) at [MNI](https://www.mcgill.ca/neuro/)/[McGill](https://www.mcgill.ca/)  \n",
    "Member - [BIDS](https://bids-specification.readthedocs.io/en/stable/), [ReproNim](https://www.repronim.org/), [Brainhack](https://brainhack.org/), [Neuromod](https://www.cneuromod.ca/), [OHBM SEA-SIG](https://ohbm-environment.org/), [UNIQUE](https://sites.google.com/view/unique-neuro-ai)  \n",
    "\n",
    "<img align=\"left\" src=\"https://raw.githubusercontent.com/G0RELLA/gorella_mwn/master/lecture/static/Twitter%20social%20icons%20-%20circle%20-%20blue.png\" alt=\"logo\" title=\"Twitter\" width=\"32\" height=\"20\" /> <img align=\"left\" src=\"https://raw.githubusercontent.com/G0RELLA/gorella_mwn/master/lecture/static/GitHub-Mark-120px-plus.png\" alt=\"logo\" title=\"Github\" width=\"30\" height=\"20\" />   &nbsp;&nbsp;@peerherholz \n",
    "\n"
   ]
  },
  {
   "cell_type": "markdown",
   "metadata": {
    "slideshow": {
     "slide_type": "slide"
    }
   },
   "source": [
    "## Before we get started ...\n",
    "<br>\n",
    "\n",
    "- most of what you’ll see within this lecture was prepared by Ross Markello, Michael Notter and Peer Herholz and further adapted for this course by Peer Herholz \n",
    "- based on Tal Yarkoni's [\"Introduction to Python\" lecture at Neurohackademy 2019](https://neurohackademy.org/course/introduction-to-python-2/)\n",
    "- based on [10 minutes to pandas](https://pandas.pydata.org/pandas-docs/stable/user_guide/10min.html)"
   ]
  },
  {
   "cell_type": "markdown",
   "metadata": {
    "slideshow": {
     "slide_type": "slide"
    }
   },
   "source": [
    "## Objectives 📍\n",
    "\n",
    "* learn basic and efficient usage of python for data analyzes & visualization\n",
    "    * working with data: \n",
    "        * reading, working, writing\n",
    "        * preprocessing, filtering, wrangling\n",
    "    * visualizing data:\n",
    "        * basic plots\n",
    "        * advanced & fancy stuff"
   ]
  },
  {
   "cell_type": "markdown",
   "metadata": {
    "slideshow": {
     "slide_type": "slide"
    }
   },
   "source": [
    "## Why do data science in Python?\n",
    "\n",
    "* all the general benefits of the `Python language` (`open source`, fast, etc.)\n",
    "    * Specifically, it's a **widely used/very flexible**, **high-level**, **general-purpose**, **dynamic** programming language\n",
    "* the `Python ecosystem` contains tens of thousands of packages, several are very widely used in data science applications:\n",
    "    * Jupyter: interactive notebooks\n",
    "    * Numpy: numerical computing in Python\n",
    "    * pandas: data structures for Python\n",
    "    * pingouin: statistics in Python\n",
    "    * statsmodels: statistics in Python    \n",
    "    * seaborn: data visualization in Python    \n",
    "    * plotly: interactive data visualization in Python    \n",
    "    * Scipy: scientific Python tools\n",
    "    * Matplotlib: plotting in Python\n",
    "    * scikit-learn: machine learning in Python"
   ]
  },
  {
   "cell_type": "markdown",
   "metadata": {
    "slideshow": {
     "slide_type": "subslide"
    }
   },
   "source": [
    "* even more: `Python` has very good (often best-in-class) external packages for almost everything\n",
    "* Particularly important for data science, which draws on a very broad toolkit\n",
    "* Package management is easy (conda, pip)\n",
    "* Examples for further important/central python data science packages :\n",
    "    * Web development: flask, Django\n",
    "    * Database ORMs: SQLAlchemy, Django ORM (w/ adapters for all major DBs)\n",
    "    * Scraping/parsing text/markup: beautifulsoup, scrapy\n",
    "    * Natural language processing (NLP): nltk, gensim, textblob\n",
    "    * Numerical computation and data analysis: numpy, scipy, pandas, xarray\n",
    "    * Machine learning: scikit-learn, Tensorflow, keras\n",
    "    * Image processing: pillow, scikit-image, OpenCV\n",
    "    * Plotting: matplotlib, seaborn, altair, ggplot, Bokeh\n",
    "    * GUI development: pyQT, wxPython\n",
    "    * Testing: py.test"
   ]
  },
  {
   "cell_type": "markdown",
   "metadata": {
    "slideshow": {
     "slide_type": "subslide"
    }
   },
   "source": [
    "### Widely-used\n",
    "* Python is the fastest-growing major programming language\n",
    "* Top 3 overall (with JavaScript, Java)"
   ]
  },
  {
   "cell_type": "markdown",
   "metadata": {
    "slideshow": {
     "slide_type": "slide"
    }
   },
   "source": [
    "What we will do in this section of the course is a _short_ introduction to `Python` for `data analyses` including basic `data operations` like `file reading` and `wrangling`, as well as `statistics` and `data visualization`. The goal is to showcase crucial tools/resources and their underlying working principles to allow further more in-depth exploration and direct application. \n",
    "\n",
    "It is divided into the following chapters:\n",
    "\n",
    "- [Getting ready]()\n",
    "- [Basic data operations]()\n",
    "    - [Reading data]()\n",
    "    - [Exploring data]()\n",
    "- [Basic data visualization]()    \n",
    "    - [Underlying principles]()\n",
    "    - [\"standard\" plots]()\n",
    "    - [Going further with advanced plots]()\n",
    "- [Statistics in python]()\n",
    "    - [Descriptive analyses]()\n",
    "    - [Inferential analyses]()\n",
    "- [Interactive data visualization]()"
   ]
  },
  {
   "cell_type": "markdown",
   "metadata": {
    "slideshow": {
     "slide_type": "subslide"
    }
   },
   "source": [
    "Here's what we will focus on in the first block:\n",
    "\n",
    "- [Getting ready]()\n",
    "- [Basic data operations]()\n",
    "    - [Reading data]()\n",
    "    - [Exploring data]()\n",
    "    - [Data wrangling]()"
   ]
  },
  {
   "cell_type": "markdown",
   "metadata": {
    "slideshow": {
     "slide_type": "slide"
    }
   },
   "source": [
    "## Getting ready\n",
    "\n",
    "What's the first thing we have to check/evaluate before we start working with data, no matter if in `Python` or any other software? That's right: getting everything ready! \n",
    "\n",
    "This includes outlining the core workflow and respective steps. Quite often, this notebook and its content included, this entails the following:\n",
    "\n",
    "1. What kind of data do I have and where is it?\n",
    "2. What is the goal of the data analyses?\n",
    "3. How will the respective steps be implemented?\n",
    "\n",
    "So let's check these aspects out in slightly more detail."
   ]
  },
  {
   "cell_type": "markdown",
   "metadata": {},
   "source": [
    "Lets Download our dataset first: [link](https://drive.google.com/file/d/1dZl128I6BgKFA3OwHP62roahlg-HYPvb/view?usp=sharing).\n",
    "This dataset is based on Demo Stroop experiment from [Psychopy](https://gitlab.pavlovia.org/demos/stroop)"
   ]
  },
  {
   "cell_type": "markdown",
   "metadata": {
    "slideshow": {
     "slide_type": "subslide"
    }
   },
   "source": [
    "### What kind of data do I have and where is it\n",
    "\n",
    "The first crucial step is to get a brief idea of the kind of data we have, where it is, etc. to outline the subsequent parts of the workflow (`python modules` to use, analyses to conduct, etc.). At this point it's important to note that `Python` and its `modules` work tremendously well for basically all kinds of data out there, no matter if `behavior`, neuroimaging, etc. . To keep things rather simple, we will use a `behavioral dataset` that contains `ratings` and `demographic information` from a group of university students (ah, the classics...)."
   ]
  },
  {
   "cell_type": "markdown",
   "metadata": {
    "slideshow": {
     "slide_type": "subslide"
    }
   },
   "source": [
    "Knowing that all `data files` are located in a folder called `data_experiment` on our `desktop`, we will use the [os]() `module` to change our `current working directory` to our `desktop` to make things easier:"
   ]
  },
  {
   "cell_type": "code",
   "execution_count": 3,
   "metadata": {
    "slideshow": {
     "slide_type": "fragment"
    }
   },
   "outputs": [],
   "source": [
    "from os import chdir\n",
    "\n",
    "chdir('C:/Users/ika_m/OneDrive - Johann Wolfgang Goethe Universität/Documents/test_data')"
   ]
  },
  {
   "cell_type": "markdown",
   "metadata": {
    "slideshow": {
     "slide_type": "subslide"
    }
   },
   "source": [
    "Now we can actually already start using `Python` to explore things further. For example, we can use the [glob]() `module` to check what `files` are in this directory and obtain a respective `list`:"
   ]
  },
  {
   "cell_type": "code",
   "execution_count": 5,
   "metadata": {
    "slideshow": {
     "slide_type": "fragment"
    }
   },
   "outputs": [],
   "source": [
    "from glob import glob\n",
    "\n",
    "data_files = glob('*.csv')"
   ]
  },
  {
   "cell_type": "markdown",
   "metadata": {
    "slideshow": {
     "slide_type": "fragment"
    }
   },
   "source": [
    "As you can see, we provide a `path` as `input` to the `function` and end with an `*.csv` which means that we would like to gather all `files` that are in this `directory` that end with `.csv`. If you already know more about your `data`, you could also use other `expressions` and `patterns` to restrain the `file list` to files with a certain name or `extension`."
   ]
  },
  {
   "cell_type": "markdown",
   "metadata": {
    "slideshow": {
     "slide_type": "subslide"
    }
   },
   "source": [
    "So let's see what we got. Remember, the function should output a `list` of all `files` in the specified `directory`.  "
   ]
  },
  {
   "cell_type": "code",
   "execution_count": 7,
   "metadata": {
    "slideshow": {
     "slide_type": "fragment"
    }
   },
   "outputs": [
    {
     "data": {
      "text/plain": [
       "['AG_01_02_stroop_2025-01-23_13h12.02.354.csv',\n",
       " 'BF_31_01_stroop_2025-01-23_12h25.25.690.csv',\n",
       " 'BF_31_02_stroop_2025-01-23_13h12.43.710.csv',\n",
       " 'FB_09_02_stroop_2025-01-23_13h12.14.223.csv',\n",
       " 'FB_09_03_stroop_2025-01-23_13h30.49.889.csv',\n",
       " 'FK_24_01_stroop_2025-01-23_12h36.23.128.csv',\n",
       " 'JB_22_01_stroop_2025-01-23_12h29.58.313.csv',\n",
       " 'JB_22_02_stroop_2025-01-23_13h13.20.521.csv',\n",
       " 'JB_22_03_stroop_2025-01-23_13h32.52.317.csv',\n",
       " 'XY_16_03_stroop_2025-01-23_13h31.18.706.csv']"
      ]
     },
     "execution_count": 7,
     "metadata": {},
     "output_type": "execute_result"
    }
   ],
   "source": [
    "data_files"
   ]
  },
  {
   "cell_type": "markdown",
   "metadata": {
    "slideshow": {
     "slide_type": "subslide"
    }
   },
   "source": [
    "Coolio, that worked. We get a `list` indicating all `files` as `items` in the form of `strings`. We also see that we get the `relative paths` and that our `files` are in `.csv` format. Having everything in a `list`, we can make use of this great `python` `data type` and e.g. check how many `files` we have, as well as if we have a `file` for every `participant` (should be `10`).      "
   ]
  },
  {
   "cell_type": "code",
   "execution_count": 11,
   "metadata": {
    "slideshow": {
     "slide_type": "subslide"
    }
   },
   "outputs": [
    {
     "name": "stdout",
     "output_type": "stream",
     "text": [
      "10\n",
      "The number of data files matches the number of participants.\n"
     ]
    }
   ],
   "source": [
    "print(len(data_files))\n",
    "\n",
    "if len(data_files)==10:\n",
    "    print('The number of data files matches the number of participants.')\n",
    "elif len(data_files) > 10:\n",
    "    print('There are %s more data files than participants.' %str(int(len(data_files)-19)))\n",
    "elif len(data_files) < 10:\n",
    "    print('There are %s data files missing.' %str(19-len(data_files)))"
   ]
  },
  {
   "cell_type": "markdown",
   "metadata": {
    "slideshow": {
     "slide_type": "subslide"
    }
   },
   "source": [
    "We also saw that some `files` contain a `' '`, i.e. `space`, and knowing that this can cause major problems when coding `analyzes`, we will use `python` again to `rename` them. Specifically, we will use the [rename]() `function` of the [os]() `module`. It expects the `old file name` and the `new file name` as `positional arguments`, i.e. `os.rename(old_file_name, new_file_name)`. While renaming, we follow \"best practices\" and will `replace` the `space` with an `_`. In order to avoid doing this manually for all `files`, we will just use a combination of a `for loop` and an `if statement`:"
   ]
  },
  {
   "cell_type": "code",
   "execution_count": 14,
   "metadata": {
    "slideshow": {
     "slide_type": "fragment"
    }
   },
   "outputs": [],
   "source": [
    "from os import rename\n",
    "\n",
    "for file in data_files:\n",
    "    if ' ' in file:\n",
    "        rename(file, file.replace(' ', \"_\"))"
   ]
  },
  {
   "cell_type": "code",
   "execution_count": 16,
   "metadata": {
    "slideshow": {
     "slide_type": "fragment"
    }
   },
   "outputs": [
    {
     "data": {
      "text/plain": [
       "['AG_01_02_stroop_2025-01-23_13h12.02.354.csv',\n",
       " 'BF_31_01_stroop_2025-01-23_12h25.25.690.csv',\n",
       " 'BF_31_02_stroop_2025-01-23_13h12.43.710.csv',\n",
       " 'FB_09_02_stroop_2025-01-23_13h12.14.223.csv',\n",
       " 'FB_09_03_stroop_2025-01-23_13h30.49.889.csv',\n",
       " 'FK_24_01_stroop_2025-01-23_12h36.23.128.csv',\n",
       " 'JB_22_01_stroop_2025-01-23_12h29.58.313.csv',\n",
       " 'JB_22_02_stroop_2025-01-23_13h13.20.521.csv',\n",
       " 'JB_22_03_stroop_2025-01-23_13h32.52.317.csv',\n",
       " 'XY_16_03_stroop_2025-01-23_13h31.18.706.csv']"
      ]
     },
     "execution_count": 16,
     "metadata": {},
     "output_type": "execute_result"
    }
   ],
   "source": [
    "data_files = glob('*.csv')\n",
    "\n",
    "data_files"
   ]
  },
  {
   "cell_type": "markdown",
   "metadata": {
    "slideshow": {
     "slide_type": "subslide"
    }
   },
   "source": [
    "### What is the goal of the data analyzes\n",
    "\n",
    "There obviously many different routes we could pursue when it comes to `analyzing data`. Ideally, we would know that before starting (`pre-registration` much?) but we all know how these things go... For the `dataset` at hand analyzes and respective steps will be on the rather exploratory side of things. How about the following:\n",
    "\n",
    "- read in single participant data\n",
    "- explore single participant data\n",
    "- extract needed data from single participant data\n",
    "- convert extracted data to more intelligible form\n",
    "    - repeat for all participant data\n",
    "    - combine all participant data in one file\n",
    "- explore data from all participants\n",
    "    - general overview\n",
    "    - basic plots\n",
    "- analyze data from all participant\n",
    "    - descriptive stats\n",
    "    - inferential stats\n",
    "        \n",
    "Sounds roughly right, so how we will implement/conduct these steps?        "
   ]
  },
  {
   "cell_type": "markdown",
   "metadata": {
    "slideshow": {
     "slide_type": "subslide"
    }
   },
   "source": [
    "### How will the respective steps be implemented\n",
    "\n",
    "After creating some sort of outline/workflow, we need to think about the respective steps in more detail and set overarching principles. Regarding the former, it's good to have a first idea of potentially useful `python modules` to use. Given the pointers above, this include entail the following:\n",
    "\n",
    "- [numpy]() and [pandas]() for data wrangling/exploration\n",
    "- [matplolib](), [seaborn]() and [plotly]() for data visualization\n",
    "- [pingouin]() and [statsmodels]() for data analyzes/stats\n",
    "\n",
    "Regarding the second, we have to go back to standards and principles concerning computational work:\n",
    "\n",
    "- use a dedicated computing environment\n",
    "- provide all steps and analyzes in a reproducible form\n",
    "- nothing will be done manually, everything will be coded\n",
    "- provide as much documentation as possible\n",
    "\n",
    "**Important**: these aspects should be followed no matter what you're working on!\n",
    "\n",
    "So, after \"getting ready\" for our endeavours, it's time to actually start them via `basic data operations`."
   ]
  },
  {
   "cell_type": "markdown",
   "metadata": {
    "slideshow": {
     "slide_type": "slide"
    }
   },
   "source": [
    "## Basic data operations\n",
    "\n",
    "Given that we now know data a bit more, including the `number` and `file type`, we can utilize the obtained `list` and start working with the included `data files`. As mentioned above, we will do so via the following steps one would classically conduct during data analyzes. Throughout each step, we will get to know respective `python modules` and `functions` and work on `single participant` as well as `group data`.\n",
    "\n",
    "- [Reading data]()\n",
    "- [Exploring data]()\n",
    "- [Data wrangling]()"
   ]
  },
  {
   "cell_type": "markdown",
   "metadata": {
    "slideshow": {
     "slide_type": "subslide"
    }
   },
   "source": [
    "For `data` in `tabular form`, e.g. `.csv`, `.tsv`, such as we have, `pandas` will come to the rescue!\n",
    "\n",
    "<center><img src=\"https://miro.medium.com/max/1400/1*6d5dw6dPhy4vBp2vRW6uzw.png\" width=\"400px\" style=\"margin-bottom: 10px;\"></center>\n",
    "\n",
    "Nope, unfortunately not the cute fluffy animals but a `python module` of the same name. However make sure to check https://www.pandasinternational.org/ to see what you can do to help preserve cute fluffy fantastic animals."
   ]
  },
  {
   "cell_type": "markdown",
   "metadata": {
    "slideshow": {
     "slide_type": "subslide"
    }
   },
   "source": [
    "#### Pandas\n",
    "\n",
    "It is hard to describe how insanely useful and helpful the [pandas]() `python module` is. However, TL;DR: big time! It quickly became one of the standard and most used tools for various `data science` aspects and comes with a tremendous amount of `functions` for basically all data wrangling steps. Here is some core information:   \n",
    "\n",
    "- High-performance, easy-to-use `data structures` and `data analysis` tools\n",
    "- Provides structures very similar to `data frames` in `R` (or `tables` in `Matlab`)\n",
    "- Indeed, the primary data structure in `pandas` is a `dataframe`!\n",
    "- Has some `built-in` `plotting` functionality for exploring `data`\n",
    "- `pandas.DataFrame` structures seamlessly allowed for mixed `datatypes` (e.g., `int`, `float`, `string`, etc.)\n",
    "\n",
    "<center><img src=\"https://upload.wikimedia.org/wikipedia/commons/thumb/e/ed/Pandas_logo.svg/2560px-Pandas_logo.svg.png\" width=\"400px\" style=\"margin-bottom: 10px;\"></center>"
   ]
  },
  {
   "cell_type": "markdown",
   "metadata": {
    "slideshow": {
     "slide_type": "subslide"
    }
   },
   "source": [
    "<center><img src=\"https://pandas.pydata.org/docs/_images/02_io_readwrite.svg\" width=\"800px\" style=\"margin-bottom: 10px;\"></center>"
   ]
  },
  {
   "cell_type": "markdown",
   "metadata": {
    "slideshow": {
     "slide_type": "subslide"
    }
   },
   "source": [
    "<center><img src=\"https://pandas.pydata.org/docs/_images/01_table_dataframe.svg\" width=\"500px\" style=\"margin-bottom: 10px;\"></center>"
   ]
  },
  {
   "cell_type": "markdown",
   "metadata": {
    "slideshow": {
     "slide_type": "subslide"
    }
   },
   "source": [
    "Enough said, time to put it to the test on our `data`. First things first: `loading` the `data`. This should work way easier as compared to `numpy` as outlined above. We're going to import it and then check a few of its `functions` to get an idea of what might be helpful:"
   ]
  },
  {
   "cell_type": "code",
   "execution_count": 26,
   "metadata": {
    "slideshow": {
     "slide_type": "fragment"
    }
   },
   "outputs": [],
   "source": [
    "import pandas as pd"
   ]
  },
  {
   "cell_type": "markdown",
   "metadata": {
    "slideshow": {
     "slide_type": "fragment"
    },
    "solution2": "hidden",
    "solution2_first": true
   },
   "source": [
    "#### Exercise 3\n",
    "\n",
    "Having import `pandas`, how can we check its `functions`? Assuming you found out how: what `function` could be helpful and why?"
   ]
  },
  {
   "cell_type": "markdown",
   "metadata": {
    "solution2": "hidden"
   },
   "source": [
    "We can simply use `pd.` and `tab completion` to get the list of `available functions`."
   ]
  },
  {
   "cell_type": "code",
   "execution_count": 30,
   "metadata": {
    "solution2": "hidden"
   },
   "outputs": [
    {
     "ename": "SyntaxError",
     "evalue": "invalid syntax (3133375982.py, line 1)",
     "output_type": "error",
     "traceback": [
      "\u001b[1;36m  Cell \u001b[1;32mIn[30], line 1\u001b[1;36m\u001b[0m\n\u001b[1;33m    pd.\u001b[0m\n\u001b[1;37m       ^\u001b[0m\n\u001b[1;31mSyntaxError\u001b[0m\u001b[1;31m:\u001b[0m invalid syntax\n"
     ]
    }
   ],
   "source": [
    "pd."
   ]
  },
  {
   "cell_type": "markdown",
   "metadata": {
    "slideshow": {
     "slide_type": "subslide"
    }
   },
   "source": [
    "Don't know about you but the `read_csv` `function` appears to be a fitting candidate. Thus, lets try it out. (NB: did you see the `read_excel` `function`? That's how nice `python` and `pandas` are: they even allow you to work with `proprietary formats`!)"
   ]
  },
  {
   "cell_type": "code",
   "execution_count": 33,
   "metadata": {
    "slideshow": {
     "slide_type": "fragment"
    }
   },
   "outputs": [],
   "source": [
    "data_loaded = pd.read_csv(data_files[0], delimiter=';')"
   ]
  },
  {
   "cell_type": "markdown",
   "metadata": {
    "slideshow": {
     "slide_type": "fragment"
    }
   },
   "source": [
    "So, what kind of `data type` do we have now? "
   ]
  },
  {
   "cell_type": "code",
   "execution_count": 36,
   "metadata": {},
   "outputs": [
    {
     "data": {
      "text/plain": [
       "pandas.core.frame.DataFrame"
      ]
     },
     "execution_count": 36,
     "metadata": {},
     "output_type": "execute_result"
    }
   ],
   "source": [
    "type(data_loaded)"
   ]
  },
  {
   "cell_type": "markdown",
   "metadata": {
    "slideshow": {
     "slide_type": "subslide"
    }
   },
   "source": [
    "It's a `pandas DataFrame`, that comes with its own set of built-in `functions` (comparable to the other `data types` we already explored: `list`s, `string`s, `numpy arrays`, etc.). Before we go into the details here, we should check if the data is actually more intelligible now. To get a first idea and prevent getting all data at once, we can use `head()` to restrict the preview of our `data` to a certain number of rows, e.g. `10`:"
   ]
  },
  {
   "cell_type": "code",
   "execution_count": 38,
   "metadata": {},
   "outputs": [
    {
     "data": {
      "text/html": [
       "<div>\n",
       "<style scoped>\n",
       "    .dataframe tbody tr th:only-of-type {\n",
       "        vertical-align: middle;\n",
       "    }\n",
       "\n",
       "    .dataframe tbody tr th {\n",
       "        vertical-align: top;\n",
       "    }\n",
       "\n",
       "    .dataframe thead th {\n",
       "        text-align: right;\n",
       "    }\n",
       "</style>\n",
       "<table border=\"1\" class=\"dataframe\">\n",
       "  <thead>\n",
       "    <tr style=\"text-align: right;\">\n",
       "      <th></th>\n",
       "      <th>participant,session,date,expName,psychopyVersion,OS,frameRate,resp.keys,resp.corr,resp.rt,resp.duration,trials.thisRepN,trials.thisTrialN,trials.thisN,trials.thisIndex,trials.ran,text,letterColor,corrAns,congruent</th>\n",
       "    </tr>\n",
       "  </thead>\n",
       "  <tbody>\n",
       "    <tr>\n",
       "      <th>0</th>\n",
       "      <td>AG_01_02,001,2025-01-23_13h12.02.354,stroop,20...</td>\n",
       "    </tr>\n",
       "    <tr>\n",
       "      <th>1</th>\n",
       "      <td>AG_01_02,001,2025-01-23_13h12.02.354,stroop,20...</td>\n",
       "    </tr>\n",
       "    <tr>\n",
       "      <th>2</th>\n",
       "      <td>AG_01_02,001,2025-01-23_13h12.02.354,stroop,20...</td>\n",
       "    </tr>\n",
       "    <tr>\n",
       "      <th>3</th>\n",
       "      <td>AG_01_02,001,2025-01-23_13h12.02.354,stroop,20...</td>\n",
       "    </tr>\n",
       "    <tr>\n",
       "      <th>4</th>\n",
       "      <td>AG_01_02,001,2025-01-23_13h12.02.354,stroop,20...</td>\n",
       "    </tr>\n",
       "    <tr>\n",
       "      <th>5</th>\n",
       "      <td>AG_01_02,001,2025-01-23_13h12.02.354,stroop,20...</td>\n",
       "    </tr>\n",
       "    <tr>\n",
       "      <th>6</th>\n",
       "      <td>AG_01_02,001,2025-01-23_13h12.02.354,stroop,20...</td>\n",
       "    </tr>\n",
       "    <tr>\n",
       "      <th>7</th>\n",
       "      <td>AG_01_02,001,2025-01-23_13h12.02.354,stroop,20...</td>\n",
       "    </tr>\n",
       "    <tr>\n",
       "      <th>8</th>\n",
       "      <td>AG_01_02,001,2025-01-23_13h12.02.354,stroop,20...</td>\n",
       "    </tr>\n",
       "    <tr>\n",
       "      <th>9</th>\n",
       "      <td>AG_01_02,001,2025-01-23_13h12.02.354,stroop,20...</td>\n",
       "    </tr>\n",
       "  </tbody>\n",
       "</table>\n",
       "</div>"
      ],
      "text/plain": [
       "  participant,session,date,expName,psychopyVersion,OS,frameRate,resp.keys,resp.corr,resp.rt,resp.duration,trials.thisRepN,trials.thisTrialN,trials.thisN,trials.thisIndex,trials.ran,text,letterColor,corrAns,congruent\n",
       "0  AG_01_02,001,2025-01-23_13h12.02.354,stroop,20...                                                                                                                                                                   \n",
       "1  AG_01_02,001,2025-01-23_13h12.02.354,stroop,20...                                                                                                                                                                   \n",
       "2  AG_01_02,001,2025-01-23_13h12.02.354,stroop,20...                                                                                                                                                                   \n",
       "3  AG_01_02,001,2025-01-23_13h12.02.354,stroop,20...                                                                                                                                                                   \n",
       "4  AG_01_02,001,2025-01-23_13h12.02.354,stroop,20...                                                                                                                                                                   \n",
       "5  AG_01_02,001,2025-01-23_13h12.02.354,stroop,20...                                                                                                                                                                   \n",
       "6  AG_01_02,001,2025-01-23_13h12.02.354,stroop,20...                                                                                                                                                                   \n",
       "7  AG_01_02,001,2025-01-23_13h12.02.354,stroop,20...                                                                                                                                                                   \n",
       "8  AG_01_02,001,2025-01-23_13h12.02.354,stroop,20...                                                                                                                                                                   \n",
       "9  AG_01_02,001,2025-01-23_13h12.02.354,stroop,20...                                                                                                                                                                   "
      ]
     },
     "execution_count": 38,
     "metadata": {},
     "output_type": "execute_result"
    }
   ],
   "source": [
    "data_loaded.head(n=10)"
   ]
  },
  {
   "cell_type": "markdown",
   "metadata": {
    "slideshow": {
     "slide_type": "subslide"
    }
   },
   "source": [
    "Hm, our `data` seems not correctly formatted...what happened? "
   ]
  },
  {
   "cell_type": "markdown",
   "metadata": {
    "slideshow": {
     "slide_type": "fragment"
    }
   },
   "source": [
    "The answer is comparably straightforward: our `data` is in a `.csv` which stands for `comma-separated-values`, i.e. \"things\" or `values` in our `data` should be separated by a `,`. This is also referred to as the `delimiter` and is something you should always watch out for: what kind of file is it, was the intended `delimiter` actually used, etc. .\n",
    "However, we told the `read_csv` `function` that the `delimiter` is `;` instead of `,` and thus the `data` was read in wrong. We can easily fix that via setting the right `delimiter` (or just using the `default` of the respective `keyword argument`):\n"
   ]
  },
  {
   "cell_type": "code",
   "execution_count": 42,
   "metadata": {},
   "outputs": [],
   "source": [
    "data_loaded = pd.read_csv(data_files[0], delimiter=',')"
   ]
  },
  {
   "cell_type": "markdown",
   "metadata": {
    "slideshow": {
     "slide_type": "subslide"
    }
   },
   "source": [
    "How does our `data` look now?"
   ]
  },
  {
   "cell_type": "code",
   "execution_count": 45,
   "metadata": {},
   "outputs": [
    {
     "data": {
      "text/html": [
       "<div>\n",
       "<style scoped>\n",
       "    .dataframe tbody tr th:only-of-type {\n",
       "        vertical-align: middle;\n",
       "    }\n",
       "\n",
       "    .dataframe tbody tr th {\n",
       "        vertical-align: top;\n",
       "    }\n",
       "\n",
       "    .dataframe thead th {\n",
       "        text-align: right;\n",
       "    }\n",
       "</style>\n",
       "<table border=\"1\" class=\"dataframe\">\n",
       "  <thead>\n",
       "    <tr style=\"text-align: right;\">\n",
       "      <th></th>\n",
       "      <th>participant</th>\n",
       "      <th>session</th>\n",
       "      <th>date</th>\n",
       "      <th>expName</th>\n",
       "      <th>psychopyVersion</th>\n",
       "      <th>OS</th>\n",
       "      <th>frameRate</th>\n",
       "      <th>resp.keys</th>\n",
       "      <th>resp.corr</th>\n",
       "      <th>resp.rt</th>\n",
       "      <th>resp.duration</th>\n",
       "      <th>trials.thisRepN</th>\n",
       "      <th>trials.thisTrialN</th>\n",
       "      <th>trials.thisN</th>\n",
       "      <th>trials.thisIndex</th>\n",
       "      <th>trials.ran</th>\n",
       "      <th>text</th>\n",
       "      <th>letterColor</th>\n",
       "      <th>corrAns</th>\n",
       "      <th>congruent</th>\n",
       "    </tr>\n",
       "  </thead>\n",
       "  <tbody>\n",
       "    <tr>\n",
       "      <th>0</th>\n",
       "      <td>AG_01_02</td>\n",
       "      <td>1</td>\n",
       "      <td>2025-01-23_13h12.02.354</td>\n",
       "      <td>stroop</td>\n",
       "      <td>2023.1.3</td>\n",
       "      <td>MacIntel</td>\n",
       "      <td>20.408163</td>\n",
       "      <td>NaN</td>\n",
       "      <td>NaN</td>\n",
       "      <td>NaN</td>\n",
       "      <td>NaN</td>\n",
       "      <td>NaN</td>\n",
       "      <td>NaN</td>\n",
       "      <td>NaN</td>\n",
       "      <td>NaN</td>\n",
       "      <td>NaN</td>\n",
       "      <td>NaN</td>\n",
       "      <td>NaN</td>\n",
       "      <td>NaN</td>\n",
       "      <td>NaN</td>\n",
       "    </tr>\n",
       "    <tr>\n",
       "      <th>1</th>\n",
       "      <td>AG_01_02</td>\n",
       "      <td>1</td>\n",
       "      <td>2025-01-23_13h12.02.354</td>\n",
       "      <td>stroop</td>\n",
       "      <td>2023.1.3</td>\n",
       "      <td>MacIntel</td>\n",
       "      <td>20.408163</td>\n",
       "      <td>left</td>\n",
       "      <td>1.0</td>\n",
       "      <td>0.635</td>\n",
       "      <td>NaN</td>\n",
       "      <td>0.0</td>\n",
       "      <td>0.0</td>\n",
       "      <td>0.0</td>\n",
       "      <td>5.0</td>\n",
       "      <td>1.0</td>\n",
       "      <td>blue</td>\n",
       "      <td>red</td>\n",
       "      <td>left</td>\n",
       "      <td>0.0</td>\n",
       "    </tr>\n",
       "    <tr>\n",
       "      <th>2</th>\n",
       "      <td>AG_01_02</td>\n",
       "      <td>1</td>\n",
       "      <td>2025-01-23_13h12.02.354</td>\n",
       "      <td>stroop</td>\n",
       "      <td>2023.1.3</td>\n",
       "      <td>MacIntel</td>\n",
       "      <td>20.408163</td>\n",
       "      <td>down</td>\n",
       "      <td>1.0</td>\n",
       "      <td>0.342</td>\n",
       "      <td>NaN</td>\n",
       "      <td>0.0</td>\n",
       "      <td>1.0</td>\n",
       "      <td>1.0</td>\n",
       "      <td>2.0</td>\n",
       "      <td>1.0</td>\n",
       "      <td>green</td>\n",
       "      <td>green</td>\n",
       "      <td>down</td>\n",
       "      <td>1.0</td>\n",
       "    </tr>\n",
       "    <tr>\n",
       "      <th>3</th>\n",
       "      <td>AG_01_02</td>\n",
       "      <td>1</td>\n",
       "      <td>2025-01-23_13h12.02.354</td>\n",
       "      <td>stroop</td>\n",
       "      <td>2023.1.3</td>\n",
       "      <td>MacIntel</td>\n",
       "      <td>20.408163</td>\n",
       "      <td>left</td>\n",
       "      <td>0.0</td>\n",
       "      <td>0.641</td>\n",
       "      <td>NaN</td>\n",
       "      <td>0.0</td>\n",
       "      <td>2.0</td>\n",
       "      <td>2.0</td>\n",
       "      <td>1.0</td>\n",
       "      <td>1.0</td>\n",
       "      <td>red</td>\n",
       "      <td>green</td>\n",
       "      <td>down</td>\n",
       "      <td>0.0</td>\n",
       "    </tr>\n",
       "    <tr>\n",
       "      <th>4</th>\n",
       "      <td>AG_01_02</td>\n",
       "      <td>1</td>\n",
       "      <td>2025-01-23_13h12.02.354</td>\n",
       "      <td>stroop</td>\n",
       "      <td>2023.1.3</td>\n",
       "      <td>MacIntel</td>\n",
       "      <td>20.408163</td>\n",
       "      <td>right</td>\n",
       "      <td>1.0</td>\n",
       "      <td>1.076</td>\n",
       "      <td>NaN</td>\n",
       "      <td>0.0</td>\n",
       "      <td>3.0</td>\n",
       "      <td>3.0</td>\n",
       "      <td>3.0</td>\n",
       "      <td>1.0</td>\n",
       "      <td>green</td>\n",
       "      <td>blue</td>\n",
       "      <td>right</td>\n",
       "      <td>0.0</td>\n",
       "    </tr>\n",
       "    <tr>\n",
       "      <th>5</th>\n",
       "      <td>AG_01_02</td>\n",
       "      <td>1</td>\n",
       "      <td>2025-01-23_13h12.02.354</td>\n",
       "      <td>stroop</td>\n",
       "      <td>2023.1.3</td>\n",
       "      <td>MacIntel</td>\n",
       "      <td>20.408163</td>\n",
       "      <td>right</td>\n",
       "      <td>1.0</td>\n",
       "      <td>0.680</td>\n",
       "      <td>NaN</td>\n",
       "      <td>0.0</td>\n",
       "      <td>4.0</td>\n",
       "      <td>4.0</td>\n",
       "      <td>4.0</td>\n",
       "      <td>1.0</td>\n",
       "      <td>blue</td>\n",
       "      <td>blue</td>\n",
       "      <td>right</td>\n",
       "      <td>1.0</td>\n",
       "    </tr>\n",
       "    <tr>\n",
       "      <th>6</th>\n",
       "      <td>AG_01_02</td>\n",
       "      <td>1</td>\n",
       "      <td>2025-01-23_13h12.02.354</td>\n",
       "      <td>stroop</td>\n",
       "      <td>2023.1.3</td>\n",
       "      <td>MacIntel</td>\n",
       "      <td>20.408163</td>\n",
       "      <td>left</td>\n",
       "      <td>1.0</td>\n",
       "      <td>0.769</td>\n",
       "      <td>NaN</td>\n",
       "      <td>0.0</td>\n",
       "      <td>5.0</td>\n",
       "      <td>5.0</td>\n",
       "      <td>0.0</td>\n",
       "      <td>1.0</td>\n",
       "      <td>red</td>\n",
       "      <td>red</td>\n",
       "      <td>left</td>\n",
       "      <td>1.0</td>\n",
       "    </tr>\n",
       "    <tr>\n",
       "      <th>7</th>\n",
       "      <td>AG_01_02</td>\n",
       "      <td>1</td>\n",
       "      <td>2025-01-23_13h12.02.354</td>\n",
       "      <td>stroop</td>\n",
       "      <td>2023.1.3</td>\n",
       "      <td>MacIntel</td>\n",
       "      <td>20.408163</td>\n",
       "      <td>left</td>\n",
       "      <td>1.0</td>\n",
       "      <td>0.981</td>\n",
       "      <td>NaN</td>\n",
       "      <td>1.0</td>\n",
       "      <td>0.0</td>\n",
       "      <td>6.0</td>\n",
       "      <td>5.0</td>\n",
       "      <td>1.0</td>\n",
       "      <td>blue</td>\n",
       "      <td>red</td>\n",
       "      <td>left</td>\n",
       "      <td>0.0</td>\n",
       "    </tr>\n",
       "    <tr>\n",
       "      <th>8</th>\n",
       "      <td>AG_01_02</td>\n",
       "      <td>1</td>\n",
       "      <td>2025-01-23_13h12.02.354</td>\n",
       "      <td>stroop</td>\n",
       "      <td>2023.1.3</td>\n",
       "      <td>MacIntel</td>\n",
       "      <td>20.408163</td>\n",
       "      <td>down</td>\n",
       "      <td>1.0</td>\n",
       "      <td>0.747</td>\n",
       "      <td>NaN</td>\n",
       "      <td>1.0</td>\n",
       "      <td>1.0</td>\n",
       "      <td>7.0</td>\n",
       "      <td>2.0</td>\n",
       "      <td>1.0</td>\n",
       "      <td>green</td>\n",
       "      <td>green</td>\n",
       "      <td>down</td>\n",
       "      <td>1.0</td>\n",
       "    </tr>\n",
       "    <tr>\n",
       "      <th>9</th>\n",
       "      <td>AG_01_02</td>\n",
       "      <td>1</td>\n",
       "      <td>2025-01-23_13h12.02.354</td>\n",
       "      <td>stroop</td>\n",
       "      <td>2023.1.3</td>\n",
       "      <td>MacIntel</td>\n",
       "      <td>20.408163</td>\n",
       "      <td>left</td>\n",
       "      <td>1.0</td>\n",
       "      <td>0.704</td>\n",
       "      <td>NaN</td>\n",
       "      <td>1.0</td>\n",
       "      <td>2.0</td>\n",
       "      <td>8.0</td>\n",
       "      <td>0.0</td>\n",
       "      <td>1.0</td>\n",
       "      <td>red</td>\n",
       "      <td>red</td>\n",
       "      <td>left</td>\n",
       "      <td>1.0</td>\n",
       "    </tr>\n",
       "  </tbody>\n",
       "</table>\n",
       "</div>"
      ],
      "text/plain": [
       "  participant  session                     date expName psychopyVersion  \\\n",
       "0    AG_01_02        1  2025-01-23_13h12.02.354  stroop        2023.1.3   \n",
       "1    AG_01_02        1  2025-01-23_13h12.02.354  stroop        2023.1.3   \n",
       "2    AG_01_02        1  2025-01-23_13h12.02.354  stroop        2023.1.3   \n",
       "3    AG_01_02        1  2025-01-23_13h12.02.354  stroop        2023.1.3   \n",
       "4    AG_01_02        1  2025-01-23_13h12.02.354  stroop        2023.1.3   \n",
       "5    AG_01_02        1  2025-01-23_13h12.02.354  stroop        2023.1.3   \n",
       "6    AG_01_02        1  2025-01-23_13h12.02.354  stroop        2023.1.3   \n",
       "7    AG_01_02        1  2025-01-23_13h12.02.354  stroop        2023.1.3   \n",
       "8    AG_01_02        1  2025-01-23_13h12.02.354  stroop        2023.1.3   \n",
       "9    AG_01_02        1  2025-01-23_13h12.02.354  stroop        2023.1.3   \n",
       "\n",
       "         OS  frameRate resp.keys  resp.corr  resp.rt  resp.duration  \\\n",
       "0  MacIntel  20.408163       NaN        NaN      NaN            NaN   \n",
       "1  MacIntel  20.408163      left        1.0    0.635            NaN   \n",
       "2  MacIntel  20.408163      down        1.0    0.342            NaN   \n",
       "3  MacIntel  20.408163      left        0.0    0.641            NaN   \n",
       "4  MacIntel  20.408163     right        1.0    1.076            NaN   \n",
       "5  MacIntel  20.408163     right        1.0    0.680            NaN   \n",
       "6  MacIntel  20.408163      left        1.0    0.769            NaN   \n",
       "7  MacIntel  20.408163      left        1.0    0.981            NaN   \n",
       "8  MacIntel  20.408163      down        1.0    0.747            NaN   \n",
       "9  MacIntel  20.408163      left        1.0    0.704            NaN   \n",
       "\n",
       "   trials.thisRepN  trials.thisTrialN  trials.thisN  trials.thisIndex  \\\n",
       "0              NaN                NaN           NaN               NaN   \n",
       "1              0.0                0.0           0.0               5.0   \n",
       "2              0.0                1.0           1.0               2.0   \n",
       "3              0.0                2.0           2.0               1.0   \n",
       "4              0.0                3.0           3.0               3.0   \n",
       "5              0.0                4.0           4.0               4.0   \n",
       "6              0.0                5.0           5.0               0.0   \n",
       "7              1.0                0.0           6.0               5.0   \n",
       "8              1.0                1.0           7.0               2.0   \n",
       "9              1.0                2.0           8.0               0.0   \n",
       "\n",
       "   trials.ran   text letterColor corrAns  congruent  \n",
       "0         NaN    NaN         NaN     NaN        NaN  \n",
       "1         1.0   blue         red    left        0.0  \n",
       "2         1.0  green       green    down        1.0  \n",
       "3         1.0    red       green    down        0.0  \n",
       "4         1.0  green        blue   right        0.0  \n",
       "5         1.0   blue        blue   right        1.0  \n",
       "6         1.0    red         red    left        1.0  \n",
       "7         1.0   blue         red    left        0.0  \n",
       "8         1.0  green       green    down        1.0  \n",
       "9         1.0    red         red    left        1.0  "
      ]
     },
     "execution_count": 45,
     "metadata": {},
     "output_type": "execute_result"
    }
   ],
   "source": [
    "data_loaded.head(n=10)"
   ]
  },
  {
   "cell_type": "markdown",
   "metadata": {
    "slideshow": {
     "slide_type": "subslide"
    }
   },
   "source": [
    "Ah yes, that's it: we see `columns` and `rows` and respective `values` therein. It's intelligible and should now rather easily allow us to `explore` our data!\n",
    "\n",
    "<center><img src=\"https://pandas.pydata.org/docs/_images/01_table_dataframe.svg\" width=\"500px\" style=\"margin-bottom: 10px;\"></center>"
   ]
  },
  {
   "cell_type": "markdown",
   "metadata": {
    "slideshow": {
     "slide_type": "fragment"
    }
   },
   "source": [
    "So, what's the lesson here?\n",
    "\n",
    "- always check your data files regarding their format\n",
    "- always check delimiters\n",
    "- before you start implementing a lot of things manually, be lazy and \n",
    "  check if `python` has a dedicated `module` that will ease up these processes\n",
    "  (spoiler: mosts of the time it does!)"
   ]
  },
  {
   "cell_type": "markdown",
   "metadata": {
    "slideshow": {
     "slide_type": "slide"
    }
   },
   "source": [
    "### Exploring data\n",
    "\n",
    "Now that our `data` is loaded and apparently in the right form, we can start exploring it in more detail. As mentioned above, `pandas` makes this super easy and allows us to check various aspects of our `data`. First of all, let's bring it back."
   ]
  },
  {
   "cell_type": "code",
   "execution_count": 50,
   "metadata": {},
   "outputs": [
    {
     "data": {
      "text/html": [
       "<div>\n",
       "<style scoped>\n",
       "    .dataframe tbody tr th:only-of-type {\n",
       "        vertical-align: middle;\n",
       "    }\n",
       "\n",
       "    .dataframe tbody tr th {\n",
       "        vertical-align: top;\n",
       "    }\n",
       "\n",
       "    .dataframe thead th {\n",
       "        text-align: right;\n",
       "    }\n",
       "</style>\n",
       "<table border=\"1\" class=\"dataframe\">\n",
       "  <thead>\n",
       "    <tr style=\"text-align: right;\">\n",
       "      <th></th>\n",
       "      <th>participant</th>\n",
       "      <th>session</th>\n",
       "      <th>date</th>\n",
       "      <th>expName</th>\n",
       "      <th>psychopyVersion</th>\n",
       "      <th>OS</th>\n",
       "      <th>frameRate</th>\n",
       "      <th>resp.keys</th>\n",
       "      <th>resp.corr</th>\n",
       "      <th>resp.rt</th>\n",
       "      <th>resp.duration</th>\n",
       "      <th>trials.thisRepN</th>\n",
       "      <th>trials.thisTrialN</th>\n",
       "      <th>trials.thisN</th>\n",
       "      <th>trials.thisIndex</th>\n",
       "      <th>trials.ran</th>\n",
       "      <th>text</th>\n",
       "      <th>letterColor</th>\n",
       "      <th>corrAns</th>\n",
       "      <th>congruent</th>\n",
       "    </tr>\n",
       "  </thead>\n",
       "  <tbody>\n",
       "    <tr>\n",
       "      <th>0</th>\n",
       "      <td>AG_01_02</td>\n",
       "      <td>1</td>\n",
       "      <td>2025-01-23_13h12.02.354</td>\n",
       "      <td>stroop</td>\n",
       "      <td>2023.1.3</td>\n",
       "      <td>MacIntel</td>\n",
       "      <td>20.408163</td>\n",
       "      <td>NaN</td>\n",
       "      <td>NaN</td>\n",
       "      <td>NaN</td>\n",
       "      <td>NaN</td>\n",
       "      <td>NaN</td>\n",
       "      <td>NaN</td>\n",
       "      <td>NaN</td>\n",
       "      <td>NaN</td>\n",
       "      <td>NaN</td>\n",
       "      <td>NaN</td>\n",
       "      <td>NaN</td>\n",
       "      <td>NaN</td>\n",
       "      <td>NaN</td>\n",
       "    </tr>\n",
       "    <tr>\n",
       "      <th>1</th>\n",
       "      <td>AG_01_02</td>\n",
       "      <td>1</td>\n",
       "      <td>2025-01-23_13h12.02.354</td>\n",
       "      <td>stroop</td>\n",
       "      <td>2023.1.3</td>\n",
       "      <td>MacIntel</td>\n",
       "      <td>20.408163</td>\n",
       "      <td>left</td>\n",
       "      <td>1.0</td>\n",
       "      <td>0.635</td>\n",
       "      <td>NaN</td>\n",
       "      <td>0.0</td>\n",
       "      <td>0.0</td>\n",
       "      <td>0.0</td>\n",
       "      <td>5.0</td>\n",
       "      <td>1.0</td>\n",
       "      <td>blue</td>\n",
       "      <td>red</td>\n",
       "      <td>left</td>\n",
       "      <td>0.0</td>\n",
       "    </tr>\n",
       "    <tr>\n",
       "      <th>2</th>\n",
       "      <td>AG_01_02</td>\n",
       "      <td>1</td>\n",
       "      <td>2025-01-23_13h12.02.354</td>\n",
       "      <td>stroop</td>\n",
       "      <td>2023.1.3</td>\n",
       "      <td>MacIntel</td>\n",
       "      <td>20.408163</td>\n",
       "      <td>down</td>\n",
       "      <td>1.0</td>\n",
       "      <td>0.342</td>\n",
       "      <td>NaN</td>\n",
       "      <td>0.0</td>\n",
       "      <td>1.0</td>\n",
       "      <td>1.0</td>\n",
       "      <td>2.0</td>\n",
       "      <td>1.0</td>\n",
       "      <td>green</td>\n",
       "      <td>green</td>\n",
       "      <td>down</td>\n",
       "      <td>1.0</td>\n",
       "    </tr>\n",
       "    <tr>\n",
       "      <th>3</th>\n",
       "      <td>AG_01_02</td>\n",
       "      <td>1</td>\n",
       "      <td>2025-01-23_13h12.02.354</td>\n",
       "      <td>stroop</td>\n",
       "      <td>2023.1.3</td>\n",
       "      <td>MacIntel</td>\n",
       "      <td>20.408163</td>\n",
       "      <td>left</td>\n",
       "      <td>0.0</td>\n",
       "      <td>0.641</td>\n",
       "      <td>NaN</td>\n",
       "      <td>0.0</td>\n",
       "      <td>2.0</td>\n",
       "      <td>2.0</td>\n",
       "      <td>1.0</td>\n",
       "      <td>1.0</td>\n",
       "      <td>red</td>\n",
       "      <td>green</td>\n",
       "      <td>down</td>\n",
       "      <td>0.0</td>\n",
       "    </tr>\n",
       "    <tr>\n",
       "      <th>4</th>\n",
       "      <td>AG_01_02</td>\n",
       "      <td>1</td>\n",
       "      <td>2025-01-23_13h12.02.354</td>\n",
       "      <td>stroop</td>\n",
       "      <td>2023.1.3</td>\n",
       "      <td>MacIntel</td>\n",
       "      <td>20.408163</td>\n",
       "      <td>right</td>\n",
       "      <td>1.0</td>\n",
       "      <td>1.076</td>\n",
       "      <td>NaN</td>\n",
       "      <td>0.0</td>\n",
       "      <td>3.0</td>\n",
       "      <td>3.0</td>\n",
       "      <td>3.0</td>\n",
       "      <td>1.0</td>\n",
       "      <td>green</td>\n",
       "      <td>blue</td>\n",
       "      <td>right</td>\n",
       "      <td>0.0</td>\n",
       "    </tr>\n",
       "    <tr>\n",
       "      <th>5</th>\n",
       "      <td>AG_01_02</td>\n",
       "      <td>1</td>\n",
       "      <td>2025-01-23_13h12.02.354</td>\n",
       "      <td>stroop</td>\n",
       "      <td>2023.1.3</td>\n",
       "      <td>MacIntel</td>\n",
       "      <td>20.408163</td>\n",
       "      <td>right</td>\n",
       "      <td>1.0</td>\n",
       "      <td>0.680</td>\n",
       "      <td>NaN</td>\n",
       "      <td>0.0</td>\n",
       "      <td>4.0</td>\n",
       "      <td>4.0</td>\n",
       "      <td>4.0</td>\n",
       "      <td>1.0</td>\n",
       "      <td>blue</td>\n",
       "      <td>blue</td>\n",
       "      <td>right</td>\n",
       "      <td>1.0</td>\n",
       "    </tr>\n",
       "    <tr>\n",
       "      <th>6</th>\n",
       "      <td>AG_01_02</td>\n",
       "      <td>1</td>\n",
       "      <td>2025-01-23_13h12.02.354</td>\n",
       "      <td>stroop</td>\n",
       "      <td>2023.1.3</td>\n",
       "      <td>MacIntel</td>\n",
       "      <td>20.408163</td>\n",
       "      <td>left</td>\n",
       "      <td>1.0</td>\n",
       "      <td>0.769</td>\n",
       "      <td>NaN</td>\n",
       "      <td>0.0</td>\n",
       "      <td>5.0</td>\n",
       "      <td>5.0</td>\n",
       "      <td>0.0</td>\n",
       "      <td>1.0</td>\n",
       "      <td>red</td>\n",
       "      <td>red</td>\n",
       "      <td>left</td>\n",
       "      <td>1.0</td>\n",
       "    </tr>\n",
       "    <tr>\n",
       "      <th>7</th>\n",
       "      <td>AG_01_02</td>\n",
       "      <td>1</td>\n",
       "      <td>2025-01-23_13h12.02.354</td>\n",
       "      <td>stroop</td>\n",
       "      <td>2023.1.3</td>\n",
       "      <td>MacIntel</td>\n",
       "      <td>20.408163</td>\n",
       "      <td>left</td>\n",
       "      <td>1.0</td>\n",
       "      <td>0.981</td>\n",
       "      <td>NaN</td>\n",
       "      <td>1.0</td>\n",
       "      <td>0.0</td>\n",
       "      <td>6.0</td>\n",
       "      <td>5.0</td>\n",
       "      <td>1.0</td>\n",
       "      <td>blue</td>\n",
       "      <td>red</td>\n",
       "      <td>left</td>\n",
       "      <td>0.0</td>\n",
       "    </tr>\n",
       "    <tr>\n",
       "      <th>8</th>\n",
       "      <td>AG_01_02</td>\n",
       "      <td>1</td>\n",
       "      <td>2025-01-23_13h12.02.354</td>\n",
       "      <td>stroop</td>\n",
       "      <td>2023.1.3</td>\n",
       "      <td>MacIntel</td>\n",
       "      <td>20.408163</td>\n",
       "      <td>down</td>\n",
       "      <td>1.0</td>\n",
       "      <td>0.747</td>\n",
       "      <td>NaN</td>\n",
       "      <td>1.0</td>\n",
       "      <td>1.0</td>\n",
       "      <td>7.0</td>\n",
       "      <td>2.0</td>\n",
       "      <td>1.0</td>\n",
       "      <td>green</td>\n",
       "      <td>green</td>\n",
       "      <td>down</td>\n",
       "      <td>1.0</td>\n",
       "    </tr>\n",
       "    <tr>\n",
       "      <th>9</th>\n",
       "      <td>AG_01_02</td>\n",
       "      <td>1</td>\n",
       "      <td>2025-01-23_13h12.02.354</td>\n",
       "      <td>stroop</td>\n",
       "      <td>2023.1.3</td>\n",
       "      <td>MacIntel</td>\n",
       "      <td>20.408163</td>\n",
       "      <td>left</td>\n",
       "      <td>1.0</td>\n",
       "      <td>0.704</td>\n",
       "      <td>NaN</td>\n",
       "      <td>1.0</td>\n",
       "      <td>2.0</td>\n",
       "      <td>8.0</td>\n",
       "      <td>0.0</td>\n",
       "      <td>1.0</td>\n",
       "      <td>red</td>\n",
       "      <td>red</td>\n",
       "      <td>left</td>\n",
       "      <td>1.0</td>\n",
       "    </tr>\n",
       "  </tbody>\n",
       "</table>\n",
       "</div>"
      ],
      "text/plain": [
       "  participant  session                     date expName psychopyVersion  \\\n",
       "0    AG_01_02        1  2025-01-23_13h12.02.354  stroop        2023.1.3   \n",
       "1    AG_01_02        1  2025-01-23_13h12.02.354  stroop        2023.1.3   \n",
       "2    AG_01_02        1  2025-01-23_13h12.02.354  stroop        2023.1.3   \n",
       "3    AG_01_02        1  2025-01-23_13h12.02.354  stroop        2023.1.3   \n",
       "4    AG_01_02        1  2025-01-23_13h12.02.354  stroop        2023.1.3   \n",
       "5    AG_01_02        1  2025-01-23_13h12.02.354  stroop        2023.1.3   \n",
       "6    AG_01_02        1  2025-01-23_13h12.02.354  stroop        2023.1.3   \n",
       "7    AG_01_02        1  2025-01-23_13h12.02.354  stroop        2023.1.3   \n",
       "8    AG_01_02        1  2025-01-23_13h12.02.354  stroop        2023.1.3   \n",
       "9    AG_01_02        1  2025-01-23_13h12.02.354  stroop        2023.1.3   \n",
       "\n",
       "         OS  frameRate resp.keys  resp.corr  resp.rt  resp.duration  \\\n",
       "0  MacIntel  20.408163       NaN        NaN      NaN            NaN   \n",
       "1  MacIntel  20.408163      left        1.0    0.635            NaN   \n",
       "2  MacIntel  20.408163      down        1.0    0.342            NaN   \n",
       "3  MacIntel  20.408163      left        0.0    0.641            NaN   \n",
       "4  MacIntel  20.408163     right        1.0    1.076            NaN   \n",
       "5  MacIntel  20.408163     right        1.0    0.680            NaN   \n",
       "6  MacIntel  20.408163      left        1.0    0.769            NaN   \n",
       "7  MacIntel  20.408163      left        1.0    0.981            NaN   \n",
       "8  MacIntel  20.408163      down        1.0    0.747            NaN   \n",
       "9  MacIntel  20.408163      left        1.0    0.704            NaN   \n",
       "\n",
       "   trials.thisRepN  trials.thisTrialN  trials.thisN  trials.thisIndex  \\\n",
       "0              NaN                NaN           NaN               NaN   \n",
       "1              0.0                0.0           0.0               5.0   \n",
       "2              0.0                1.0           1.0               2.0   \n",
       "3              0.0                2.0           2.0               1.0   \n",
       "4              0.0                3.0           3.0               3.0   \n",
       "5              0.0                4.0           4.0               4.0   \n",
       "6              0.0                5.0           5.0               0.0   \n",
       "7              1.0                0.0           6.0               5.0   \n",
       "8              1.0                1.0           7.0               2.0   \n",
       "9              1.0                2.0           8.0               0.0   \n",
       "\n",
       "   trials.ran   text letterColor corrAns  congruent  \n",
       "0         NaN    NaN         NaN     NaN        NaN  \n",
       "1         1.0   blue         red    left        0.0  \n",
       "2         1.0  green       green    down        1.0  \n",
       "3         1.0    red       green    down        0.0  \n",
       "4         1.0  green        blue   right        0.0  \n",
       "5         1.0   blue        blue   right        1.0  \n",
       "6         1.0    red         red    left        1.0  \n",
       "7         1.0   blue         red    left        0.0  \n",
       "8         1.0  green       green    down        1.0  \n",
       "9         1.0    red         red    left        1.0  "
      ]
     },
     "execution_count": 50,
     "metadata": {},
     "output_type": "execute_result"
    }
   ],
   "source": [
    "data_loaded.head(n=10)"
   ]
  },
  {
   "cell_type": "markdown",
   "metadata": {
    "slideshow": {
     "slide_type": "subslide"
    }
   },
   "source": [
    "Comparably to a `numpy array`, we could for example use `.shape` to get an idea regarding the dimensions of our, attention, `dataframe`."
   ]
  },
  {
   "cell_type": "code",
   "execution_count": 53,
   "metadata": {},
   "outputs": [
    {
     "data": {
      "text/plain": [
       "(32, 20)"
      ]
     },
     "execution_count": 53,
     "metadata": {},
     "output_type": "execute_result"
    }
   ],
   "source": [
    "data_loaded.shape"
   ]
  },
  {
   "cell_type": "markdown",
   "metadata": {},
   "source": [
    "## What is Indexing?\n",
    "Indexing in pandas helps you **select, filter, and manipulate data** in a **DataFrame** or **Series** efficiently. It allows you to access specific **rows** and **columns** using:\n",
    "- **Labels** (names of rows/columns)\n",
    "- **Integer positions** (like list indices in Python)\n",
    "\n",
    "## Types of Indexing\n",
    "\n",
    "### 1. Implicit Indexing (Default Index)\n",
    "When loading a dataset, pandas assigns a default index (0, 1, 2, …).  "
   ]
  },
  {
   "cell_type": "markdown",
   "metadata": {},
   "source": [
    "While the first number refers to the amount of `rows`, the second indicates the amount of `columns` in our `dataframe`. Regarding the first, we can also check the `index` of our `dataframe`, i.e. the name of the `rows`. By default/most often this will be integers (`0-N`) but can also be set to something else, e.g. `participants`, `dates`, etc. . "
   ]
  },
  {
   "cell_type": "code",
   "execution_count": 57,
   "metadata": {},
   "outputs": [
    {
     "data": {
      "text/plain": [
       "RangeIndex(start=0, stop=32, step=1)"
      ]
     },
     "execution_count": 57,
     "metadata": {},
     "output_type": "execute_result"
    }
   ],
   "source": [
    "data_loaded.index"
   ]
  },
  {
   "cell_type": "markdown",
   "metadata": {},
   "source": [
    "### 2. Explicit Indexing\n",
    "A more structured approach is to set a meaningful column (e.g., **Participant ID** or **Trial Number**) as the index. This allows for easier data selection and improves clarity when analyzing specific participants or conditions.\n",
    "\n",
    "### 3. Multi-Indexing\n",
    "Pandas also supports hierarchical (multi-level) indexing, where multiple columns serve as an index. This is useful in experimental designs with repeated measures, such as trials grouped by **participant ID** and **condition**.\n"
   ]
  },
  {
   "cell_type": "code",
   "execution_count": 60,
   "metadata": {},
   "outputs": [],
   "source": [
    "data_loaded.set_index('participant', inplace=True)"
   ]
  },
  {
   "cell_type": "code",
   "execution_count": 62,
   "metadata": {},
   "outputs": [
    {
     "data": {
      "text/html": [
       "<div>\n",
       "<style scoped>\n",
       "    .dataframe tbody tr th:only-of-type {\n",
       "        vertical-align: middle;\n",
       "    }\n",
       "\n",
       "    .dataframe tbody tr th {\n",
       "        vertical-align: top;\n",
       "    }\n",
       "\n",
       "    .dataframe thead th {\n",
       "        text-align: right;\n",
       "    }\n",
       "</style>\n",
       "<table border=\"1\" class=\"dataframe\">\n",
       "  <thead>\n",
       "    <tr style=\"text-align: right;\">\n",
       "      <th></th>\n",
       "      <th>session</th>\n",
       "      <th>date</th>\n",
       "      <th>expName</th>\n",
       "      <th>psychopyVersion</th>\n",
       "      <th>OS</th>\n",
       "      <th>frameRate</th>\n",
       "      <th>resp.keys</th>\n",
       "      <th>resp.corr</th>\n",
       "      <th>resp.rt</th>\n",
       "      <th>resp.duration</th>\n",
       "      <th>trials.thisRepN</th>\n",
       "      <th>trials.thisTrialN</th>\n",
       "      <th>trials.thisN</th>\n",
       "      <th>trials.thisIndex</th>\n",
       "      <th>trials.ran</th>\n",
       "      <th>text</th>\n",
       "      <th>letterColor</th>\n",
       "      <th>corrAns</th>\n",
       "      <th>congruent</th>\n",
       "    </tr>\n",
       "    <tr>\n",
       "      <th>participant</th>\n",
       "      <th></th>\n",
       "      <th></th>\n",
       "      <th></th>\n",
       "      <th></th>\n",
       "      <th></th>\n",
       "      <th></th>\n",
       "      <th></th>\n",
       "      <th></th>\n",
       "      <th></th>\n",
       "      <th></th>\n",
       "      <th></th>\n",
       "      <th></th>\n",
       "      <th></th>\n",
       "      <th></th>\n",
       "      <th></th>\n",
       "      <th></th>\n",
       "      <th></th>\n",
       "      <th></th>\n",
       "      <th></th>\n",
       "    </tr>\n",
       "  </thead>\n",
       "  <tbody>\n",
       "    <tr>\n",
       "      <th>AG_01_02</th>\n",
       "      <td>1</td>\n",
       "      <td>2025-01-23_13h12.02.354</td>\n",
       "      <td>stroop</td>\n",
       "      <td>2023.1.3</td>\n",
       "      <td>MacIntel</td>\n",
       "      <td>20.408163</td>\n",
       "      <td>NaN</td>\n",
       "      <td>NaN</td>\n",
       "      <td>NaN</td>\n",
       "      <td>NaN</td>\n",
       "      <td>NaN</td>\n",
       "      <td>NaN</td>\n",
       "      <td>NaN</td>\n",
       "      <td>NaN</td>\n",
       "      <td>NaN</td>\n",
       "      <td>NaN</td>\n",
       "      <td>NaN</td>\n",
       "      <td>NaN</td>\n",
       "      <td>NaN</td>\n",
       "    </tr>\n",
       "    <tr>\n",
       "      <th>AG_01_02</th>\n",
       "      <td>1</td>\n",
       "      <td>2025-01-23_13h12.02.354</td>\n",
       "      <td>stroop</td>\n",
       "      <td>2023.1.3</td>\n",
       "      <td>MacIntel</td>\n",
       "      <td>20.408163</td>\n",
       "      <td>left</td>\n",
       "      <td>1.0</td>\n",
       "      <td>0.635</td>\n",
       "      <td>NaN</td>\n",
       "      <td>0.0</td>\n",
       "      <td>0.0</td>\n",
       "      <td>0.0</td>\n",
       "      <td>5.0</td>\n",
       "      <td>1.0</td>\n",
       "      <td>blue</td>\n",
       "      <td>red</td>\n",
       "      <td>left</td>\n",
       "      <td>0.0</td>\n",
       "    </tr>\n",
       "    <tr>\n",
       "      <th>AG_01_02</th>\n",
       "      <td>1</td>\n",
       "      <td>2025-01-23_13h12.02.354</td>\n",
       "      <td>stroop</td>\n",
       "      <td>2023.1.3</td>\n",
       "      <td>MacIntel</td>\n",
       "      <td>20.408163</td>\n",
       "      <td>down</td>\n",
       "      <td>1.0</td>\n",
       "      <td>0.342</td>\n",
       "      <td>NaN</td>\n",
       "      <td>0.0</td>\n",
       "      <td>1.0</td>\n",
       "      <td>1.0</td>\n",
       "      <td>2.0</td>\n",
       "      <td>1.0</td>\n",
       "      <td>green</td>\n",
       "      <td>green</td>\n",
       "      <td>down</td>\n",
       "      <td>1.0</td>\n",
       "    </tr>\n",
       "    <tr>\n",
       "      <th>AG_01_02</th>\n",
       "      <td>1</td>\n",
       "      <td>2025-01-23_13h12.02.354</td>\n",
       "      <td>stroop</td>\n",
       "      <td>2023.1.3</td>\n",
       "      <td>MacIntel</td>\n",
       "      <td>20.408163</td>\n",
       "      <td>left</td>\n",
       "      <td>0.0</td>\n",
       "      <td>0.641</td>\n",
       "      <td>NaN</td>\n",
       "      <td>0.0</td>\n",
       "      <td>2.0</td>\n",
       "      <td>2.0</td>\n",
       "      <td>1.0</td>\n",
       "      <td>1.0</td>\n",
       "      <td>red</td>\n",
       "      <td>green</td>\n",
       "      <td>down</td>\n",
       "      <td>0.0</td>\n",
       "    </tr>\n",
       "    <tr>\n",
       "      <th>AG_01_02</th>\n",
       "      <td>1</td>\n",
       "      <td>2025-01-23_13h12.02.354</td>\n",
       "      <td>stroop</td>\n",
       "      <td>2023.1.3</td>\n",
       "      <td>MacIntel</td>\n",
       "      <td>20.408163</td>\n",
       "      <td>right</td>\n",
       "      <td>1.0</td>\n",
       "      <td>1.076</td>\n",
       "      <td>NaN</td>\n",
       "      <td>0.0</td>\n",
       "      <td>3.0</td>\n",
       "      <td>3.0</td>\n",
       "      <td>3.0</td>\n",
       "      <td>1.0</td>\n",
       "      <td>green</td>\n",
       "      <td>blue</td>\n",
       "      <td>right</td>\n",
       "      <td>0.0</td>\n",
       "    </tr>\n",
       "    <tr>\n",
       "      <th>AG_01_02</th>\n",
       "      <td>1</td>\n",
       "      <td>2025-01-23_13h12.02.354</td>\n",
       "      <td>stroop</td>\n",
       "      <td>2023.1.3</td>\n",
       "      <td>MacIntel</td>\n",
       "      <td>20.408163</td>\n",
       "      <td>right</td>\n",
       "      <td>1.0</td>\n",
       "      <td>0.680</td>\n",
       "      <td>NaN</td>\n",
       "      <td>0.0</td>\n",
       "      <td>4.0</td>\n",
       "      <td>4.0</td>\n",
       "      <td>4.0</td>\n",
       "      <td>1.0</td>\n",
       "      <td>blue</td>\n",
       "      <td>blue</td>\n",
       "      <td>right</td>\n",
       "      <td>1.0</td>\n",
       "    </tr>\n",
       "    <tr>\n",
       "      <th>AG_01_02</th>\n",
       "      <td>1</td>\n",
       "      <td>2025-01-23_13h12.02.354</td>\n",
       "      <td>stroop</td>\n",
       "      <td>2023.1.3</td>\n",
       "      <td>MacIntel</td>\n",
       "      <td>20.408163</td>\n",
       "      <td>left</td>\n",
       "      <td>1.0</td>\n",
       "      <td>0.769</td>\n",
       "      <td>NaN</td>\n",
       "      <td>0.0</td>\n",
       "      <td>5.0</td>\n",
       "      <td>5.0</td>\n",
       "      <td>0.0</td>\n",
       "      <td>1.0</td>\n",
       "      <td>red</td>\n",
       "      <td>red</td>\n",
       "      <td>left</td>\n",
       "      <td>1.0</td>\n",
       "    </tr>\n",
       "    <tr>\n",
       "      <th>AG_01_02</th>\n",
       "      <td>1</td>\n",
       "      <td>2025-01-23_13h12.02.354</td>\n",
       "      <td>stroop</td>\n",
       "      <td>2023.1.3</td>\n",
       "      <td>MacIntel</td>\n",
       "      <td>20.408163</td>\n",
       "      <td>left</td>\n",
       "      <td>1.0</td>\n",
       "      <td>0.981</td>\n",
       "      <td>NaN</td>\n",
       "      <td>1.0</td>\n",
       "      <td>0.0</td>\n",
       "      <td>6.0</td>\n",
       "      <td>5.0</td>\n",
       "      <td>1.0</td>\n",
       "      <td>blue</td>\n",
       "      <td>red</td>\n",
       "      <td>left</td>\n",
       "      <td>0.0</td>\n",
       "    </tr>\n",
       "    <tr>\n",
       "      <th>AG_01_02</th>\n",
       "      <td>1</td>\n",
       "      <td>2025-01-23_13h12.02.354</td>\n",
       "      <td>stroop</td>\n",
       "      <td>2023.1.3</td>\n",
       "      <td>MacIntel</td>\n",
       "      <td>20.408163</td>\n",
       "      <td>down</td>\n",
       "      <td>1.0</td>\n",
       "      <td>0.747</td>\n",
       "      <td>NaN</td>\n",
       "      <td>1.0</td>\n",
       "      <td>1.0</td>\n",
       "      <td>7.0</td>\n",
       "      <td>2.0</td>\n",
       "      <td>1.0</td>\n",
       "      <td>green</td>\n",
       "      <td>green</td>\n",
       "      <td>down</td>\n",
       "      <td>1.0</td>\n",
       "    </tr>\n",
       "    <tr>\n",
       "      <th>AG_01_02</th>\n",
       "      <td>1</td>\n",
       "      <td>2025-01-23_13h12.02.354</td>\n",
       "      <td>stroop</td>\n",
       "      <td>2023.1.3</td>\n",
       "      <td>MacIntel</td>\n",
       "      <td>20.408163</td>\n",
       "      <td>left</td>\n",
       "      <td>1.0</td>\n",
       "      <td>0.704</td>\n",
       "      <td>NaN</td>\n",
       "      <td>1.0</td>\n",
       "      <td>2.0</td>\n",
       "      <td>8.0</td>\n",
       "      <td>0.0</td>\n",
       "      <td>1.0</td>\n",
       "      <td>red</td>\n",
       "      <td>red</td>\n",
       "      <td>left</td>\n",
       "      <td>1.0</td>\n",
       "    </tr>\n",
       "  </tbody>\n",
       "</table>\n",
       "</div>"
      ],
      "text/plain": [
       "             session                     date expName psychopyVersion  \\\n",
       "participant                                                             \n",
       "AG_01_02           1  2025-01-23_13h12.02.354  stroop        2023.1.3   \n",
       "AG_01_02           1  2025-01-23_13h12.02.354  stroop        2023.1.3   \n",
       "AG_01_02           1  2025-01-23_13h12.02.354  stroop        2023.1.3   \n",
       "AG_01_02           1  2025-01-23_13h12.02.354  stroop        2023.1.3   \n",
       "AG_01_02           1  2025-01-23_13h12.02.354  stroop        2023.1.3   \n",
       "AG_01_02           1  2025-01-23_13h12.02.354  stroop        2023.1.3   \n",
       "AG_01_02           1  2025-01-23_13h12.02.354  stroop        2023.1.3   \n",
       "AG_01_02           1  2025-01-23_13h12.02.354  stroop        2023.1.3   \n",
       "AG_01_02           1  2025-01-23_13h12.02.354  stroop        2023.1.3   \n",
       "AG_01_02           1  2025-01-23_13h12.02.354  stroop        2023.1.3   \n",
       "\n",
       "                   OS  frameRate resp.keys  resp.corr  resp.rt  resp.duration  \\\n",
       "participant                                                                     \n",
       "AG_01_02     MacIntel  20.408163       NaN        NaN      NaN            NaN   \n",
       "AG_01_02     MacIntel  20.408163      left        1.0    0.635            NaN   \n",
       "AG_01_02     MacIntel  20.408163      down        1.0    0.342            NaN   \n",
       "AG_01_02     MacIntel  20.408163      left        0.0    0.641            NaN   \n",
       "AG_01_02     MacIntel  20.408163     right        1.0    1.076            NaN   \n",
       "AG_01_02     MacIntel  20.408163     right        1.0    0.680            NaN   \n",
       "AG_01_02     MacIntel  20.408163      left        1.0    0.769            NaN   \n",
       "AG_01_02     MacIntel  20.408163      left        1.0    0.981            NaN   \n",
       "AG_01_02     MacIntel  20.408163      down        1.0    0.747            NaN   \n",
       "AG_01_02     MacIntel  20.408163      left        1.0    0.704            NaN   \n",
       "\n",
       "             trials.thisRepN  trials.thisTrialN  trials.thisN  \\\n",
       "participant                                                     \n",
       "AG_01_02                 NaN                NaN           NaN   \n",
       "AG_01_02                 0.0                0.0           0.0   \n",
       "AG_01_02                 0.0                1.0           1.0   \n",
       "AG_01_02                 0.0                2.0           2.0   \n",
       "AG_01_02                 0.0                3.0           3.0   \n",
       "AG_01_02                 0.0                4.0           4.0   \n",
       "AG_01_02                 0.0                5.0           5.0   \n",
       "AG_01_02                 1.0                0.0           6.0   \n",
       "AG_01_02                 1.0                1.0           7.0   \n",
       "AG_01_02                 1.0                2.0           8.0   \n",
       "\n",
       "             trials.thisIndex  trials.ran   text letterColor corrAns  \\\n",
       "participant                                                            \n",
       "AG_01_02                  NaN         NaN    NaN         NaN     NaN   \n",
       "AG_01_02                  5.0         1.0   blue         red    left   \n",
       "AG_01_02                  2.0         1.0  green       green    down   \n",
       "AG_01_02                  1.0         1.0    red       green    down   \n",
       "AG_01_02                  3.0         1.0  green        blue   right   \n",
       "AG_01_02                  4.0         1.0   blue        blue   right   \n",
       "AG_01_02                  0.0         1.0    red         red    left   \n",
       "AG_01_02                  5.0         1.0   blue         red    left   \n",
       "AG_01_02                  2.0         1.0  green       green    down   \n",
       "AG_01_02                  0.0         1.0    red         red    left   \n",
       "\n",
       "             congruent  \n",
       "participant             \n",
       "AG_01_02           NaN  \n",
       "AG_01_02           0.0  \n",
       "AG_01_02           1.0  \n",
       "AG_01_02           0.0  \n",
       "AG_01_02           0.0  \n",
       "AG_01_02           1.0  \n",
       "AG_01_02           1.0  \n",
       "AG_01_02           0.0  \n",
       "AG_01_02           1.0  \n",
       "AG_01_02           1.0  "
      ]
     },
     "execution_count": 62,
     "metadata": {},
     "output_type": "execute_result"
    }
   ],
   "source": [
    "data_loaded.head(n=10)"
   ]
  },
  {
   "cell_type": "markdown",
   "metadata": {},
   "source": [
    "Lets go back"
   ]
  },
  {
   "cell_type": "code",
   "execution_count": 65,
   "metadata": {},
   "outputs": [
    {
     "data": {
      "text/html": [
       "<div>\n",
       "<style scoped>\n",
       "    .dataframe tbody tr th:only-of-type {\n",
       "        vertical-align: middle;\n",
       "    }\n",
       "\n",
       "    .dataframe tbody tr th {\n",
       "        vertical-align: top;\n",
       "    }\n",
       "\n",
       "    .dataframe thead th {\n",
       "        text-align: right;\n",
       "    }\n",
       "</style>\n",
       "<table border=\"1\" class=\"dataframe\">\n",
       "  <thead>\n",
       "    <tr style=\"text-align: right;\">\n",
       "      <th></th>\n",
       "      <th>participant</th>\n",
       "      <th>session</th>\n",
       "      <th>date</th>\n",
       "      <th>expName</th>\n",
       "      <th>psychopyVersion</th>\n",
       "      <th>OS</th>\n",
       "      <th>frameRate</th>\n",
       "      <th>resp.keys</th>\n",
       "      <th>resp.corr</th>\n",
       "      <th>resp.rt</th>\n",
       "      <th>resp.duration</th>\n",
       "      <th>trials.thisRepN</th>\n",
       "      <th>trials.thisTrialN</th>\n",
       "      <th>trials.thisN</th>\n",
       "      <th>trials.thisIndex</th>\n",
       "      <th>trials.ran</th>\n",
       "      <th>text</th>\n",
       "      <th>letterColor</th>\n",
       "      <th>corrAns</th>\n",
       "      <th>congruent</th>\n",
       "    </tr>\n",
       "  </thead>\n",
       "  <tbody>\n",
       "    <tr>\n",
       "      <th>0</th>\n",
       "      <td>AG_01_02</td>\n",
       "      <td>1</td>\n",
       "      <td>2025-01-23_13h12.02.354</td>\n",
       "      <td>stroop</td>\n",
       "      <td>2023.1.3</td>\n",
       "      <td>MacIntel</td>\n",
       "      <td>20.408163</td>\n",
       "      <td>NaN</td>\n",
       "      <td>NaN</td>\n",
       "      <td>NaN</td>\n",
       "      <td>NaN</td>\n",
       "      <td>NaN</td>\n",
       "      <td>NaN</td>\n",
       "      <td>NaN</td>\n",
       "      <td>NaN</td>\n",
       "      <td>NaN</td>\n",
       "      <td>NaN</td>\n",
       "      <td>NaN</td>\n",
       "      <td>NaN</td>\n",
       "      <td>NaN</td>\n",
       "    </tr>\n",
       "    <tr>\n",
       "      <th>1</th>\n",
       "      <td>AG_01_02</td>\n",
       "      <td>1</td>\n",
       "      <td>2025-01-23_13h12.02.354</td>\n",
       "      <td>stroop</td>\n",
       "      <td>2023.1.3</td>\n",
       "      <td>MacIntel</td>\n",
       "      <td>20.408163</td>\n",
       "      <td>left</td>\n",
       "      <td>1.0</td>\n",
       "      <td>0.635</td>\n",
       "      <td>NaN</td>\n",
       "      <td>0.0</td>\n",
       "      <td>0.0</td>\n",
       "      <td>0.0</td>\n",
       "      <td>5.0</td>\n",
       "      <td>1.0</td>\n",
       "      <td>blue</td>\n",
       "      <td>red</td>\n",
       "      <td>left</td>\n",
       "      <td>0.0</td>\n",
       "    </tr>\n",
       "    <tr>\n",
       "      <th>2</th>\n",
       "      <td>AG_01_02</td>\n",
       "      <td>1</td>\n",
       "      <td>2025-01-23_13h12.02.354</td>\n",
       "      <td>stroop</td>\n",
       "      <td>2023.1.3</td>\n",
       "      <td>MacIntel</td>\n",
       "      <td>20.408163</td>\n",
       "      <td>down</td>\n",
       "      <td>1.0</td>\n",
       "      <td>0.342</td>\n",
       "      <td>NaN</td>\n",
       "      <td>0.0</td>\n",
       "      <td>1.0</td>\n",
       "      <td>1.0</td>\n",
       "      <td>2.0</td>\n",
       "      <td>1.0</td>\n",
       "      <td>green</td>\n",
       "      <td>green</td>\n",
       "      <td>down</td>\n",
       "      <td>1.0</td>\n",
       "    </tr>\n",
       "    <tr>\n",
       "      <th>3</th>\n",
       "      <td>AG_01_02</td>\n",
       "      <td>1</td>\n",
       "      <td>2025-01-23_13h12.02.354</td>\n",
       "      <td>stroop</td>\n",
       "      <td>2023.1.3</td>\n",
       "      <td>MacIntel</td>\n",
       "      <td>20.408163</td>\n",
       "      <td>left</td>\n",
       "      <td>0.0</td>\n",
       "      <td>0.641</td>\n",
       "      <td>NaN</td>\n",
       "      <td>0.0</td>\n",
       "      <td>2.0</td>\n",
       "      <td>2.0</td>\n",
       "      <td>1.0</td>\n",
       "      <td>1.0</td>\n",
       "      <td>red</td>\n",
       "      <td>green</td>\n",
       "      <td>down</td>\n",
       "      <td>0.0</td>\n",
       "    </tr>\n",
       "    <tr>\n",
       "      <th>4</th>\n",
       "      <td>AG_01_02</td>\n",
       "      <td>1</td>\n",
       "      <td>2025-01-23_13h12.02.354</td>\n",
       "      <td>stroop</td>\n",
       "      <td>2023.1.3</td>\n",
       "      <td>MacIntel</td>\n",
       "      <td>20.408163</td>\n",
       "      <td>right</td>\n",
       "      <td>1.0</td>\n",
       "      <td>1.076</td>\n",
       "      <td>NaN</td>\n",
       "      <td>0.0</td>\n",
       "      <td>3.0</td>\n",
       "      <td>3.0</td>\n",
       "      <td>3.0</td>\n",
       "      <td>1.0</td>\n",
       "      <td>green</td>\n",
       "      <td>blue</td>\n",
       "      <td>right</td>\n",
       "      <td>0.0</td>\n",
       "    </tr>\n",
       "    <tr>\n",
       "      <th>5</th>\n",
       "      <td>AG_01_02</td>\n",
       "      <td>1</td>\n",
       "      <td>2025-01-23_13h12.02.354</td>\n",
       "      <td>stroop</td>\n",
       "      <td>2023.1.3</td>\n",
       "      <td>MacIntel</td>\n",
       "      <td>20.408163</td>\n",
       "      <td>right</td>\n",
       "      <td>1.0</td>\n",
       "      <td>0.680</td>\n",
       "      <td>NaN</td>\n",
       "      <td>0.0</td>\n",
       "      <td>4.0</td>\n",
       "      <td>4.0</td>\n",
       "      <td>4.0</td>\n",
       "      <td>1.0</td>\n",
       "      <td>blue</td>\n",
       "      <td>blue</td>\n",
       "      <td>right</td>\n",
       "      <td>1.0</td>\n",
       "    </tr>\n",
       "    <tr>\n",
       "      <th>6</th>\n",
       "      <td>AG_01_02</td>\n",
       "      <td>1</td>\n",
       "      <td>2025-01-23_13h12.02.354</td>\n",
       "      <td>stroop</td>\n",
       "      <td>2023.1.3</td>\n",
       "      <td>MacIntel</td>\n",
       "      <td>20.408163</td>\n",
       "      <td>left</td>\n",
       "      <td>1.0</td>\n",
       "      <td>0.769</td>\n",
       "      <td>NaN</td>\n",
       "      <td>0.0</td>\n",
       "      <td>5.0</td>\n",
       "      <td>5.0</td>\n",
       "      <td>0.0</td>\n",
       "      <td>1.0</td>\n",
       "      <td>red</td>\n",
       "      <td>red</td>\n",
       "      <td>left</td>\n",
       "      <td>1.0</td>\n",
       "    </tr>\n",
       "    <tr>\n",
       "      <th>7</th>\n",
       "      <td>AG_01_02</td>\n",
       "      <td>1</td>\n",
       "      <td>2025-01-23_13h12.02.354</td>\n",
       "      <td>stroop</td>\n",
       "      <td>2023.1.3</td>\n",
       "      <td>MacIntel</td>\n",
       "      <td>20.408163</td>\n",
       "      <td>left</td>\n",
       "      <td>1.0</td>\n",
       "      <td>0.981</td>\n",
       "      <td>NaN</td>\n",
       "      <td>1.0</td>\n",
       "      <td>0.0</td>\n",
       "      <td>6.0</td>\n",
       "      <td>5.0</td>\n",
       "      <td>1.0</td>\n",
       "      <td>blue</td>\n",
       "      <td>red</td>\n",
       "      <td>left</td>\n",
       "      <td>0.0</td>\n",
       "    </tr>\n",
       "    <tr>\n",
       "      <th>8</th>\n",
       "      <td>AG_01_02</td>\n",
       "      <td>1</td>\n",
       "      <td>2025-01-23_13h12.02.354</td>\n",
       "      <td>stroop</td>\n",
       "      <td>2023.1.3</td>\n",
       "      <td>MacIntel</td>\n",
       "      <td>20.408163</td>\n",
       "      <td>down</td>\n",
       "      <td>1.0</td>\n",
       "      <td>0.747</td>\n",
       "      <td>NaN</td>\n",
       "      <td>1.0</td>\n",
       "      <td>1.0</td>\n",
       "      <td>7.0</td>\n",
       "      <td>2.0</td>\n",
       "      <td>1.0</td>\n",
       "      <td>green</td>\n",
       "      <td>green</td>\n",
       "      <td>down</td>\n",
       "      <td>1.0</td>\n",
       "    </tr>\n",
       "    <tr>\n",
       "      <th>9</th>\n",
       "      <td>AG_01_02</td>\n",
       "      <td>1</td>\n",
       "      <td>2025-01-23_13h12.02.354</td>\n",
       "      <td>stroop</td>\n",
       "      <td>2023.1.3</td>\n",
       "      <td>MacIntel</td>\n",
       "      <td>20.408163</td>\n",
       "      <td>left</td>\n",
       "      <td>1.0</td>\n",
       "      <td>0.704</td>\n",
       "      <td>NaN</td>\n",
       "      <td>1.0</td>\n",
       "      <td>2.0</td>\n",
       "      <td>8.0</td>\n",
       "      <td>0.0</td>\n",
       "      <td>1.0</td>\n",
       "      <td>red</td>\n",
       "      <td>red</td>\n",
       "      <td>left</td>\n",
       "      <td>1.0</td>\n",
       "    </tr>\n",
       "  </tbody>\n",
       "</table>\n",
       "</div>"
      ],
      "text/plain": [
       "  participant  session                     date expName psychopyVersion  \\\n",
       "0    AG_01_02        1  2025-01-23_13h12.02.354  stroop        2023.1.3   \n",
       "1    AG_01_02        1  2025-01-23_13h12.02.354  stroop        2023.1.3   \n",
       "2    AG_01_02        1  2025-01-23_13h12.02.354  stroop        2023.1.3   \n",
       "3    AG_01_02        1  2025-01-23_13h12.02.354  stroop        2023.1.3   \n",
       "4    AG_01_02        1  2025-01-23_13h12.02.354  stroop        2023.1.3   \n",
       "5    AG_01_02        1  2025-01-23_13h12.02.354  stroop        2023.1.3   \n",
       "6    AG_01_02        1  2025-01-23_13h12.02.354  stroop        2023.1.3   \n",
       "7    AG_01_02        1  2025-01-23_13h12.02.354  stroop        2023.1.3   \n",
       "8    AG_01_02        1  2025-01-23_13h12.02.354  stroop        2023.1.3   \n",
       "9    AG_01_02        1  2025-01-23_13h12.02.354  stroop        2023.1.3   \n",
       "\n",
       "         OS  frameRate resp.keys  resp.corr  resp.rt  resp.duration  \\\n",
       "0  MacIntel  20.408163       NaN        NaN      NaN            NaN   \n",
       "1  MacIntel  20.408163      left        1.0    0.635            NaN   \n",
       "2  MacIntel  20.408163      down        1.0    0.342            NaN   \n",
       "3  MacIntel  20.408163      left        0.0    0.641            NaN   \n",
       "4  MacIntel  20.408163     right        1.0    1.076            NaN   \n",
       "5  MacIntel  20.408163     right        1.0    0.680            NaN   \n",
       "6  MacIntel  20.408163      left        1.0    0.769            NaN   \n",
       "7  MacIntel  20.408163      left        1.0    0.981            NaN   \n",
       "8  MacIntel  20.408163      down        1.0    0.747            NaN   \n",
       "9  MacIntel  20.408163      left        1.0    0.704            NaN   \n",
       "\n",
       "   trials.thisRepN  trials.thisTrialN  trials.thisN  trials.thisIndex  \\\n",
       "0              NaN                NaN           NaN               NaN   \n",
       "1              0.0                0.0           0.0               5.0   \n",
       "2              0.0                1.0           1.0               2.0   \n",
       "3              0.0                2.0           2.0               1.0   \n",
       "4              0.0                3.0           3.0               3.0   \n",
       "5              0.0                4.0           4.0               4.0   \n",
       "6              0.0                5.0           5.0               0.0   \n",
       "7              1.0                0.0           6.0               5.0   \n",
       "8              1.0                1.0           7.0               2.0   \n",
       "9              1.0                2.0           8.0               0.0   \n",
       "\n",
       "   trials.ran   text letterColor corrAns  congruent  \n",
       "0         NaN    NaN         NaN     NaN        NaN  \n",
       "1         1.0   blue         red    left        0.0  \n",
       "2         1.0  green       green    down        1.0  \n",
       "3         1.0    red       green    down        0.0  \n",
       "4         1.0  green        blue   right        0.0  \n",
       "5         1.0   blue        blue   right        1.0  \n",
       "6         1.0    red         red    left        1.0  \n",
       "7         1.0   blue         red    left        0.0  \n",
       "8         1.0  green       green    down        1.0  \n",
       "9         1.0    red         red    left        1.0  "
      ]
     },
     "execution_count": 65,
     "metadata": {},
     "output_type": "execute_result"
    }
   ],
   "source": [
    "data_loaded.reset_index(inplace=True)\n",
    "data_loaded.head(n=10)"
   ]
  },
  {
   "cell_type": "markdown",
   "metadata": {
    "slideshow": {
     "slide_type": "subslide"
    }
   },
   "source": [
    "In order to get a first very general overview of our `dataframe` and the `data` in, `pandas` has an amazing `function` called `.describe()` which will provide `summary statistics` for each `column`, including `count`, `mean`, `sd`, `min`/`max` and `percentiles`.  \n",
    "\n",
    "<center><img src=\"https://pandas.pydata.org/pandas-docs/dev/_images/06_reduction.svg\" width=\"500px\" style=\"margin-bottom: 10px;\"></center>"
   ]
  },
  {
   "cell_type": "code",
   "execution_count": 68,
   "metadata": {},
   "outputs": [
    {
     "data": {
      "text/html": [
       "<div>\n",
       "<style scoped>\n",
       "    .dataframe tbody tr th:only-of-type {\n",
       "        vertical-align: middle;\n",
       "    }\n",
       "\n",
       "    .dataframe tbody tr th {\n",
       "        vertical-align: top;\n",
       "    }\n",
       "\n",
       "    .dataframe thead th {\n",
       "        text-align: right;\n",
       "    }\n",
       "</style>\n",
       "<table border=\"1\" class=\"dataframe\">\n",
       "  <thead>\n",
       "    <tr style=\"text-align: right;\">\n",
       "      <th></th>\n",
       "      <th>session</th>\n",
       "      <th>frameRate</th>\n",
       "      <th>resp.corr</th>\n",
       "      <th>resp.rt</th>\n",
       "      <th>resp.duration</th>\n",
       "      <th>trials.thisRepN</th>\n",
       "      <th>trials.thisTrialN</th>\n",
       "      <th>trials.thisN</th>\n",
       "      <th>trials.thisIndex</th>\n",
       "      <th>trials.ran</th>\n",
       "      <th>congruent</th>\n",
       "    </tr>\n",
       "  </thead>\n",
       "  <tbody>\n",
       "    <tr>\n",
       "      <th>count</th>\n",
       "      <td>32.0</td>\n",
       "      <td>3.200000e+01</td>\n",
       "      <td>30.000000</td>\n",
       "      <td>30.000000</td>\n",
       "      <td>0.0</td>\n",
       "      <td>30.00000</td>\n",
       "      <td>30.000000</td>\n",
       "      <td>30.000000</td>\n",
       "      <td>30.000000</td>\n",
       "      <td>30.0</td>\n",
       "      <td>30.000000</td>\n",
       "    </tr>\n",
       "    <tr>\n",
       "      <th>mean</th>\n",
       "      <td>1.0</td>\n",
       "      <td>2.040816e+01</td>\n",
       "      <td>0.966667</td>\n",
       "      <td>0.814500</td>\n",
       "      <td>NaN</td>\n",
       "      <td>2.00000</td>\n",
       "      <td>2.500000</td>\n",
       "      <td>14.500000</td>\n",
       "      <td>2.500000</td>\n",
       "      <td>1.0</td>\n",
       "      <td>0.500000</td>\n",
       "    </tr>\n",
       "    <tr>\n",
       "      <th>std</th>\n",
       "      <td>0.0</td>\n",
       "      <td>3.609561e-15</td>\n",
       "      <td>0.182574</td>\n",
       "      <td>0.227043</td>\n",
       "      <td>NaN</td>\n",
       "      <td>1.43839</td>\n",
       "      <td>1.737021</td>\n",
       "      <td>8.803408</td>\n",
       "      <td>1.737021</td>\n",
       "      <td>0.0</td>\n",
       "      <td>0.508548</td>\n",
       "    </tr>\n",
       "    <tr>\n",
       "      <th>min</th>\n",
       "      <td>1.0</td>\n",
       "      <td>2.040816e+01</td>\n",
       "      <td>0.000000</td>\n",
       "      <td>0.342000</td>\n",
       "      <td>NaN</td>\n",
       "      <td>0.00000</td>\n",
       "      <td>0.000000</td>\n",
       "      <td>0.000000</td>\n",
       "      <td>0.000000</td>\n",
       "      <td>1.0</td>\n",
       "      <td>0.000000</td>\n",
       "    </tr>\n",
       "    <tr>\n",
       "      <th>25%</th>\n",
       "      <td>1.0</td>\n",
       "      <td>2.040816e+01</td>\n",
       "      <td>1.000000</td>\n",
       "      <td>0.680250</td>\n",
       "      <td>NaN</td>\n",
       "      <td>1.00000</td>\n",
       "      <td>1.000000</td>\n",
       "      <td>7.250000</td>\n",
       "      <td>1.000000</td>\n",
       "      <td>1.0</td>\n",
       "      <td>0.000000</td>\n",
       "    </tr>\n",
       "    <tr>\n",
       "      <th>50%</th>\n",
       "      <td>1.0</td>\n",
       "      <td>2.040816e+01</td>\n",
       "      <td>1.000000</td>\n",
       "      <td>0.760000</td>\n",
       "      <td>NaN</td>\n",
       "      <td>2.00000</td>\n",
       "      <td>2.500000</td>\n",
       "      <td>14.500000</td>\n",
       "      <td>2.500000</td>\n",
       "      <td>1.0</td>\n",
       "      <td>0.500000</td>\n",
       "    </tr>\n",
       "    <tr>\n",
       "      <th>75%</th>\n",
       "      <td>1.0</td>\n",
       "      <td>2.040816e+01</td>\n",
       "      <td>1.000000</td>\n",
       "      <td>0.970000</td>\n",
       "      <td>NaN</td>\n",
       "      <td>3.00000</td>\n",
       "      <td>4.000000</td>\n",
       "      <td>21.750000</td>\n",
       "      <td>4.000000</td>\n",
       "      <td>1.0</td>\n",
       "      <td>1.000000</td>\n",
       "    </tr>\n",
       "    <tr>\n",
       "      <th>max</th>\n",
       "      <td>1.0</td>\n",
       "      <td>2.040816e+01</td>\n",
       "      <td>1.000000</td>\n",
       "      <td>1.461000</td>\n",
       "      <td>NaN</td>\n",
       "      <td>4.00000</td>\n",
       "      <td>5.000000</td>\n",
       "      <td>29.000000</td>\n",
       "      <td>5.000000</td>\n",
       "      <td>1.0</td>\n",
       "      <td>1.000000</td>\n",
       "    </tr>\n",
       "  </tbody>\n",
       "</table>\n",
       "</div>"
      ],
      "text/plain": [
       "       session     frameRate  resp.corr    resp.rt  resp.duration  \\\n",
       "count     32.0  3.200000e+01  30.000000  30.000000            0.0   \n",
       "mean       1.0  2.040816e+01   0.966667   0.814500            NaN   \n",
       "std        0.0  3.609561e-15   0.182574   0.227043            NaN   \n",
       "min        1.0  2.040816e+01   0.000000   0.342000            NaN   \n",
       "25%        1.0  2.040816e+01   1.000000   0.680250            NaN   \n",
       "50%        1.0  2.040816e+01   1.000000   0.760000            NaN   \n",
       "75%        1.0  2.040816e+01   1.000000   0.970000            NaN   \n",
       "max        1.0  2.040816e+01   1.000000   1.461000            NaN   \n",
       "\n",
       "       trials.thisRepN  trials.thisTrialN  trials.thisN  trials.thisIndex  \\\n",
       "count         30.00000          30.000000     30.000000         30.000000   \n",
       "mean           2.00000           2.500000     14.500000          2.500000   \n",
       "std            1.43839           1.737021      8.803408          1.737021   \n",
       "min            0.00000           0.000000      0.000000          0.000000   \n",
       "25%            1.00000           1.000000      7.250000          1.000000   \n",
       "50%            2.00000           2.500000     14.500000          2.500000   \n",
       "75%            3.00000           4.000000     21.750000          4.000000   \n",
       "max            4.00000           5.000000     29.000000          5.000000   \n",
       "\n",
       "       trials.ran  congruent  \n",
       "count        30.0  30.000000  \n",
       "mean          1.0   0.500000  \n",
       "std           0.0   0.508548  \n",
       "min           1.0   0.000000  \n",
       "25%           1.0   0.000000  \n",
       "50%           1.0   0.500000  \n",
       "75%           1.0   1.000000  \n",
       "max           1.0   1.000000  "
      ]
     },
     "execution_count": 68,
     "metadata": {},
     "output_type": "execute_result"
    }
   ],
   "source": [
    "data_loaded.describe()"
   ]
  },
  {
   "cell_type": "markdown",
   "metadata": {
    "slideshow": {
     "slide_type": "subslide"
    }
   },
   "source": [
    "One thing we immediately notice is the large difference between number of total `columns` and number of `columns` included in the descriptive overview. Something is going on there and this could make working with the `dataframe` a bit cumbersome. Thus, let's get a `list` of all `columns` to check what's happening. This can be done via the `.columns` `function`: "
   ]
  },
  {
   "cell_type": "code",
   "execution_count": 71,
   "metadata": {},
   "outputs": [
    {
     "data": {
      "text/plain": [
       "Index(['participant', 'session', 'date', 'expName', 'psychopyVersion', 'OS',\n",
       "       'frameRate', 'resp.keys', 'resp.corr', 'resp.rt', 'resp.duration',\n",
       "       'trials.thisRepN', 'trials.thisTrialN', 'trials.thisN',\n",
       "       'trials.thisIndex', 'trials.ran', 'text', 'letterColor', 'corrAns',\n",
       "       'congruent'],\n",
       "      dtype='object')"
      ]
     },
     "execution_count": 71,
     "metadata": {},
     "output_type": "execute_result"
    }
   ],
   "source": [
    "data_loaded.columns"
   ]
  },
  {
   "cell_type": "markdown",
   "metadata": {
    "slideshow": {
     "slide_type": "subslide"
    }
   },
   "source": [
    "Oh damn, that's quite a bit. Given that we are interested in `analyzing` the `rating`s and `demographic data` we actually don't need a fair amount of `columns` and respective information therein. In other words: we need to `select` certain `column`s. \n",
    "\n",
    "<center><img src=\"https://pandas.pydata.org/docs/dev/_images/03_subset_columns.svg\" width=\"600px\" style=\"margin-bottom: 10px;\"></center>"
   ]
  },
  {
   "cell_type": "markdown",
   "metadata": {
    "slideshow": {
     "slide_type": "fragment"
    }
   },
   "source": [
    "In `pandas` this can be achieved via multiple options: `column names`, `slicing`, `labels`, `position` and `booleans`. We will check a few of those but start with the obvious ones: `column names` and `slicing`."
   ]
  },
  {
   "cell_type": "markdown",
   "metadata": {
    "slideshow": {
     "slide_type": "subslide"
    }
   },
   "source": [
    "Selecting `columns` via `column names` is straightforward in `pandas` and works comparably to selecting `keys` from a `dictionary`: `dataframe[column_name]`. For example, if we want to get the `participant ID`, i.e. the `column` `\"participant\"`, we can simply do the following:"
   ]
  },
  {
   "cell_type": "code",
   "execution_count": 76,
   "metadata": {},
   "outputs": [
    {
     "data": {
      "text/plain": [
       "0    AG_01_02\n",
       "1    AG_01_02\n",
       "2    AG_01_02\n",
       "3    AG_01_02\n",
       "4    AG_01_02\n",
       "Name: participant, dtype: object"
      ]
     },
     "execution_count": 76,
     "metadata": {},
     "output_type": "execute_result"
    }
   ],
   "source": [
    "data_loaded['participant'].head()"
   ]
  },
  {
   "cell_type": "markdown",
   "metadata": {
    "slideshow": {
     "slide_type": "subslide"
    }
   },
   "source": [
    "One important aspect to note here, is that selecting a single `column` does not return a `dataframe` but what is called a `series` in `pandas`. It has `functions` comparable to a `dataframe` but is technically distinct as it doesn't have `columns` and is more like a `vector`.\n",
    "\n",
    "<center><img src=\"https://pandas.pydata.org/docs/_images/01_table_series.svg\" width=\"200px\" style=\"margin-bottom: 10px;\"></center>"
   ]
  },
  {
   "cell_type": "code",
   "execution_count": 79,
   "metadata": {},
   "outputs": [
    {
     "data": {
      "text/plain": [
       "pandas.core.series.Series"
      ]
     },
     "execution_count": 79,
     "metadata": {},
     "output_type": "execute_result"
    }
   ],
   "source": [
    "type(data_loaded['participant'])"
   ]
  },
  {
   "cell_type": "markdown",
   "metadata": {
    "slideshow": {
     "slide_type": "subslide"
    }
   },
   "source": [
    "Obviously, we want more than one `column`. This can be achieved via providing a `list` of `column names` we would like to select or use `slicing`. For example, to select all the `columns` that contain `rating data` we can simply provide the respective `list` of `column names`:"
   ]
  },
  {
   "cell_type": "code",
   "execution_count": 82,
   "metadata": {},
   "outputs": [
    {
     "data": {
      "text/html": [
       "<div>\n",
       "<style scoped>\n",
       "    .dataframe tbody tr th:only-of-type {\n",
       "        vertical-align: middle;\n",
       "    }\n",
       "\n",
       "    .dataframe tbody tr th {\n",
       "        vertical-align: top;\n",
       "    }\n",
       "\n",
       "    .dataframe thead th {\n",
       "        text-align: right;\n",
       "    }\n",
       "</style>\n",
       "<table border=\"1\" class=\"dataframe\">\n",
       "  <thead>\n",
       "    <tr style=\"text-align: right;\">\n",
       "      <th></th>\n",
       "      <th>resp.corr</th>\n",
       "      <th>resp.rt</th>\n",
       "      <th>congruent</th>\n",
       "    </tr>\n",
       "  </thead>\n",
       "  <tbody>\n",
       "    <tr>\n",
       "      <th>0</th>\n",
       "      <td>NaN</td>\n",
       "      <td>NaN</td>\n",
       "      <td>NaN</td>\n",
       "    </tr>\n",
       "    <tr>\n",
       "      <th>1</th>\n",
       "      <td>1.0</td>\n",
       "      <td>0.635</td>\n",
       "      <td>0.0</td>\n",
       "    </tr>\n",
       "    <tr>\n",
       "      <th>2</th>\n",
       "      <td>1.0</td>\n",
       "      <td>0.342</td>\n",
       "      <td>1.0</td>\n",
       "    </tr>\n",
       "    <tr>\n",
       "      <th>3</th>\n",
       "      <td>0.0</td>\n",
       "      <td>0.641</td>\n",
       "      <td>0.0</td>\n",
       "    </tr>\n",
       "    <tr>\n",
       "      <th>4</th>\n",
       "      <td>1.0</td>\n",
       "      <td>1.076</td>\n",
       "      <td>0.0</td>\n",
       "    </tr>\n",
       "    <tr>\n",
       "      <th>5</th>\n",
       "      <td>1.0</td>\n",
       "      <td>0.680</td>\n",
       "      <td>1.0</td>\n",
       "    </tr>\n",
       "    <tr>\n",
       "      <th>6</th>\n",
       "      <td>1.0</td>\n",
       "      <td>0.769</td>\n",
       "      <td>1.0</td>\n",
       "    </tr>\n",
       "    <tr>\n",
       "      <th>7</th>\n",
       "      <td>1.0</td>\n",
       "      <td>0.981</td>\n",
       "      <td>0.0</td>\n",
       "    </tr>\n",
       "    <tr>\n",
       "      <th>8</th>\n",
       "      <td>1.0</td>\n",
       "      <td>0.747</td>\n",
       "      <td>1.0</td>\n",
       "    </tr>\n",
       "    <tr>\n",
       "      <th>9</th>\n",
       "      <td>1.0</td>\n",
       "      <td>0.704</td>\n",
       "      <td>1.0</td>\n",
       "    </tr>\n",
       "  </tbody>\n",
       "</table>\n",
       "</div>"
      ],
      "text/plain": [
       "   resp.corr  resp.rt  congruent\n",
       "0        NaN      NaN        NaN\n",
       "1        1.0    0.635        0.0\n",
       "2        1.0    0.342        1.0\n",
       "3        0.0    0.641        0.0\n",
       "4        1.0    1.076        0.0\n",
       "5        1.0    0.680        1.0\n",
       "6        1.0    0.769        1.0\n",
       "7        1.0    0.981        0.0\n",
       "8        1.0    0.747        1.0\n",
       "9        1.0    0.704        1.0"
      ]
     },
     "execution_count": 82,
     "metadata": {},
     "output_type": "execute_result"
    }
   ],
   "source": [
    "data_loaded[['resp.corr', 'resp.rt','congruent']].head(n=10)"
   ]
  },
  {
   "cell_type": "markdown",
   "metadata": {
    "slideshow": {
     "slide_type": "subslide"
    }
   },
   "source": [
    "We can also use `slicing` to get the respective information. This works as discussed during `slicing` of `list` or `strings`, i.e. we need to define the respective positions.  "
   ]
  },
  {
   "cell_type": "code",
   "execution_count": 85,
   "metadata": {
    "slideshow": {
     "slide_type": "fragment"
    }
   },
   "outputs": [
    {
     "data": {
      "text/html": [
       "<div>\n",
       "<style scoped>\n",
       "    .dataframe tbody tr th:only-of-type {\n",
       "        vertical-align: middle;\n",
       "    }\n",
       "\n",
       "    .dataframe tbody tr th {\n",
       "        vertical-align: top;\n",
       "    }\n",
       "\n",
       "    .dataframe thead th {\n",
       "        text-align: right;\n",
       "    }\n",
       "</style>\n",
       "<table border=\"1\" class=\"dataframe\">\n",
       "  <thead>\n",
       "    <tr style=\"text-align: right;\">\n",
       "      <th></th>\n",
       "      <th>participant</th>\n",
       "      <th>session</th>\n",
       "      <th>date</th>\n",
       "    </tr>\n",
       "  </thead>\n",
       "  <tbody>\n",
       "    <tr>\n",
       "      <th>0</th>\n",
       "      <td>AG_01_02</td>\n",
       "      <td>1</td>\n",
       "      <td>2025-01-23_13h12.02.354</td>\n",
       "    </tr>\n",
       "    <tr>\n",
       "      <th>1</th>\n",
       "      <td>AG_01_02</td>\n",
       "      <td>1</td>\n",
       "      <td>2025-01-23_13h12.02.354</td>\n",
       "    </tr>\n",
       "    <tr>\n",
       "      <th>2</th>\n",
       "      <td>AG_01_02</td>\n",
       "      <td>1</td>\n",
       "      <td>2025-01-23_13h12.02.354</td>\n",
       "    </tr>\n",
       "    <tr>\n",
       "      <th>3</th>\n",
       "      <td>AG_01_02</td>\n",
       "      <td>1</td>\n",
       "      <td>2025-01-23_13h12.02.354</td>\n",
       "    </tr>\n",
       "    <tr>\n",
       "      <th>4</th>\n",
       "      <td>AG_01_02</td>\n",
       "      <td>1</td>\n",
       "      <td>2025-01-23_13h12.02.354</td>\n",
       "    </tr>\n",
       "  </tbody>\n",
       "</table>\n",
       "</div>"
      ],
      "text/plain": [
       "  participant  session                     date\n",
       "0    AG_01_02        1  2025-01-23_13h12.02.354\n",
       "1    AG_01_02        1  2025-01-23_13h12.02.354\n",
       "2    AG_01_02        1  2025-01-23_13h12.02.354\n",
       "3    AG_01_02        1  2025-01-23_13h12.02.354\n",
       "4    AG_01_02        1  2025-01-23_13h12.02.354"
      ]
     },
     "execution_count": 85,
     "metadata": {},
     "output_type": "execute_result"
    }
   ],
   "source": [
    "data_loaded[data_loaded.columns[0:3]].head()"
   ]
  },
  {
   "cell_type": "markdown",
   "metadata": {
    "slideshow": {
     "slide_type": "subslide"
    }
   },
   "source": [
    "<center><img src=\"https://media1.giphy.com/media/BXOEmFSzNkOObZhIA3/giphy.gif?cid=ecf05e47iuhbrrici7z2tn33dxeu0xxi96i19uk7qphiojb3&rid=giphy.gif&ct=g\" width=\"300\"></center>\n",
    "\n",
    "<center><a href=\"https://giphy.com/gifs/theoffice-the-office-tv-secret-santa-BXOEmFSzNkOObZhIA3\">via GIPHY</a></center>\n",
    "\n",
    "**HEADS UP EVERYONE: INDEXING IN `PYTHON` STARTS AT 0**"
   ]
  },
  {
   "cell_type": "markdown",
   "metadata": {
    "slideshow": {
     "slide_type": "subslide"
    }
   },
   "source": [
    "Using both, `select`ing via `column name` and `slicing` the respective `list` of `column names` might do the trick:"
   ]
  },
  {
   "cell_type": "code",
   "execution_count": 89,
   "metadata": {},
   "outputs": [],
   "source": [
    "columns_select = list(data_loaded.columns[0:3]) + ['resp.corr', 'resp.rt','congruent'] "
   ]
  },
  {
   "cell_type": "code",
   "execution_count": 91,
   "metadata": {},
   "outputs": [
    {
     "data": {
      "text/plain": [
       "['participant', 'session', 'date', 'resp.corr', 'resp.rt', 'congruent']"
      ]
     },
     "execution_count": 91,
     "metadata": {},
     "output_type": "execute_result"
    }
   ],
   "source": [
    "columns_select"
   ]
  },
  {
   "cell_type": "code",
   "execution_count": 93,
   "metadata": {},
   "outputs": [
    {
     "data": {
      "text/html": [
       "<div>\n",
       "<style scoped>\n",
       "    .dataframe tbody tr th:only-of-type {\n",
       "        vertical-align: middle;\n",
       "    }\n",
       "\n",
       "    .dataframe tbody tr th {\n",
       "        vertical-align: top;\n",
       "    }\n",
       "\n",
       "    .dataframe thead th {\n",
       "        text-align: right;\n",
       "    }\n",
       "</style>\n",
       "<table border=\"1\" class=\"dataframe\">\n",
       "  <thead>\n",
       "    <tr style=\"text-align: right;\">\n",
       "      <th></th>\n",
       "      <th>participant</th>\n",
       "      <th>session</th>\n",
       "      <th>date</th>\n",
       "      <th>resp.corr</th>\n",
       "      <th>resp.rt</th>\n",
       "      <th>congruent</th>\n",
       "    </tr>\n",
       "  </thead>\n",
       "  <tbody>\n",
       "    <tr>\n",
       "      <th>0</th>\n",
       "      <td>AG_01_02</td>\n",
       "      <td>1</td>\n",
       "      <td>2025-01-23_13h12.02.354</td>\n",
       "      <td>NaN</td>\n",
       "      <td>NaN</td>\n",
       "      <td>NaN</td>\n",
       "    </tr>\n",
       "    <tr>\n",
       "      <th>1</th>\n",
       "      <td>AG_01_02</td>\n",
       "      <td>1</td>\n",
       "      <td>2025-01-23_13h12.02.354</td>\n",
       "      <td>1.0</td>\n",
       "      <td>0.635</td>\n",
       "      <td>0.0</td>\n",
       "    </tr>\n",
       "    <tr>\n",
       "      <th>2</th>\n",
       "      <td>AG_01_02</td>\n",
       "      <td>1</td>\n",
       "      <td>2025-01-23_13h12.02.354</td>\n",
       "      <td>1.0</td>\n",
       "      <td>0.342</td>\n",
       "      <td>1.0</td>\n",
       "    </tr>\n",
       "    <tr>\n",
       "      <th>3</th>\n",
       "      <td>AG_01_02</td>\n",
       "      <td>1</td>\n",
       "      <td>2025-01-23_13h12.02.354</td>\n",
       "      <td>0.0</td>\n",
       "      <td>0.641</td>\n",
       "      <td>0.0</td>\n",
       "    </tr>\n",
       "    <tr>\n",
       "      <th>4</th>\n",
       "      <td>AG_01_02</td>\n",
       "      <td>1</td>\n",
       "      <td>2025-01-23_13h12.02.354</td>\n",
       "      <td>1.0</td>\n",
       "      <td>1.076</td>\n",
       "      <td>0.0</td>\n",
       "    </tr>\n",
       "    <tr>\n",
       "      <th>5</th>\n",
       "      <td>AG_01_02</td>\n",
       "      <td>1</td>\n",
       "      <td>2025-01-23_13h12.02.354</td>\n",
       "      <td>1.0</td>\n",
       "      <td>0.680</td>\n",
       "      <td>1.0</td>\n",
       "    </tr>\n",
       "    <tr>\n",
       "      <th>6</th>\n",
       "      <td>AG_01_02</td>\n",
       "      <td>1</td>\n",
       "      <td>2025-01-23_13h12.02.354</td>\n",
       "      <td>1.0</td>\n",
       "      <td>0.769</td>\n",
       "      <td>1.0</td>\n",
       "    </tr>\n",
       "    <tr>\n",
       "      <th>7</th>\n",
       "      <td>AG_01_02</td>\n",
       "      <td>1</td>\n",
       "      <td>2025-01-23_13h12.02.354</td>\n",
       "      <td>1.0</td>\n",
       "      <td>0.981</td>\n",
       "      <td>0.0</td>\n",
       "    </tr>\n",
       "    <tr>\n",
       "      <th>8</th>\n",
       "      <td>AG_01_02</td>\n",
       "      <td>1</td>\n",
       "      <td>2025-01-23_13h12.02.354</td>\n",
       "      <td>1.0</td>\n",
       "      <td>0.747</td>\n",
       "      <td>1.0</td>\n",
       "    </tr>\n",
       "    <tr>\n",
       "      <th>9</th>\n",
       "      <td>AG_01_02</td>\n",
       "      <td>1</td>\n",
       "      <td>2025-01-23_13h12.02.354</td>\n",
       "      <td>1.0</td>\n",
       "      <td>0.704</td>\n",
       "      <td>1.0</td>\n",
       "    </tr>\n",
       "  </tbody>\n",
       "</table>\n",
       "</div>"
      ],
      "text/plain": [
       "  participant  session                     date  resp.corr  resp.rt  congruent\n",
       "0    AG_01_02        1  2025-01-23_13h12.02.354        NaN      NaN        NaN\n",
       "1    AG_01_02        1  2025-01-23_13h12.02.354        1.0    0.635        0.0\n",
       "2    AG_01_02        1  2025-01-23_13h12.02.354        1.0    0.342        1.0\n",
       "3    AG_01_02        1  2025-01-23_13h12.02.354        0.0    0.641        0.0\n",
       "4    AG_01_02        1  2025-01-23_13h12.02.354        1.0    1.076        0.0\n",
       "5    AG_01_02        1  2025-01-23_13h12.02.354        1.0    0.680        1.0\n",
       "6    AG_01_02        1  2025-01-23_13h12.02.354        1.0    0.769        1.0\n",
       "7    AG_01_02        1  2025-01-23_13h12.02.354        1.0    0.981        0.0\n",
       "8    AG_01_02        1  2025-01-23_13h12.02.354        1.0    0.747        1.0\n",
       "9    AG_01_02        1  2025-01-23_13h12.02.354        1.0    0.704        1.0"
      ]
     },
     "execution_count": 93,
     "metadata": {},
     "output_type": "execute_result"
    }
   ],
   "source": [
    "data_loaded[columns_select].head(n=10)"
   ]
  },
  {
   "cell_type": "markdown",
   "metadata": {
    "slideshow": {
     "slide_type": "subslide"
    }
   },
   "source": [
    "Cool, so let's apply the `.describe()` `function` again to the adapted `dataframe`:"
   ]
  },
  {
   "cell_type": "code",
   "execution_count": 96,
   "metadata": {},
   "outputs": [
    {
     "data": {
      "text/html": [
       "<div>\n",
       "<style scoped>\n",
       "    .dataframe tbody tr th:only-of-type {\n",
       "        vertical-align: middle;\n",
       "    }\n",
       "\n",
       "    .dataframe tbody tr th {\n",
       "        vertical-align: top;\n",
       "    }\n",
       "\n",
       "    .dataframe thead th {\n",
       "        text-align: right;\n",
       "    }\n",
       "</style>\n",
       "<table border=\"1\" class=\"dataframe\">\n",
       "  <thead>\n",
       "    <tr style=\"text-align: right;\">\n",
       "      <th></th>\n",
       "      <th>session</th>\n",
       "      <th>frameRate</th>\n",
       "      <th>resp.corr</th>\n",
       "      <th>resp.rt</th>\n",
       "      <th>resp.duration</th>\n",
       "      <th>trials.thisRepN</th>\n",
       "      <th>trials.thisTrialN</th>\n",
       "      <th>trials.thisN</th>\n",
       "      <th>trials.thisIndex</th>\n",
       "      <th>trials.ran</th>\n",
       "      <th>congruent</th>\n",
       "    </tr>\n",
       "  </thead>\n",
       "  <tbody>\n",
       "    <tr>\n",
       "      <th>count</th>\n",
       "      <td>32.0</td>\n",
       "      <td>3.200000e+01</td>\n",
       "      <td>30.000000</td>\n",
       "      <td>30.000000</td>\n",
       "      <td>0.0</td>\n",
       "      <td>30.00000</td>\n",
       "      <td>30.000000</td>\n",
       "      <td>30.000000</td>\n",
       "      <td>30.000000</td>\n",
       "      <td>30.0</td>\n",
       "      <td>30.000000</td>\n",
       "    </tr>\n",
       "    <tr>\n",
       "      <th>mean</th>\n",
       "      <td>1.0</td>\n",
       "      <td>2.040816e+01</td>\n",
       "      <td>0.966667</td>\n",
       "      <td>0.814500</td>\n",
       "      <td>NaN</td>\n",
       "      <td>2.00000</td>\n",
       "      <td>2.500000</td>\n",
       "      <td>14.500000</td>\n",
       "      <td>2.500000</td>\n",
       "      <td>1.0</td>\n",
       "      <td>0.500000</td>\n",
       "    </tr>\n",
       "    <tr>\n",
       "      <th>std</th>\n",
       "      <td>0.0</td>\n",
       "      <td>3.609561e-15</td>\n",
       "      <td>0.182574</td>\n",
       "      <td>0.227043</td>\n",
       "      <td>NaN</td>\n",
       "      <td>1.43839</td>\n",
       "      <td>1.737021</td>\n",
       "      <td>8.803408</td>\n",
       "      <td>1.737021</td>\n",
       "      <td>0.0</td>\n",
       "      <td>0.508548</td>\n",
       "    </tr>\n",
       "    <tr>\n",
       "      <th>min</th>\n",
       "      <td>1.0</td>\n",
       "      <td>2.040816e+01</td>\n",
       "      <td>0.000000</td>\n",
       "      <td>0.342000</td>\n",
       "      <td>NaN</td>\n",
       "      <td>0.00000</td>\n",
       "      <td>0.000000</td>\n",
       "      <td>0.000000</td>\n",
       "      <td>0.000000</td>\n",
       "      <td>1.0</td>\n",
       "      <td>0.000000</td>\n",
       "    </tr>\n",
       "    <tr>\n",
       "      <th>25%</th>\n",
       "      <td>1.0</td>\n",
       "      <td>2.040816e+01</td>\n",
       "      <td>1.000000</td>\n",
       "      <td>0.680250</td>\n",
       "      <td>NaN</td>\n",
       "      <td>1.00000</td>\n",
       "      <td>1.000000</td>\n",
       "      <td>7.250000</td>\n",
       "      <td>1.000000</td>\n",
       "      <td>1.0</td>\n",
       "      <td>0.000000</td>\n",
       "    </tr>\n",
       "    <tr>\n",
       "      <th>50%</th>\n",
       "      <td>1.0</td>\n",
       "      <td>2.040816e+01</td>\n",
       "      <td>1.000000</td>\n",
       "      <td>0.760000</td>\n",
       "      <td>NaN</td>\n",
       "      <td>2.00000</td>\n",
       "      <td>2.500000</td>\n",
       "      <td>14.500000</td>\n",
       "      <td>2.500000</td>\n",
       "      <td>1.0</td>\n",
       "      <td>0.500000</td>\n",
       "    </tr>\n",
       "    <tr>\n",
       "      <th>75%</th>\n",
       "      <td>1.0</td>\n",
       "      <td>2.040816e+01</td>\n",
       "      <td>1.000000</td>\n",
       "      <td>0.970000</td>\n",
       "      <td>NaN</td>\n",
       "      <td>3.00000</td>\n",
       "      <td>4.000000</td>\n",
       "      <td>21.750000</td>\n",
       "      <td>4.000000</td>\n",
       "      <td>1.0</td>\n",
       "      <td>1.000000</td>\n",
       "    </tr>\n",
       "    <tr>\n",
       "      <th>max</th>\n",
       "      <td>1.0</td>\n",
       "      <td>2.040816e+01</td>\n",
       "      <td>1.000000</td>\n",
       "      <td>1.461000</td>\n",
       "      <td>NaN</td>\n",
       "      <td>4.00000</td>\n",
       "      <td>5.000000</td>\n",
       "      <td>29.000000</td>\n",
       "      <td>5.000000</td>\n",
       "      <td>1.0</td>\n",
       "      <td>1.000000</td>\n",
       "    </tr>\n",
       "  </tbody>\n",
       "</table>\n",
       "</div>"
      ],
      "text/plain": [
       "       session     frameRate  resp.corr    resp.rt  resp.duration  \\\n",
       "count     32.0  3.200000e+01  30.000000  30.000000            0.0   \n",
       "mean       1.0  2.040816e+01   0.966667   0.814500            NaN   \n",
       "std        0.0  3.609561e-15   0.182574   0.227043            NaN   \n",
       "min        1.0  2.040816e+01   0.000000   0.342000            NaN   \n",
       "25%        1.0  2.040816e+01   1.000000   0.680250            NaN   \n",
       "50%        1.0  2.040816e+01   1.000000   0.760000            NaN   \n",
       "75%        1.0  2.040816e+01   1.000000   0.970000            NaN   \n",
       "max        1.0  2.040816e+01   1.000000   1.461000            NaN   \n",
       "\n",
       "       trials.thisRepN  trials.thisTrialN  trials.thisN  trials.thisIndex  \\\n",
       "count         30.00000          30.000000     30.000000         30.000000   \n",
       "mean           2.00000           2.500000     14.500000          2.500000   \n",
       "std            1.43839           1.737021      8.803408          1.737021   \n",
       "min            0.00000           0.000000      0.000000          0.000000   \n",
       "25%            1.00000           1.000000      7.250000          1.000000   \n",
       "50%            2.00000           2.500000     14.500000          2.500000   \n",
       "75%            3.00000           4.000000     21.750000          4.000000   \n",
       "max            4.00000           5.000000     29.000000          5.000000   \n",
       "\n",
       "       trials.ran  congruent  \n",
       "count        30.0  30.000000  \n",
       "mean          1.0   0.500000  \n",
       "std           0.0   0.508548  \n",
       "min           1.0   0.000000  \n",
       "25%           1.0   0.000000  \n",
       "50%           1.0   0.500000  \n",
       "75%           1.0   1.000000  \n",
       "max           1.0   1.000000  "
      ]
     },
     "execution_count": 96,
     "metadata": {},
     "output_type": "execute_result"
    }
   ],
   "source": [
    "data_loaded.describe()"
   ]
  },
  {
   "cell_type": "markdown",
   "metadata": {
    "slideshow": {
     "slide_type": "fragment"
    },
    "solution2": "hidden",
    "solution2_first": true
   },
   "source": [
    "#### Exercise 4\n",
    "\n",
    "Damn: the same output as before. Do you have any idea what might have gone wrong?"
   ]
  },
  {
   "cell_type": "markdown",
   "metadata": {
    "solution2": "hidden"
   },
   "source": [
    "`Selecting` certain `columns` from a `dataframe` does not automatically create a new `dataframe` but returns the original `dataframe` with the `selected columns`. In order to have a respective adapted version of the `dataframe` to work with, we need to create a new `variable`"
   ]
  },
  {
   "cell_type": "markdown",
   "metadata": {
    "slideshow": {
     "slide_type": "subslide"
    }
   },
   "source": [
    "Alright, so let's create a new `adapted` version of our `dataframe` that only contains the `specified columns`:"
   ]
  },
  {
   "cell_type": "code",
   "execution_count": 104,
   "metadata": {},
   "outputs": [],
   "source": []
  },
  {
   "cell_type": "code",
   "execution_count": 106,
   "metadata": {},
   "outputs": [
    {
     "data": {
      "text/html": [
       "<div>\n",
       "<style scoped>\n",
       "    .dataframe tbody tr th:only-of-type {\n",
       "        vertical-align: middle;\n",
       "    }\n",
       "\n",
       "    .dataframe tbody tr th {\n",
       "        vertical-align: top;\n",
       "    }\n",
       "\n",
       "    .dataframe thead th {\n",
       "        text-align: right;\n",
       "    }\n",
       "</style>\n",
       "<table border=\"1\" class=\"dataframe\">\n",
       "  <thead>\n",
       "    <tr style=\"text-align: right;\">\n",
       "      <th></th>\n",
       "      <th>participant</th>\n",
       "      <th>session</th>\n",
       "      <th>date</th>\n",
       "      <th>resp.corr</th>\n",
       "      <th>resp.rt</th>\n",
       "      <th>congruent</th>\n",
       "    </tr>\n",
       "  </thead>\n",
       "  <tbody>\n",
       "    <tr>\n",
       "      <th>0</th>\n",
       "      <td>AG_01_02</td>\n",
       "      <td>1</td>\n",
       "      <td>2025-01-23_13h12.02.354</td>\n",
       "      <td>NaN</td>\n",
       "      <td>NaN</td>\n",
       "      <td>NaN</td>\n",
       "    </tr>\n",
       "    <tr>\n",
       "      <th>1</th>\n",
       "      <td>AG_01_02</td>\n",
       "      <td>1</td>\n",
       "      <td>2025-01-23_13h12.02.354</td>\n",
       "      <td>1.0</td>\n",
       "      <td>0.635</td>\n",
       "      <td>0.0</td>\n",
       "    </tr>\n",
       "    <tr>\n",
       "      <th>2</th>\n",
       "      <td>AG_01_02</td>\n",
       "      <td>1</td>\n",
       "      <td>2025-01-23_13h12.02.354</td>\n",
       "      <td>1.0</td>\n",
       "      <td>0.342</td>\n",
       "      <td>1.0</td>\n",
       "    </tr>\n",
       "    <tr>\n",
       "      <th>3</th>\n",
       "      <td>AG_01_02</td>\n",
       "      <td>1</td>\n",
       "      <td>2025-01-23_13h12.02.354</td>\n",
       "      <td>0.0</td>\n",
       "      <td>0.641</td>\n",
       "      <td>0.0</td>\n",
       "    </tr>\n",
       "    <tr>\n",
       "      <th>4</th>\n",
       "      <td>AG_01_02</td>\n",
       "      <td>1</td>\n",
       "      <td>2025-01-23_13h12.02.354</td>\n",
       "      <td>1.0</td>\n",
       "      <td>1.076</td>\n",
       "      <td>0.0</td>\n",
       "    </tr>\n",
       "    <tr>\n",
       "      <th>5</th>\n",
       "      <td>AG_01_02</td>\n",
       "      <td>1</td>\n",
       "      <td>2025-01-23_13h12.02.354</td>\n",
       "      <td>1.0</td>\n",
       "      <td>0.680</td>\n",
       "      <td>1.0</td>\n",
       "    </tr>\n",
       "    <tr>\n",
       "      <th>6</th>\n",
       "      <td>AG_01_02</td>\n",
       "      <td>1</td>\n",
       "      <td>2025-01-23_13h12.02.354</td>\n",
       "      <td>1.0</td>\n",
       "      <td>0.769</td>\n",
       "      <td>1.0</td>\n",
       "    </tr>\n",
       "    <tr>\n",
       "      <th>7</th>\n",
       "      <td>AG_01_02</td>\n",
       "      <td>1</td>\n",
       "      <td>2025-01-23_13h12.02.354</td>\n",
       "      <td>1.0</td>\n",
       "      <td>0.981</td>\n",
       "      <td>0.0</td>\n",
       "    </tr>\n",
       "    <tr>\n",
       "      <th>8</th>\n",
       "      <td>AG_01_02</td>\n",
       "      <td>1</td>\n",
       "      <td>2025-01-23_13h12.02.354</td>\n",
       "      <td>1.0</td>\n",
       "      <td>0.747</td>\n",
       "      <td>1.0</td>\n",
       "    </tr>\n",
       "    <tr>\n",
       "      <th>9</th>\n",
       "      <td>AG_01_02</td>\n",
       "      <td>1</td>\n",
       "      <td>2025-01-23_13h12.02.354</td>\n",
       "      <td>1.0</td>\n",
       "      <td>0.704</td>\n",
       "      <td>1.0</td>\n",
       "    </tr>\n",
       "  </tbody>\n",
       "</table>\n",
       "</div>"
      ],
      "text/plain": [
       "  participant  session                     date  resp.corr  resp.rt  congruent\n",
       "0    AG_01_02        1  2025-01-23_13h12.02.354        NaN      NaN        NaN\n",
       "1    AG_01_02        1  2025-01-23_13h12.02.354        1.0    0.635        0.0\n",
       "2    AG_01_02        1  2025-01-23_13h12.02.354        1.0    0.342        1.0\n",
       "3    AG_01_02        1  2025-01-23_13h12.02.354        0.0    0.641        0.0\n",
       "4    AG_01_02        1  2025-01-23_13h12.02.354        1.0    1.076        0.0\n",
       "5    AG_01_02        1  2025-01-23_13h12.02.354        1.0    0.680        1.0\n",
       "6    AG_01_02        1  2025-01-23_13h12.02.354        1.0    0.769        1.0\n",
       "7    AG_01_02        1  2025-01-23_13h12.02.354        1.0    0.981        0.0\n",
       "8    AG_01_02        1  2025-01-23_13h12.02.354        1.0    0.747        1.0\n",
       "9    AG_01_02        1  2025-01-23_13h12.02.354        1.0    0.704        1.0"
      ]
     },
     "execution_count": 106,
     "metadata": {},
     "output_type": "execute_result"
    }
   ],
   "source": [
    "data_loaded_sub.head(n=10)"
   ]
  },
  {
   "cell_type": "markdown",
   "metadata": {
    "slideshow": {
     "slide_type": "subslide"
    }
   },
   "source": [
    "Now we can try our `.describe()` `function` again:"
   ]
  },
  {
   "cell_type": "code",
   "execution_count": 34,
   "metadata": {},
   "outputs": [
    {
     "data": {
      "text/html": [
       "<div>\n",
       "<style scoped>\n",
       "    .dataframe tbody tr th:only-of-type {\n",
       "        vertical-align: middle;\n",
       "    }\n",
       "\n",
       "    .dataframe tbody tr th {\n",
       "        vertical-align: top;\n",
       "    }\n",
       "\n",
       "    .dataframe thead th {\n",
       "        text-align: right;\n",
       "    }\n",
       "</style>\n",
       "<table border=\"1\" class=\"dataframe\">\n",
       "  <thead>\n",
       "    <tr style=\"text-align: right;\">\n",
       "      <th></th>\n",
       "      <th>session</th>\n",
       "      <th>resp.corr</th>\n",
       "      <th>resp.rt</th>\n",
       "      <th>congruent</th>\n",
       "    </tr>\n",
       "  </thead>\n",
       "  <tbody>\n",
       "    <tr>\n",
       "      <th>count</th>\n",
       "      <td>32.0</td>\n",
       "      <td>30.000000</td>\n",
       "      <td>30.000000</td>\n",
       "      <td>30.000000</td>\n",
       "    </tr>\n",
       "    <tr>\n",
       "      <th>mean</th>\n",
       "      <td>1.0</td>\n",
       "      <td>0.966667</td>\n",
       "      <td>0.814500</td>\n",
       "      <td>0.500000</td>\n",
       "    </tr>\n",
       "    <tr>\n",
       "      <th>std</th>\n",
       "      <td>0.0</td>\n",
       "      <td>0.182574</td>\n",
       "      <td>0.227043</td>\n",
       "      <td>0.508548</td>\n",
       "    </tr>\n",
       "    <tr>\n",
       "      <th>min</th>\n",
       "      <td>1.0</td>\n",
       "      <td>0.000000</td>\n",
       "      <td>0.342000</td>\n",
       "      <td>0.000000</td>\n",
       "    </tr>\n",
       "    <tr>\n",
       "      <th>25%</th>\n",
       "      <td>1.0</td>\n",
       "      <td>1.000000</td>\n",
       "      <td>0.680250</td>\n",
       "      <td>0.000000</td>\n",
       "    </tr>\n",
       "    <tr>\n",
       "      <th>50%</th>\n",
       "      <td>1.0</td>\n",
       "      <td>1.000000</td>\n",
       "      <td>0.760000</td>\n",
       "      <td>0.500000</td>\n",
       "    </tr>\n",
       "    <tr>\n",
       "      <th>75%</th>\n",
       "      <td>1.0</td>\n",
       "      <td>1.000000</td>\n",
       "      <td>0.970000</td>\n",
       "      <td>1.000000</td>\n",
       "    </tr>\n",
       "    <tr>\n",
       "      <th>max</th>\n",
       "      <td>1.0</td>\n",
       "      <td>1.000000</td>\n",
       "      <td>1.461000</td>\n",
       "      <td>1.000000</td>\n",
       "    </tr>\n",
       "  </tbody>\n",
       "</table>\n",
       "</div>"
      ],
      "text/plain": [
       "       session  resp.corr    resp.rt  congruent\n",
       "count     32.0  30.000000  30.000000  30.000000\n",
       "mean       1.0   0.966667   0.814500   0.500000\n",
       "std        0.0   0.182574   0.227043   0.508548\n",
       "min        1.0   0.000000   0.342000   0.000000\n",
       "25%        1.0   1.000000   0.680250   0.000000\n",
       "50%        1.0   1.000000   0.760000   0.500000\n",
       "75%        1.0   1.000000   0.970000   1.000000\n",
       "max        1.0   1.000000   1.461000   1.000000"
      ]
     },
     "execution_count": 34,
     "metadata": {},
     "output_type": "execute_result"
    }
   ],
   "source": [
    "data_loaded_sub.describe()"
   ]
  },
  {
   "cell_type": "markdown",
   "metadata": {
    "slideshow": {
     "slide_type": "fragment"
    }
   },
   "source": [
    "Still not quite there...maybe we should check the `data type` of the `values`/`series` in the `columns`. Lucky for us, `pandas` has a respective `function` to easily do that: `.dtypes`:"
   ]
  },
  {
   "cell_type": "code",
   "execution_count": 109,
   "metadata": {},
   "outputs": [
    {
     "data": {
      "text/plain": [
       "participant     object\n",
       "session          int64\n",
       "date            object\n",
       "resp.corr      float64\n",
       "resp.rt        float64\n",
       "congruent      float64\n",
       "dtype: object"
      ]
     },
     "execution_count": 109,
     "metadata": {},
     "output_type": "execute_result"
    }
   ],
   "source": [
    "data_loaded_sub.dtypes"
   ]
  },
  {
   "cell_type": "markdown",
   "metadata": {
    "slideshow": {
     "slide_type": "subslide"
    }
   },
   "source": [
    "Oh, it appears that only the `columns` that contain `values` of a numeric type, here `float64` are included in the `descriptive` summary. This actually makes sense as computing `descriptive statistics` from `strings`, `booleans` or the alike wouldn't make a lot of sense per se. For this to work, we would need to change their data to a respective `numeric` expression. However, let's quickly check the content of the other `columns`:"
   ]
  },
  {
   "cell_type": "code",
   "execution_count": 112,
   "metadata": {
    "slideshow": {
     "slide_type": "-"
    }
   },
   "outputs": [
    {
     "name": "stdout",
     "output_type": "stream",
     "text": [
      "The data type of column participant is <class 'str'>\n",
      "The data type of column session is <class 'numpy.int64'>\n",
      "The data type of column date is <class 'str'>\n",
      "The data type of column resp.corr is <class 'numpy.float64'>\n",
      "The data type of column resp.rt is <class 'numpy.float64'>\n",
      "The data type of column congruent is <class 'numpy.float64'>\n"
     ]
    }
   ],
   "source": [
    "for column in columns_select:\n",
    "    print('The data type of column %s is %s' %(column, type(data_loaded_sub[column][3])))"
   ]
  },
  {
   "cell_type": "markdown",
   "metadata": {},
   "source": [
    "The `.describe()` function is obviously super handy but we could also obtain the same information using different built-in `functions`, for example `.mean()` and `std()`. "
   ]
  },
  {
   "cell_type": "code",
   "execution_count": 115,
   "metadata": {},
   "outputs": [
    {
     "name": "stdout",
     "output_type": "stream",
     "text": [
      "0.8145\n",
      "0.227043175295528\n"
     ]
    }
   ],
   "source": [
    "print(data_loaded_sub['resp.rt'].mean())\n",
    "print(data_loaded_sub['resp.rt'].std())"
   ]
  },
  {
   "cell_type": "markdown",
   "metadata": {
    "solution2": "hidden",
    "solution2_first": true
   },
   "source": [
    "#### Exercise 5\n",
    "\n",
    "How would you compute the `mean` and `sd` for the `ratings` of the other `variables`?"
   ]
  },
  {
   "cell_type": "code",
   "execution_count": null,
   "metadata": {
    "solution2": "hidden"
   },
   "outputs": [],
   "source": []
  },
  {
   "cell_type": "markdown",
   "metadata": {
    "slideshow": {
     "slide_type": "subslide"
    }
   },
   "source": [
    "Another thing that you might have noticed already is that we have quite a large number of `nan`, i.e. `not a number`, in our `dataframe` and thus `dataset`. "
   ]
  },
  {
   "cell_type": "markdown",
   "metadata": {},
   "source": [
    "# Understanding `.loc` and `.iloc` in pandas\n",
    "\n",
    "In pandas, `.loc` and `.iloc` are two commonly used indexers for selecting and manipulating data in DataFrames. They serve different purposes and operate based on different selection criteria.\n",
    "\n",
    "## `.loc` (Label-based Indexing)\n",
    "`.loc` is used for selecting data by labels (explicit index or column names). It allows selection based on row and column labels, making it intuitive when working with named indices.\n",
    "\n",
    "### Features of `.loc`:\n",
    "- Uses explicit labels to select data.\n",
    "- Supports selection of single values, ranges, and lists of labels.\n",
    "- Allows Boolean indexing for conditional selections.\n",
    "- Includes both start and end labels when slicing.\n",
    "\n",
    "## `.iloc` (Integer-location Based Indexing)\n",
    "`.iloc` is used for selecting data by numerical (positional) index. It is useful when you do not rely on explicit labels and instead work with the position of rows and columns.\n",
    "\n",
    "### Features of `.iloc`:\n",
    "- Uses integer-based index positions.\n",
    "- Supports selection of individual values, slices, and lists of indices.\n",
    "- Excludes the end index in slicing.\n",
    "- Does not recognize explicit row or column labels.\n",
    "\n",
    "## Key Differences:\n",
    "| Feature  | `.loc`  | `.iloc`  |\n",
    "|----------|--------|--------|\n",
    "| Indexing type | Label-based | Integer-based |\n",
    "| Row selection | Uses row labels | Uses row positions |\n",
    "| Column selection | Uses column names | Uses column positions |\n",
    "| Slicing behavior | Includes the end index | Excludes the end index |\n",
    "| Boolean indexing | Supported | Not supported directly |\n",
    "\n",
    "Both `.loc` and `.iloc` are powerful tools for selecting data in pandas DataFrames and should be chosen based on whether you are working with labels or numerical indices.\n"
   ]
  },
  {
   "cell_type": "code",
   "execution_count": 140,
   "metadata": {},
   "outputs": [
    {
     "name": "stdout",
     "output_type": "stream",
     "text": [
      "participant                         AG_01_02\n",
      "session                                    1\n",
      "date                 2025-01-23_13h12.02.354\n",
      "expName                               stroop\n",
      "psychopyVersion                     2023.1.3\n",
      "OS                                  MacIntel\n",
      "frameRate                          20.408163\n",
      "resp.keys                                NaN\n",
      "resp.corr                                NaN\n",
      "resp.rt                                  NaN\n",
      "resp.duration                            NaN\n",
      "trials.thisRepN                          NaN\n",
      "trials.thisTrialN                        NaN\n",
      "trials.thisN                             NaN\n",
      "trials.thisIndex                         NaN\n",
      "trials.ran                               NaN\n",
      "text                                     NaN\n",
      "letterColor                              NaN\n",
      "corrAns                                  NaN\n",
      "congruent                                NaN\n",
      "Name: 0, dtype: object\n",
      "participant                         AG_01_02\n",
      "session                                    1\n",
      "date                 2025-01-23_13h12.02.354\n",
      "expName                               stroop\n",
      "psychopyVersion                     2023.1.3\n",
      "OS                                  MacIntel\n",
      "frameRate                          20.408163\n",
      "resp.keys                                NaN\n",
      "resp.corr                                NaN\n",
      "resp.rt                                  NaN\n",
      "resp.duration                            NaN\n",
      "trials.thisRepN                          NaN\n",
      "trials.thisTrialN                        NaN\n",
      "trials.thisN                             NaN\n",
      "trials.thisIndex                         NaN\n",
      "trials.ran                               NaN\n",
      "text                                     NaN\n",
      "letterColor                              NaN\n",
      "corrAns                                  NaN\n",
      "congruent                                NaN\n",
      "Name: 0, dtype: object\n"
     ]
    }
   ],
   "source": [
    "# Example 1: Selecting a single row\n",
    "first_row_loc = data_loaded.loc[0]  # Using label\n",
    "first_row_iloc = data_loaded.iloc[0]  # Using position\n",
    "\n",
    "print(first_row_loc)\n",
    "print(first_row_iloc)\n",
    "\n",
    "#wow, it looks like they are identical!"
   ]
  },
  {
   "cell_type": "code",
   "execution_count": 142,
   "metadata": {},
   "outputs": [
    {
     "name": "stdout",
     "output_type": "stream",
     "text": [
      "  participant  session                     date expName psychopyVersion  \\\n",
      "0    AG_01_02        1  2025-01-23_13h12.02.354  stroop        2023.1.3   \n",
      "1    AG_01_02        1  2025-01-23_13h12.02.354  stroop        2023.1.3   \n",
      "2    AG_01_02        1  2025-01-23_13h12.02.354  stroop        2023.1.3   \n",
      "\n",
      "         OS  frameRate resp.keys  resp.corr  resp.rt  resp.duration  \\\n",
      "0  MacIntel  20.408163       NaN        NaN      NaN            NaN   \n",
      "1  MacIntel  20.408163      left        1.0    0.635            NaN   \n",
      "2  MacIntel  20.408163      down        1.0    0.342            NaN   \n",
      "\n",
      "   trials.thisRepN  trials.thisTrialN  trials.thisN  trials.thisIndex  \\\n",
      "0              NaN                NaN           NaN               NaN   \n",
      "1              0.0                0.0           0.0               5.0   \n",
      "2              0.0                1.0           1.0               2.0   \n",
      "\n",
      "   trials.ran   text letterColor corrAns  congruent  \n",
      "0         NaN    NaN         NaN     NaN        NaN  \n",
      "1         1.0   blue         red    left        0.0  \n",
      "2         1.0  green       green    down        1.0  \n",
      "  participant  session                     date expName psychopyVersion  \\\n",
      "0    AG_01_02        1  2025-01-23_13h12.02.354  stroop        2023.1.3   \n",
      "1    AG_01_02        1  2025-01-23_13h12.02.354  stroop        2023.1.3   \n",
      "\n",
      "         OS  frameRate resp.keys  resp.corr  resp.rt  resp.duration  \\\n",
      "0  MacIntel  20.408163       NaN        NaN      NaN            NaN   \n",
      "1  MacIntel  20.408163      left        1.0    0.635            NaN   \n",
      "\n",
      "   trials.thisRepN  trials.thisTrialN  trials.thisN  trials.thisIndex  \\\n",
      "0              NaN                NaN           NaN               NaN   \n",
      "1              0.0                0.0           0.0               5.0   \n",
      "\n",
      "   trials.ran  text letterColor corrAns  congruent  \n",
      "0         NaN   NaN         NaN     NaN        NaN  \n",
      "1         1.0  blue         red    left        0.0  \n"
     ]
    }
   ],
   "source": [
    "# Example 2: Selecting multiple rows\n",
    "first_three_rows_loc = data_loaded.loc[:2] \n",
    "first_three_rows_iloc = data_loaded.iloc[:2]  \n",
    "\n",
    "print(first_three_rows_loc)\n",
    "print(first_three_rows_iloc)"
   ]
  },
  {
   "cell_type": "markdown",
   "metadata": {},
   "source": [
    "But here it is different? Why?\n",
    "\n",
    "`.loc` is using labels (inclusive)  and `.iloc` using positions (exclusive)\n",
    "\n",
    "Okay, now collumns time. Try to select first collumn using both `.loc` and `.iloc`"
   ]
  },
  {
   "cell_type": "code",
   "execution_count": 154,
   "metadata": {},
   "outputs": [
    {
     "data": {
      "text/plain": [
       "0     AG_01_02\n",
       "1     AG_01_02\n",
       "2     AG_01_02\n",
       "3     AG_01_02\n",
       "4     AG_01_02\n",
       "5     AG_01_02\n",
       "6     AG_01_02\n",
       "7     AG_01_02\n",
       "8     AG_01_02\n",
       "9     AG_01_02\n",
       "10    AG_01_02\n",
       "11    AG_01_02\n",
       "12    AG_01_02\n",
       "13    AG_01_02\n",
       "14    AG_01_02\n",
       "15    AG_01_02\n",
       "16    AG_01_02\n",
       "17    AG_01_02\n",
       "18    AG_01_02\n",
       "19    AG_01_02\n",
       "20    AG_01_02\n",
       "21    AG_01_02\n",
       "22    AG_01_02\n",
       "23    AG_01_02\n",
       "24    AG_01_02\n",
       "25    AG_01_02\n",
       "26    AG_01_02\n",
       "27    AG_01_02\n",
       "28    AG_01_02\n",
       "29    AG_01_02\n",
       "30    AG_01_02\n",
       "31    AG_01_02\n",
       "Name: participant, dtype: object"
      ]
     },
     "execution_count": 154,
     "metadata": {},
     "output_type": "execute_result"
    }
   ],
   "source": [
    "first_collumn = data_loaded.loc[]\n",
    "first_collumn_i = data_loaded.iloc[]\n",
    "\n",
    "print(first_collumn)\n",
    "print(first_collumn_i)"
   ]
  },
  {
   "cell_type": "markdown",
   "metadata": {},
   "source": [
    "Wow, great. Now one more time. Try to select rows 5-8 for collumns 3-5"
   ]
  },
  {
   "cell_type": "code",
   "execution_count": null,
   "metadata": {},
   "outputs": [],
   "source": [
    "weird_data = data_loaded.loc[]\n",
    "weird_data_i = data_loaded.iloc[]\n",
    "\n",
    "print(weird_data)\n",
    "print(weird_data_i)"
   ]
  },
  {
   "cell_type": "markdown",
   "metadata": {},
   "source": [
    "Great! Actually loc is very useful when it comes to bollean and data filtering. For example, you can easily select correct trials and have its reaction time"
   ]
  },
  {
   "cell_type": "code",
   "execution_count": 158,
   "metadata": {},
   "outputs": [
    {
     "name": "stdout",
     "output_type": "stream",
     "text": [
      "   participant  resp.rt\n",
      "1     AG_01_02    0.635\n",
      "2     AG_01_02    0.342\n",
      "4     AG_01_02    1.076\n",
      "5     AG_01_02    0.680\n",
      "6     AG_01_02    0.769\n",
      "7     AG_01_02    0.981\n",
      "8     AG_01_02    0.747\n",
      "9     AG_01_02    0.704\n",
      "10    AG_01_02    0.620\n",
      "11    AG_01_02    0.986\n",
      "12    AG_01_02    1.197\n",
      "13    AG_01_02    0.751\n",
      "14    AG_01_02    0.732\n",
      "15    AG_01_02    0.937\n",
      "16    AG_01_02    0.847\n",
      "17    AG_01_02    0.681\n",
      "18    AG_01_02    0.920\n",
      "19    AG_01_02    0.751\n",
      "20    AG_01_02    0.993\n",
      "21    AG_01_02    1.044\n",
      "22    AG_01_02    0.776\n",
      "23    AG_01_02    0.643\n",
      "24    AG_01_02    0.442\n",
      "25    AG_01_02    0.718\n",
      "26    AG_01_02    0.891\n",
      "27    AG_01_02    1.461\n",
      "28    AG_01_02    0.559\n",
      "29    AG_01_02    1.028\n",
      "30    AG_01_02    0.883\n"
     ]
    }
   ],
   "source": [
    "# Task 1: Extract trials where response was correct and get reaction times\n",
    "correct_trials = data_loaded.loc[data_loaded['resp.corr'] == 1, ['participant', 'resp.rt']]\n",
    "print(correct_trials)"
   ]
  },
  {
   "cell_type": "code",
   "execution_count": null,
   "metadata": {},
   "outputs": [],
   "source": [
    "# Task 2: Extract trials where condition was congruent and get reaction times and responses correct"
   ]
  },
  {
   "cell_type": "code",
   "execution_count": null,
   "metadata": {},
   "outputs": [],
   "source": []
  },
  {
   "cell_type": "markdown",
   "metadata": {
    "slideshow": {
     "slide_type": "subslide"
    }
   },
   "source": [
    "### Data wrangling\n",
    "\n",
    "Together, this creates the impression and maybe necessity to address these things via `handling missing` and rearranging our `dataframe`. This process (or parts of it) can be referred to as `data wrangling` and is actually a very common step when `analyzing data` that contain various different `operations`. For now, we will focus on the two we outlined before: `handling missing data` and `rearranging our dataframe`.    \n"
   ]
  },
  {
   "cell_type": "markdown",
   "metadata": {
    "slideshow": {
     "slide_type": "subslide"
    }
   },
   "source": [
    "#### Handling missing values\n",
    "\n",
    "Talking about the `handling` of `missing values`, we could have several options: `imputation`, `deletion`, etc. . In our case we have a mixture of problems. The first `row` appear to only have `nan` except for the `demographic information` while the others could contain `nan` for some of the `values`.    "
   ]
  },
  {
   "cell_type": "markdown",
   "metadata": {
    "slideshow": {
     "slide_type": "fragment"
    }
   },
   "source": [
    "Given that we want to evaluate `rows` in more detail, we can make use of the incredible `.iterrows()` `function` which will implement a `for loop` that will `loop` over the `rows` of `dataframe` providing the `index` and respective `content`/`values`. "
   ]
  },
  {
   "cell_type": "markdown",
   "metadata": {
    "slideshow": {
     "slide_type": "subslide"
    }
   },
   "source": [
    "Applied to our use case, we will employ `.iterrows()` to all but the first few `columns`, i.e. `3`, of our `dataframe` as they contain the `demographic information` and, for each `row`, are going to `print` the respective `index` and if it only contains `nan`. The latter can easily be evaluated using a combination of `.isnull()` and `.all()` that checks if `all` `values` of a given `row` (or `dataframe`, `series`, etc.) is `nan`.  "
   ]
  },
  {
   "cell_type": "code",
   "execution_count": 160,
   "metadata": {},
   "outputs": [
    {
     "name": "stdout",
     "output_type": "stream",
     "text": [
      "The participant AG_01_02 had a reaction time of nan seconds.\n",
      "The participant AG_01_02 had a reaction time of 0.635 seconds.\n",
      "The participant AG_01_02 had a reaction time of 0.342 seconds.\n",
      "The participant AG_01_02 had a reaction time of 0.641 seconds.\n",
      "The participant AG_01_02 had a reaction time of 1.076 seconds.\n",
      "The participant AG_01_02 had a reaction time of 0.68 seconds.\n",
      "The participant AG_01_02 had a reaction time of 0.769 seconds.\n",
      "The participant AG_01_02 had a reaction time of 0.981 seconds.\n",
      "The participant AG_01_02 had a reaction time of 0.747 seconds.\n",
      "The participant AG_01_02 had a reaction time of 0.704 seconds.\n",
      "The participant AG_01_02 had a reaction time of 0.62 seconds.\n",
      "The participant AG_01_02 had a reaction time of 0.986 seconds.\n",
      "The participant AG_01_02 had a reaction time of 1.197 seconds.\n",
      "The participant AG_01_02 had a reaction time of 0.751 seconds.\n",
      "The participant AG_01_02 had a reaction time of 0.732 seconds.\n",
      "The participant AG_01_02 had a reaction time of 0.937 seconds.\n",
      "The participant AG_01_02 had a reaction time of 0.847 seconds.\n",
      "The participant AG_01_02 had a reaction time of 0.681 seconds.\n",
      "The participant AG_01_02 had a reaction time of 0.92 seconds.\n",
      "The participant AG_01_02 had a reaction time of 0.751 seconds.\n",
      "The participant AG_01_02 had a reaction time of 0.993 seconds.\n",
      "The participant AG_01_02 had a reaction time of 1.044 seconds.\n",
      "The participant AG_01_02 had a reaction time of 0.776 seconds.\n",
      "The participant AG_01_02 had a reaction time of 0.643 seconds.\n",
      "The participant AG_01_02 had a reaction time of 0.442 seconds.\n",
      "The participant AG_01_02 had a reaction time of 0.718 seconds.\n",
      "The participant AG_01_02 had a reaction time of 0.891 seconds.\n",
      "The participant AG_01_02 had a reaction time of 1.461 seconds.\n",
      "The participant AG_01_02 had a reaction time of 0.559 seconds.\n",
      "The participant AG_01_02 had a reaction time of 1.028 seconds.\n",
      "The participant AG_01_02 had a reaction time of 0.883 seconds.\n",
      "The participant AG_01_02 had a reaction time of nan seconds.\n"
     ]
    }
   ],
   "source": [
    "for index, values in data_loaded_sub.iterrows():\n",
    "    print('The participant %s had a reaction time of %s seconds.' %(values['participant'], values['resp.rt']))"
   ]
  },
  {
   "cell_type": "code",
   "execution_count": 176,
   "metadata": {
    "scrolled": true,
    "slideshow": {
     "slide_type": "subslide"
    }
   },
   "outputs": [
    {
     "name": "stdout",
     "output_type": "stream",
     "text": [
      "Row 0 has only nan: True\n",
      "Row 1 has only nan: False\n",
      "Row 2 has only nan: False\n",
      "Row 3 has only nan: False\n",
      "Row 4 has only nan: False\n",
      "Row 5 has only nan: False\n",
      "Row 6 has only nan: False\n",
      "Row 7 has only nan: False\n",
      "Row 8 has only nan: False\n",
      "Row 9 has only nan: False\n",
      "Row 10 has only nan: False\n",
      "Row 11 has only nan: False\n",
      "Row 12 has only nan: False\n",
      "Row 13 has only nan: False\n",
      "Row 14 has only nan: False\n",
      "Row 15 has only nan: False\n",
      "Row 16 has only nan: False\n",
      "Row 17 has only nan: False\n",
      "Row 18 has only nan: False\n",
      "Row 19 has only nan: False\n",
      "Row 20 has only nan: False\n",
      "Row 21 has only nan: False\n",
      "Row 22 has only nan: False\n",
      "Row 23 has only nan: False\n",
      "Row 24 has only nan: False\n",
      "Row 25 has only nan: False\n",
      "Row 26 has only nan: False\n",
      "Row 27 has only nan: False\n",
      "Row 28 has only nan: False\n",
      "Row 29 has only nan: False\n",
      "Row 30 has only nan: False\n",
      "Row 31 has only nan: True\n"
     ]
    }
   ],
   "source": [
    "rows_del = []\n",
    "\n",
    "for index, values in data_loaded_sub[data_loaded_sub.columns[3:]].iterrows():\n",
    "    \n",
    "    print('Row %s has only nan: %s' %(index,values.isnull().all()))\n",
    "    \n",
    "    if values.isnull().all():\n",
    "        rows_del.append(index)"
   ]
  },
  {
   "cell_type": "markdown",
   "metadata": {
    "slideshow": {
     "slide_type": "subslide"
    },
    "solution2": "hidden",
    "solution2_first": true
   },
   "source": [
    "#### Exercise 6\n",
    "\n",
    "What did we do via the `rows_del` and `if statement` parts of the code?  "
   ]
  },
  {
   "cell_type": "markdown",
   "metadata": {
    "solution2": "hidden"
   },
   "source": [
    "We create an empty `list` called `rows_del` to which we will `append` the `index` of a `row` `if` it only contains `nan`. "
   ]
  },
  {
   "cell_type": "markdown",
   "metadata": {
    "slideshow": {
     "slide_type": "subslide"
    }
   },
   "source": [
    "With this `list`, we can now simply remove the respective `rows` of our `dataframe` via the `.drop()` `function` which removes `rows` based on `indices`:"
   ]
  },
  {
   "cell_type": "code",
   "execution_count": 166,
   "metadata": {},
   "outputs": [
    {
     "name": "stdout",
     "output_type": "stream",
     "text": [
      "The following rows will be removed: [0, 31]\n"
     ]
    }
   ],
   "source": [
    "print('The following rows will be removed: %s' %rows_del)\n",
    ".drop()"
   ]
  },
  {
   "cell_type": "markdown",
   "metadata": {
    "slideshow": {
     "slide_type": "fragment"
    }
   },
   "source": [
    "Coolio, let's check our `dataframe again`:"
   ]
  },
  {
   "cell_type": "code",
   "execution_count": 172,
   "metadata": {},
   "outputs": [
    {
     "data": {
      "text/html": [
       "<div>\n",
       "<style scoped>\n",
       "    .dataframe tbody tr th:only-of-type {\n",
       "        vertical-align: middle;\n",
       "    }\n",
       "\n",
       "    .dataframe tbody tr th {\n",
       "        vertical-align: top;\n",
       "    }\n",
       "\n",
       "    .dataframe thead th {\n",
       "        text-align: right;\n",
       "    }\n",
       "</style>\n",
       "<table border=\"1\" class=\"dataframe\">\n",
       "  <thead>\n",
       "    <tr style=\"text-align: right;\">\n",
       "      <th></th>\n",
       "      <th>participant</th>\n",
       "      <th>session</th>\n",
       "      <th>date</th>\n",
       "      <th>resp.corr</th>\n",
       "      <th>resp.rt</th>\n",
       "      <th>congruent</th>\n",
       "    </tr>\n",
       "  </thead>\n",
       "  <tbody>\n",
       "    <tr>\n",
       "      <th>0</th>\n",
       "      <td>AG_01_02</td>\n",
       "      <td>1</td>\n",
       "      <td>2025-01-23_13h12.02.354</td>\n",
       "      <td>NaN</td>\n",
       "      <td>NaN</td>\n",
       "      <td>NaN</td>\n",
       "    </tr>\n",
       "    <tr>\n",
       "      <th>1</th>\n",
       "      <td>AG_01_02</td>\n",
       "      <td>1</td>\n",
       "      <td>2025-01-23_13h12.02.354</td>\n",
       "      <td>1.0</td>\n",
       "      <td>0.635</td>\n",
       "      <td>0.0</td>\n",
       "    </tr>\n",
       "    <tr>\n",
       "      <th>2</th>\n",
       "      <td>AG_01_02</td>\n",
       "      <td>1</td>\n",
       "      <td>2025-01-23_13h12.02.354</td>\n",
       "      <td>1.0</td>\n",
       "      <td>0.342</td>\n",
       "      <td>1.0</td>\n",
       "    </tr>\n",
       "    <tr>\n",
       "      <th>3</th>\n",
       "      <td>AG_01_02</td>\n",
       "      <td>1</td>\n",
       "      <td>2025-01-23_13h12.02.354</td>\n",
       "      <td>0.0</td>\n",
       "      <td>0.641</td>\n",
       "      <td>0.0</td>\n",
       "    </tr>\n",
       "    <tr>\n",
       "      <th>4</th>\n",
       "      <td>AG_01_02</td>\n",
       "      <td>1</td>\n",
       "      <td>2025-01-23_13h12.02.354</td>\n",
       "      <td>1.0</td>\n",
       "      <td>1.076</td>\n",
       "      <td>0.0</td>\n",
       "    </tr>\n",
       "    <tr>\n",
       "      <th>5</th>\n",
       "      <td>AG_01_02</td>\n",
       "      <td>1</td>\n",
       "      <td>2025-01-23_13h12.02.354</td>\n",
       "      <td>1.0</td>\n",
       "      <td>0.680</td>\n",
       "      <td>1.0</td>\n",
       "    </tr>\n",
       "    <tr>\n",
       "      <th>6</th>\n",
       "      <td>AG_01_02</td>\n",
       "      <td>1</td>\n",
       "      <td>2025-01-23_13h12.02.354</td>\n",
       "      <td>1.0</td>\n",
       "      <td>0.769</td>\n",
       "      <td>1.0</td>\n",
       "    </tr>\n",
       "    <tr>\n",
       "      <th>7</th>\n",
       "      <td>AG_01_02</td>\n",
       "      <td>1</td>\n",
       "      <td>2025-01-23_13h12.02.354</td>\n",
       "      <td>1.0</td>\n",
       "      <td>0.981</td>\n",
       "      <td>0.0</td>\n",
       "    </tr>\n",
       "    <tr>\n",
       "      <th>8</th>\n",
       "      <td>AG_01_02</td>\n",
       "      <td>1</td>\n",
       "      <td>2025-01-23_13h12.02.354</td>\n",
       "      <td>1.0</td>\n",
       "      <td>0.747</td>\n",
       "      <td>1.0</td>\n",
       "    </tr>\n",
       "    <tr>\n",
       "      <th>9</th>\n",
       "      <td>AG_01_02</td>\n",
       "      <td>1</td>\n",
       "      <td>2025-01-23_13h12.02.354</td>\n",
       "      <td>1.0</td>\n",
       "      <td>0.704</td>\n",
       "      <td>1.0</td>\n",
       "    </tr>\n",
       "  </tbody>\n",
       "</table>\n",
       "</div>"
      ],
      "text/plain": [
       "  participant  session                     date  resp.corr  resp.rt  congruent\n",
       "0    AG_01_02        1  2025-01-23_13h12.02.354        NaN      NaN        NaN\n",
       "1    AG_01_02        1  2025-01-23_13h12.02.354        1.0    0.635        0.0\n",
       "2    AG_01_02        1  2025-01-23_13h12.02.354        1.0    0.342        1.0\n",
       "3    AG_01_02        1  2025-01-23_13h12.02.354        0.0    0.641        0.0\n",
       "4    AG_01_02        1  2025-01-23_13h12.02.354        1.0    1.076        0.0\n",
       "5    AG_01_02        1  2025-01-23_13h12.02.354        1.0    0.680        1.0\n",
       "6    AG_01_02        1  2025-01-23_13h12.02.354        1.0    0.769        1.0\n",
       "7    AG_01_02        1  2025-01-23_13h12.02.354        1.0    0.981        0.0\n",
       "8    AG_01_02        1  2025-01-23_13h12.02.354        1.0    0.747        1.0\n",
       "9    AG_01_02        1  2025-01-23_13h12.02.354        1.0    0.704        1.0"
      ]
     },
     "execution_count": 172,
     "metadata": {},
     "output_type": "execute_result"
    }
   ],
   "source": [
    "data_loaded_sub.head(n=10)"
   ]
  },
  {
   "cell_type": "markdown",
   "metadata": {
    "slideshow": {
     "slide_type": "subslide"
    }
   },
   "source": [
    "Given that we have removed some `rows` and thus changed the `index` of our `dataframe`, it might be a good idea to `reset` it to reflect those changes. This can easily be done via the `.reset_index()` `function`:"
   ]
  },
  {
   "cell_type": "code",
   "execution_count": 174,
   "metadata": {},
   "outputs": [
    {
     "data": {
      "text/html": [
       "<div>\n",
       "<style scoped>\n",
       "    .dataframe tbody tr th:only-of-type {\n",
       "        vertical-align: middle;\n",
       "    }\n",
       "\n",
       "    .dataframe tbody tr th {\n",
       "        vertical-align: top;\n",
       "    }\n",
       "\n",
       "    .dataframe thead th {\n",
       "        text-align: right;\n",
       "    }\n",
       "</style>\n",
       "<table border=\"1\" class=\"dataframe\">\n",
       "  <thead>\n",
       "    <tr style=\"text-align: right;\">\n",
       "      <th></th>\n",
       "      <th>participant</th>\n",
       "      <th>session</th>\n",
       "      <th>date</th>\n",
       "      <th>resp.corr</th>\n",
       "      <th>resp.rt</th>\n",
       "      <th>congruent</th>\n",
       "    </tr>\n",
       "  </thead>\n",
       "  <tbody>\n",
       "    <tr>\n",
       "      <th>0</th>\n",
       "      <td>AG_01_02</td>\n",
       "      <td>1</td>\n",
       "      <td>2025-01-23_13h12.02.354</td>\n",
       "      <td>NaN</td>\n",
       "      <td>NaN</td>\n",
       "      <td>NaN</td>\n",
       "    </tr>\n",
       "    <tr>\n",
       "      <th>1</th>\n",
       "      <td>AG_01_02</td>\n",
       "      <td>1</td>\n",
       "      <td>2025-01-23_13h12.02.354</td>\n",
       "      <td>1.0</td>\n",
       "      <td>0.635</td>\n",
       "      <td>0.0</td>\n",
       "    </tr>\n",
       "    <tr>\n",
       "      <th>2</th>\n",
       "      <td>AG_01_02</td>\n",
       "      <td>1</td>\n",
       "      <td>2025-01-23_13h12.02.354</td>\n",
       "      <td>1.0</td>\n",
       "      <td>0.342</td>\n",
       "      <td>1.0</td>\n",
       "    </tr>\n",
       "    <tr>\n",
       "      <th>3</th>\n",
       "      <td>AG_01_02</td>\n",
       "      <td>1</td>\n",
       "      <td>2025-01-23_13h12.02.354</td>\n",
       "      <td>0.0</td>\n",
       "      <td>0.641</td>\n",
       "      <td>0.0</td>\n",
       "    </tr>\n",
       "    <tr>\n",
       "      <th>4</th>\n",
       "      <td>AG_01_02</td>\n",
       "      <td>1</td>\n",
       "      <td>2025-01-23_13h12.02.354</td>\n",
       "      <td>1.0</td>\n",
       "      <td>1.076</td>\n",
       "      <td>0.0</td>\n",
       "    </tr>\n",
       "    <tr>\n",
       "      <th>5</th>\n",
       "      <td>AG_01_02</td>\n",
       "      <td>1</td>\n",
       "      <td>2025-01-23_13h12.02.354</td>\n",
       "      <td>1.0</td>\n",
       "      <td>0.680</td>\n",
       "      <td>1.0</td>\n",
       "    </tr>\n",
       "    <tr>\n",
       "      <th>6</th>\n",
       "      <td>AG_01_02</td>\n",
       "      <td>1</td>\n",
       "      <td>2025-01-23_13h12.02.354</td>\n",
       "      <td>1.0</td>\n",
       "      <td>0.769</td>\n",
       "      <td>1.0</td>\n",
       "    </tr>\n",
       "    <tr>\n",
       "      <th>7</th>\n",
       "      <td>AG_01_02</td>\n",
       "      <td>1</td>\n",
       "      <td>2025-01-23_13h12.02.354</td>\n",
       "      <td>1.0</td>\n",
       "      <td>0.981</td>\n",
       "      <td>0.0</td>\n",
       "    </tr>\n",
       "    <tr>\n",
       "      <th>8</th>\n",
       "      <td>AG_01_02</td>\n",
       "      <td>1</td>\n",
       "      <td>2025-01-23_13h12.02.354</td>\n",
       "      <td>1.0</td>\n",
       "      <td>0.747</td>\n",
       "      <td>1.0</td>\n",
       "    </tr>\n",
       "    <tr>\n",
       "      <th>9</th>\n",
       "      <td>AG_01_02</td>\n",
       "      <td>1</td>\n",
       "      <td>2025-01-23_13h12.02.354</td>\n",
       "      <td>1.0</td>\n",
       "      <td>0.704</td>\n",
       "      <td>1.0</td>\n",
       "    </tr>\n",
       "  </tbody>\n",
       "</table>\n",
       "</div>"
      ],
      "text/plain": [
       "  participant  session                     date  resp.corr  resp.rt  congruent\n",
       "0    AG_01_02        1  2025-01-23_13h12.02.354        NaN      NaN        NaN\n",
       "1    AG_01_02        1  2025-01-23_13h12.02.354        1.0    0.635        0.0\n",
       "2    AG_01_02        1  2025-01-23_13h12.02.354        1.0    0.342        1.0\n",
       "3    AG_01_02        1  2025-01-23_13h12.02.354        0.0    0.641        0.0\n",
       "4    AG_01_02        1  2025-01-23_13h12.02.354        1.0    1.076        0.0\n",
       "5    AG_01_02        1  2025-01-23_13h12.02.354        1.0    0.680        1.0\n",
       "6    AG_01_02        1  2025-01-23_13h12.02.354        1.0    0.769        1.0\n",
       "7    AG_01_02        1  2025-01-23_13h12.02.354        1.0    0.981        0.0\n",
       "8    AG_01_02        1  2025-01-23_13h12.02.354        1.0    0.747        1.0\n",
       "9    AG_01_02        1  2025-01-23_13h12.02.354        1.0    0.704        1.0"
      ]
     },
     "execution_count": 174,
     "metadata": {},
     "output_type": "execute_result"
    }
   ],
   "source": [
    "data_loaded_sub.reset_index(drop=True, inplace=True)\n",
    "\n",
    "data_loaded_sub.head(n=10)"
   ]
  },
  {
   "cell_type": "markdown",
   "metadata": {},
   "source": [
    "However, we could make our lives a bit easier, if we know that certain value could not be nan in the experiment. For example, we know that congruent parameter should be always 0 or 1. Based on this we could much easily remove not needed rows. "
   ]
  },
  {
   "cell_type": "code",
   "execution_count": 52,
   "metadata": {},
   "outputs": [
    {
     "data": {
      "text/html": [
       "<div>\n",
       "<style scoped>\n",
       "    .dataframe tbody tr th:only-of-type {\n",
       "        vertical-align: middle;\n",
       "    }\n",
       "\n",
       "    .dataframe tbody tr th {\n",
       "        vertical-align: top;\n",
       "    }\n",
       "\n",
       "    .dataframe thead th {\n",
       "        text-align: right;\n",
       "    }\n",
       "</style>\n",
       "<table border=\"1\" class=\"dataframe\">\n",
       "  <thead>\n",
       "    <tr style=\"text-align: right;\">\n",
       "      <th></th>\n",
       "      <th>participant</th>\n",
       "      <th>session</th>\n",
       "      <th>date</th>\n",
       "      <th>resp.corr</th>\n",
       "      <th>resp.rt</th>\n",
       "      <th>congruent</th>\n",
       "    </tr>\n",
       "  </thead>\n",
       "  <tbody>\n",
       "    <tr>\n",
       "      <th>0</th>\n",
       "      <td>AG_01_02</td>\n",
       "      <td>1</td>\n",
       "      <td>2025-01-23_13h12.02.354</td>\n",
       "      <td>NaN</td>\n",
       "      <td>NaN</td>\n",
       "      <td>NaN</td>\n",
       "    </tr>\n",
       "    <tr>\n",
       "      <th>1</th>\n",
       "      <td>AG_01_02</td>\n",
       "      <td>1</td>\n",
       "      <td>2025-01-23_13h12.02.354</td>\n",
       "      <td>1.0</td>\n",
       "      <td>0.635</td>\n",
       "      <td>0.0</td>\n",
       "    </tr>\n",
       "    <tr>\n",
       "      <th>2</th>\n",
       "      <td>AG_01_02</td>\n",
       "      <td>1</td>\n",
       "      <td>2025-01-23_13h12.02.354</td>\n",
       "      <td>1.0</td>\n",
       "      <td>0.342</td>\n",
       "      <td>1.0</td>\n",
       "    </tr>\n",
       "    <tr>\n",
       "      <th>3</th>\n",
       "      <td>AG_01_02</td>\n",
       "      <td>1</td>\n",
       "      <td>2025-01-23_13h12.02.354</td>\n",
       "      <td>0.0</td>\n",
       "      <td>0.641</td>\n",
       "      <td>0.0</td>\n",
       "    </tr>\n",
       "    <tr>\n",
       "      <th>4</th>\n",
       "      <td>AG_01_02</td>\n",
       "      <td>1</td>\n",
       "      <td>2025-01-23_13h12.02.354</td>\n",
       "      <td>1.0</td>\n",
       "      <td>1.076</td>\n",
       "      <td>0.0</td>\n",
       "    </tr>\n",
       "  </tbody>\n",
       "</table>\n",
       "</div>"
      ],
      "text/plain": [
       "  participant  session                     date  resp.corr  resp.rt  congruent\n",
       "0    AG_01_02        1  2025-01-23_13h12.02.354        NaN      NaN        NaN\n",
       "1    AG_01_02        1  2025-01-23_13h12.02.354        1.0    0.635        0.0\n",
       "2    AG_01_02        1  2025-01-23_13h12.02.354        1.0    0.342        1.0\n",
       "3    AG_01_02        1  2025-01-23_13h12.02.354        0.0    0.641        0.0\n",
       "4    AG_01_02        1  2025-01-23_13h12.02.354        1.0    1.076        0.0"
      ]
     },
     "execution_count": 52,
     "metadata": {},
     "output_type": "execute_result"
    }
   ],
   "source": [
    "data_loaded_sub = data_loaded[columns_select]\n",
    "data_loaded_sub.head()"
   ]
  },
  {
   "cell_type": "code",
   "execution_count": 53,
   "metadata": {},
   "outputs": [],
   "source": [
    "data_loaded_sub = data_loaded_sub[data_loaded_sub.congruent.isna()==False]"
   ]
  },
  {
   "cell_type": "code",
   "execution_count": 54,
   "metadata": {},
   "outputs": [
    {
     "data": {
      "text/html": [
       "<div>\n",
       "<style scoped>\n",
       "    .dataframe tbody tr th:only-of-type {\n",
       "        vertical-align: middle;\n",
       "    }\n",
       "\n",
       "    .dataframe tbody tr th {\n",
       "        vertical-align: top;\n",
       "    }\n",
       "\n",
       "    .dataframe thead th {\n",
       "        text-align: right;\n",
       "    }\n",
       "</style>\n",
       "<table border=\"1\" class=\"dataframe\">\n",
       "  <thead>\n",
       "    <tr style=\"text-align: right;\">\n",
       "      <th></th>\n",
       "      <th>participant</th>\n",
       "      <th>session</th>\n",
       "      <th>date</th>\n",
       "      <th>resp.corr</th>\n",
       "      <th>resp.rt</th>\n",
       "      <th>congruent</th>\n",
       "    </tr>\n",
       "  </thead>\n",
       "  <tbody>\n",
       "    <tr>\n",
       "      <th>1</th>\n",
       "      <td>AG_01_02</td>\n",
       "      <td>1</td>\n",
       "      <td>2025-01-23_13h12.02.354</td>\n",
       "      <td>1.0</td>\n",
       "      <td>0.635</td>\n",
       "      <td>0.0</td>\n",
       "    </tr>\n",
       "    <tr>\n",
       "      <th>2</th>\n",
       "      <td>AG_01_02</td>\n",
       "      <td>1</td>\n",
       "      <td>2025-01-23_13h12.02.354</td>\n",
       "      <td>1.0</td>\n",
       "      <td>0.342</td>\n",
       "      <td>1.0</td>\n",
       "    </tr>\n",
       "    <tr>\n",
       "      <th>3</th>\n",
       "      <td>AG_01_02</td>\n",
       "      <td>1</td>\n",
       "      <td>2025-01-23_13h12.02.354</td>\n",
       "      <td>0.0</td>\n",
       "      <td>0.641</td>\n",
       "      <td>0.0</td>\n",
       "    </tr>\n",
       "    <tr>\n",
       "      <th>4</th>\n",
       "      <td>AG_01_02</td>\n",
       "      <td>1</td>\n",
       "      <td>2025-01-23_13h12.02.354</td>\n",
       "      <td>1.0</td>\n",
       "      <td>1.076</td>\n",
       "      <td>0.0</td>\n",
       "    </tr>\n",
       "    <tr>\n",
       "      <th>5</th>\n",
       "      <td>AG_01_02</td>\n",
       "      <td>1</td>\n",
       "      <td>2025-01-23_13h12.02.354</td>\n",
       "      <td>1.0</td>\n",
       "      <td>0.680</td>\n",
       "      <td>1.0</td>\n",
       "    </tr>\n",
       "  </tbody>\n",
       "</table>\n",
       "</div>"
      ],
      "text/plain": [
       "  participant  session                     date  resp.corr  resp.rt  congruent\n",
       "1    AG_01_02        1  2025-01-23_13h12.02.354        1.0    0.635        0.0\n",
       "2    AG_01_02        1  2025-01-23_13h12.02.354        1.0    0.342        1.0\n",
       "3    AG_01_02        1  2025-01-23_13h12.02.354        0.0    0.641        0.0\n",
       "4    AG_01_02        1  2025-01-23_13h12.02.354        1.0    1.076        0.0\n",
       "5    AG_01_02        1  2025-01-23_13h12.02.354        1.0    0.680        1.0"
      ]
     },
     "execution_count": 54,
     "metadata": {},
     "output_type": "execute_result"
    }
   ],
   "source": [
    "data_loaded_sub.head()"
   ]
  },
  {
   "cell_type": "markdown",
   "metadata": {},
   "source": [
    "Lets not forget to reset indexes! "
   ]
  },
  {
   "cell_type": "code",
   "execution_count": 55,
   "metadata": {},
   "outputs": [
    {
     "data": {
      "text/html": [
       "<div>\n",
       "<style scoped>\n",
       "    .dataframe tbody tr th:only-of-type {\n",
       "        vertical-align: middle;\n",
       "    }\n",
       "\n",
       "    .dataframe tbody tr th {\n",
       "        vertical-align: top;\n",
       "    }\n",
       "\n",
       "    .dataframe thead th {\n",
       "        text-align: right;\n",
       "    }\n",
       "</style>\n",
       "<table border=\"1\" class=\"dataframe\">\n",
       "  <thead>\n",
       "    <tr style=\"text-align: right;\">\n",
       "      <th></th>\n",
       "      <th>participant</th>\n",
       "      <th>session</th>\n",
       "      <th>date</th>\n",
       "      <th>resp.corr</th>\n",
       "      <th>resp.rt</th>\n",
       "      <th>congruent</th>\n",
       "    </tr>\n",
       "  </thead>\n",
       "  <tbody>\n",
       "    <tr>\n",
       "      <th>0</th>\n",
       "      <td>AG_01_02</td>\n",
       "      <td>1</td>\n",
       "      <td>2025-01-23_13h12.02.354</td>\n",
       "      <td>1.0</td>\n",
       "      <td>0.635</td>\n",
       "      <td>0.0</td>\n",
       "    </tr>\n",
       "    <tr>\n",
       "      <th>1</th>\n",
       "      <td>AG_01_02</td>\n",
       "      <td>1</td>\n",
       "      <td>2025-01-23_13h12.02.354</td>\n",
       "      <td>1.0</td>\n",
       "      <td>0.342</td>\n",
       "      <td>1.0</td>\n",
       "    </tr>\n",
       "    <tr>\n",
       "      <th>2</th>\n",
       "      <td>AG_01_02</td>\n",
       "      <td>1</td>\n",
       "      <td>2025-01-23_13h12.02.354</td>\n",
       "      <td>0.0</td>\n",
       "      <td>0.641</td>\n",
       "      <td>0.0</td>\n",
       "    </tr>\n",
       "    <tr>\n",
       "      <th>3</th>\n",
       "      <td>AG_01_02</td>\n",
       "      <td>1</td>\n",
       "      <td>2025-01-23_13h12.02.354</td>\n",
       "      <td>1.0</td>\n",
       "      <td>1.076</td>\n",
       "      <td>0.0</td>\n",
       "    </tr>\n",
       "    <tr>\n",
       "      <th>4</th>\n",
       "      <td>AG_01_02</td>\n",
       "      <td>1</td>\n",
       "      <td>2025-01-23_13h12.02.354</td>\n",
       "      <td>1.0</td>\n",
       "      <td>0.680</td>\n",
       "      <td>1.0</td>\n",
       "    </tr>\n",
       "  </tbody>\n",
       "</table>\n",
       "</div>"
      ],
      "text/plain": [
       "  participant  session                     date  resp.corr  resp.rt  congruent\n",
       "0    AG_01_02        1  2025-01-23_13h12.02.354        1.0    0.635        0.0\n",
       "1    AG_01_02        1  2025-01-23_13h12.02.354        1.0    0.342        1.0\n",
       "2    AG_01_02        1  2025-01-23_13h12.02.354        0.0    0.641        0.0\n",
       "3    AG_01_02        1  2025-01-23_13h12.02.354        1.0    1.076        0.0\n",
       "4    AG_01_02        1  2025-01-23_13h12.02.354        1.0    0.680        1.0"
      ]
     },
     "execution_count": 55,
     "metadata": {},
     "output_type": "execute_result"
    }
   ],
   "source": [
    "data_loaded_sub.reset_index(drop=True, inplace=True)\n",
    "data_loaded_sub.head()"
   ]
  },
  {
   "cell_type": "markdown",
   "metadata": {
    "slideshow": {
     "slide_type": "subslide"
    }
   },
   "source": [
    "Cool, lets also save our clean data now!"
   ]
  },
  {
   "cell_type": "code",
   "execution_count": 214,
   "metadata": {
    "slideshow": {
     "slide_type": "fragment"
    }
   },
   "outputs": [],
   "source": [
    "from os import makedirs\n",
    "makedirs('data_experiment/preprocessing')\n",
    "data_loaded_sub_long.to_csv('data_experiment/preprocessing/%s_clean.csv' %data_loaded_sub['participant'][0], index=False)"
   ]
  },
  {
   "cell_type": "code",
   "execution_count": 234,
   "metadata": {},
   "outputs": [
    {
     "name": "stdout",
     "output_type": "stream",
     "text": [
      " Volume in drive C is Windows-SSD\n",
      " Volume Serial Number is CE97-8A4E\n",
      "\n",
      " Directory of C:\\Users\\ika_m\\OneDrive - Johann Wolfgang Goethe Universität\\Documents\\test_data\\data_experiment\\preprocessing\n",
      "\n",
      "02/05/2025  05:14 PM    <DIR>          .\n",
      "02/05/2025  05:14 PM    <DIR>          ..\n",
      "02/05/2025  05:14 PM               790 AG_01_02clean.csv\n",
      "               1 File(s)            790 bytes\n",
      "               2 Dir(s)  227,778,236,416 bytes free\n"
     ]
    }
   ],
   "source": [
    "ls data_experiment\\\\preprocessing\\\\"
   ]
  },
  {
   "cell_type": "markdown",
   "metadata": {
    "slideshow": {
     "slide_type": "subslide"
    }
   },
   "source": [
    "While this seems already super intense concerning `data analyzes steps`, it's only just the beginning and actually an important aspects focusing on `data quality control` and preparation of further `analyzes`. When working with other `dataset` you might have to less or way more of these `operations`, depending on a variety of factors.  "
   ]
  },
  {
   "cell_type": "markdown",
   "metadata": {
    "slideshow": {
     "slide_type": "fragment"
    }
   },
   "source": [
    "However, to avoid going through all these steps for each `participant`, we can simply use our `list` of `data files` again and apply all steps within a `for loop`. **Important**: Sometimes, it is much easier approach is to read all the files into one dataframe and work with it, instead of having separate small. However, final decision on how to handle the data is up to you."
   ]
  },
  {
   "cell_type": "code",
   "execution_count": 9,
   "metadata": {
    "slideshow": {
     "slide_type": "subslide"
    }
   },
   "outputs": [
    {
     "name": "stderr",
     "output_type": "stream",
     "text": [
      "C:\\Users\\ika_m\\AppData\\Local\\Temp\\ipykernel_10376\\2674278654.py:23: SettingWithCopyWarning: \n",
      "A value is trying to be set on a copy of a slice from a DataFrame.\n",
      "Try using .loc[row_indexer,col_indexer] = value instead\n",
      "\n",
      "See the caveats in the documentation: https://pandas.pydata.org/pandas-docs/stable/user_guide/indexing.html#returning-a-view-versus-a-copy\n",
      "  cleaned_df.loc[:, 'trial_number'] = cleaned_df.groupby('participant').cumcount() + 1\n"
     ]
    }
   ],
   "source": [
    "import glob\n",
    "import os\n",
    "import pandas as pd\n",
    "\n",
    "# Find all CSV files in the directory\n",
    "csv_files = glob.glob(os.path.join(\"*.csv\"))\n",
    "\n",
    "# Initialize an empty list to store DataFrames\n",
    "dfs = []\n",
    "\n",
    "# Load all CSV files and append them to the list\n",
    "for file in csv_files:\n",
    "    df = pd.read_csv(file)\n",
    "    dfs.append(df)\n",
    "\n",
    "# Merge all DataFrames into one\n",
    "merged_df = pd.concat(dfs, ignore_index=True)\n",
    "\n",
    "# Remove rows where 'congruent' column has NaN values\n",
    "cleaned_df = merged_df.dropna(subset=['congruent'])\n",
    "\n",
    "# Add a trial number column for each participant\n",
    "cleaned_df.loc[:, 'trial_number'] = cleaned_df.groupby('participant').cumcount() + 1"
   ]
  },
  {
   "cell_type": "code",
   "execution_count": 11,
   "metadata": {},
   "outputs": [
    {
     "data": {
      "text/html": [
       "<div>\n",
       "<style scoped>\n",
       "    .dataframe tbody tr th:only-of-type {\n",
       "        vertical-align: middle;\n",
       "    }\n",
       "\n",
       "    .dataframe tbody tr th {\n",
       "        vertical-align: top;\n",
       "    }\n",
       "\n",
       "    .dataframe thead th {\n",
       "        text-align: right;\n",
       "    }\n",
       "</style>\n",
       "<table border=\"1\" class=\"dataframe\">\n",
       "  <thead>\n",
       "    <tr style=\"text-align: right;\">\n",
       "      <th></th>\n",
       "      <th>participant</th>\n",
       "      <th>session</th>\n",
       "      <th>date</th>\n",
       "      <th>expName</th>\n",
       "      <th>psychopyVersion</th>\n",
       "      <th>OS</th>\n",
       "      <th>frameRate</th>\n",
       "      <th>resp.keys</th>\n",
       "      <th>resp.corr</th>\n",
       "      <th>resp.rt</th>\n",
       "      <th>...</th>\n",
       "      <th>trials.thisRepN</th>\n",
       "      <th>trials.thisTrialN</th>\n",
       "      <th>trials.thisN</th>\n",
       "      <th>trials.thisIndex</th>\n",
       "      <th>trials.ran</th>\n",
       "      <th>text</th>\n",
       "      <th>letterColor</th>\n",
       "      <th>corrAns</th>\n",
       "      <th>congruent</th>\n",
       "      <th>trial_number</th>\n",
       "    </tr>\n",
       "  </thead>\n",
       "  <tbody>\n",
       "    <tr>\n",
       "      <th>1</th>\n",
       "      <td>AG_01_02</td>\n",
       "      <td>1</td>\n",
       "      <td>2025-01-23_13h12.02.354</td>\n",
       "      <td>stroop</td>\n",
       "      <td>2023.1.3</td>\n",
       "      <td>MacIntel</td>\n",
       "      <td>20.408163</td>\n",
       "      <td>left</td>\n",
       "      <td>1.0</td>\n",
       "      <td>0.635</td>\n",
       "      <td>...</td>\n",
       "      <td>0.0</td>\n",
       "      <td>0.0</td>\n",
       "      <td>0.0</td>\n",
       "      <td>5.0</td>\n",
       "      <td>1.0</td>\n",
       "      <td>blue</td>\n",
       "      <td>red</td>\n",
       "      <td>left</td>\n",
       "      <td>0.0</td>\n",
       "      <td>1</td>\n",
       "    </tr>\n",
       "    <tr>\n",
       "      <th>2</th>\n",
       "      <td>AG_01_02</td>\n",
       "      <td>1</td>\n",
       "      <td>2025-01-23_13h12.02.354</td>\n",
       "      <td>stroop</td>\n",
       "      <td>2023.1.3</td>\n",
       "      <td>MacIntel</td>\n",
       "      <td>20.408163</td>\n",
       "      <td>down</td>\n",
       "      <td>1.0</td>\n",
       "      <td>0.342</td>\n",
       "      <td>...</td>\n",
       "      <td>0.0</td>\n",
       "      <td>1.0</td>\n",
       "      <td>1.0</td>\n",
       "      <td>2.0</td>\n",
       "      <td>1.0</td>\n",
       "      <td>green</td>\n",
       "      <td>green</td>\n",
       "      <td>down</td>\n",
       "      <td>1.0</td>\n",
       "      <td>2</td>\n",
       "    </tr>\n",
       "    <tr>\n",
       "      <th>3</th>\n",
       "      <td>AG_01_02</td>\n",
       "      <td>1</td>\n",
       "      <td>2025-01-23_13h12.02.354</td>\n",
       "      <td>stroop</td>\n",
       "      <td>2023.1.3</td>\n",
       "      <td>MacIntel</td>\n",
       "      <td>20.408163</td>\n",
       "      <td>left</td>\n",
       "      <td>0.0</td>\n",
       "      <td>0.641</td>\n",
       "      <td>...</td>\n",
       "      <td>0.0</td>\n",
       "      <td>2.0</td>\n",
       "      <td>2.0</td>\n",
       "      <td>1.0</td>\n",
       "      <td>1.0</td>\n",
       "      <td>red</td>\n",
       "      <td>green</td>\n",
       "      <td>down</td>\n",
       "      <td>0.0</td>\n",
       "      <td>3</td>\n",
       "    </tr>\n",
       "    <tr>\n",
       "      <th>4</th>\n",
       "      <td>AG_01_02</td>\n",
       "      <td>1</td>\n",
       "      <td>2025-01-23_13h12.02.354</td>\n",
       "      <td>stroop</td>\n",
       "      <td>2023.1.3</td>\n",
       "      <td>MacIntel</td>\n",
       "      <td>20.408163</td>\n",
       "      <td>right</td>\n",
       "      <td>1.0</td>\n",
       "      <td>1.076</td>\n",
       "      <td>...</td>\n",
       "      <td>0.0</td>\n",
       "      <td>3.0</td>\n",
       "      <td>3.0</td>\n",
       "      <td>3.0</td>\n",
       "      <td>1.0</td>\n",
       "      <td>green</td>\n",
       "      <td>blue</td>\n",
       "      <td>right</td>\n",
       "      <td>0.0</td>\n",
       "      <td>4</td>\n",
       "    </tr>\n",
       "    <tr>\n",
       "      <th>5</th>\n",
       "      <td>AG_01_02</td>\n",
       "      <td>1</td>\n",
       "      <td>2025-01-23_13h12.02.354</td>\n",
       "      <td>stroop</td>\n",
       "      <td>2023.1.3</td>\n",
       "      <td>MacIntel</td>\n",
       "      <td>20.408163</td>\n",
       "      <td>right</td>\n",
       "      <td>1.0</td>\n",
       "      <td>0.680</td>\n",
       "      <td>...</td>\n",
       "      <td>0.0</td>\n",
       "      <td>4.0</td>\n",
       "      <td>4.0</td>\n",
       "      <td>4.0</td>\n",
       "      <td>1.0</td>\n",
       "      <td>blue</td>\n",
       "      <td>blue</td>\n",
       "      <td>right</td>\n",
       "      <td>1.0</td>\n",
       "      <td>5</td>\n",
       "    </tr>\n",
       "    <tr>\n",
       "      <th>6</th>\n",
       "      <td>AG_01_02</td>\n",
       "      <td>1</td>\n",
       "      <td>2025-01-23_13h12.02.354</td>\n",
       "      <td>stroop</td>\n",
       "      <td>2023.1.3</td>\n",
       "      <td>MacIntel</td>\n",
       "      <td>20.408163</td>\n",
       "      <td>left</td>\n",
       "      <td>1.0</td>\n",
       "      <td>0.769</td>\n",
       "      <td>...</td>\n",
       "      <td>0.0</td>\n",
       "      <td>5.0</td>\n",
       "      <td>5.0</td>\n",
       "      <td>0.0</td>\n",
       "      <td>1.0</td>\n",
       "      <td>red</td>\n",
       "      <td>red</td>\n",
       "      <td>left</td>\n",
       "      <td>1.0</td>\n",
       "      <td>6</td>\n",
       "    </tr>\n",
       "    <tr>\n",
       "      <th>7</th>\n",
       "      <td>AG_01_02</td>\n",
       "      <td>1</td>\n",
       "      <td>2025-01-23_13h12.02.354</td>\n",
       "      <td>stroop</td>\n",
       "      <td>2023.1.3</td>\n",
       "      <td>MacIntel</td>\n",
       "      <td>20.408163</td>\n",
       "      <td>left</td>\n",
       "      <td>1.0</td>\n",
       "      <td>0.981</td>\n",
       "      <td>...</td>\n",
       "      <td>1.0</td>\n",
       "      <td>0.0</td>\n",
       "      <td>6.0</td>\n",
       "      <td>5.0</td>\n",
       "      <td>1.0</td>\n",
       "      <td>blue</td>\n",
       "      <td>red</td>\n",
       "      <td>left</td>\n",
       "      <td>0.0</td>\n",
       "      <td>7</td>\n",
       "    </tr>\n",
       "    <tr>\n",
       "      <th>8</th>\n",
       "      <td>AG_01_02</td>\n",
       "      <td>1</td>\n",
       "      <td>2025-01-23_13h12.02.354</td>\n",
       "      <td>stroop</td>\n",
       "      <td>2023.1.3</td>\n",
       "      <td>MacIntel</td>\n",
       "      <td>20.408163</td>\n",
       "      <td>down</td>\n",
       "      <td>1.0</td>\n",
       "      <td>0.747</td>\n",
       "      <td>...</td>\n",
       "      <td>1.0</td>\n",
       "      <td>1.0</td>\n",
       "      <td>7.0</td>\n",
       "      <td>2.0</td>\n",
       "      <td>1.0</td>\n",
       "      <td>green</td>\n",
       "      <td>green</td>\n",
       "      <td>down</td>\n",
       "      <td>1.0</td>\n",
       "      <td>8</td>\n",
       "    </tr>\n",
       "    <tr>\n",
       "      <th>9</th>\n",
       "      <td>AG_01_02</td>\n",
       "      <td>1</td>\n",
       "      <td>2025-01-23_13h12.02.354</td>\n",
       "      <td>stroop</td>\n",
       "      <td>2023.1.3</td>\n",
       "      <td>MacIntel</td>\n",
       "      <td>20.408163</td>\n",
       "      <td>left</td>\n",
       "      <td>1.0</td>\n",
       "      <td>0.704</td>\n",
       "      <td>...</td>\n",
       "      <td>1.0</td>\n",
       "      <td>2.0</td>\n",
       "      <td>8.0</td>\n",
       "      <td>0.0</td>\n",
       "      <td>1.0</td>\n",
       "      <td>red</td>\n",
       "      <td>red</td>\n",
       "      <td>left</td>\n",
       "      <td>1.0</td>\n",
       "      <td>9</td>\n",
       "    </tr>\n",
       "    <tr>\n",
       "      <th>10</th>\n",
       "      <td>AG_01_02</td>\n",
       "      <td>1</td>\n",
       "      <td>2025-01-23_13h12.02.354</td>\n",
       "      <td>stroop</td>\n",
       "      <td>2023.1.3</td>\n",
       "      <td>MacIntel</td>\n",
       "      <td>20.408163</td>\n",
       "      <td>right</td>\n",
       "      <td>1.0</td>\n",
       "      <td>0.620</td>\n",
       "      <td>...</td>\n",
       "      <td>1.0</td>\n",
       "      <td>3.0</td>\n",
       "      <td>9.0</td>\n",
       "      <td>4.0</td>\n",
       "      <td>1.0</td>\n",
       "      <td>blue</td>\n",
       "      <td>blue</td>\n",
       "      <td>right</td>\n",
       "      <td>1.0</td>\n",
       "      <td>10</td>\n",
       "    </tr>\n",
       "  </tbody>\n",
       "</table>\n",
       "<p>10 rows × 21 columns</p>\n",
       "</div>"
      ],
      "text/plain": [
       "   participant  session                     date expName psychopyVersion  \\\n",
       "1     AG_01_02        1  2025-01-23_13h12.02.354  stroop        2023.1.3   \n",
       "2     AG_01_02        1  2025-01-23_13h12.02.354  stroop        2023.1.3   \n",
       "3     AG_01_02        1  2025-01-23_13h12.02.354  stroop        2023.1.3   \n",
       "4     AG_01_02        1  2025-01-23_13h12.02.354  stroop        2023.1.3   \n",
       "5     AG_01_02        1  2025-01-23_13h12.02.354  stroop        2023.1.3   \n",
       "6     AG_01_02        1  2025-01-23_13h12.02.354  stroop        2023.1.3   \n",
       "7     AG_01_02        1  2025-01-23_13h12.02.354  stroop        2023.1.3   \n",
       "8     AG_01_02        1  2025-01-23_13h12.02.354  stroop        2023.1.3   \n",
       "9     AG_01_02        1  2025-01-23_13h12.02.354  stroop        2023.1.3   \n",
       "10    AG_01_02        1  2025-01-23_13h12.02.354  stroop        2023.1.3   \n",
       "\n",
       "          OS  frameRate resp.keys  resp.corr  resp.rt  ...  trials.thisRepN  \\\n",
       "1   MacIntel  20.408163      left        1.0    0.635  ...              0.0   \n",
       "2   MacIntel  20.408163      down        1.0    0.342  ...              0.0   \n",
       "3   MacIntel  20.408163      left        0.0    0.641  ...              0.0   \n",
       "4   MacIntel  20.408163     right        1.0    1.076  ...              0.0   \n",
       "5   MacIntel  20.408163     right        1.0    0.680  ...              0.0   \n",
       "6   MacIntel  20.408163      left        1.0    0.769  ...              0.0   \n",
       "7   MacIntel  20.408163      left        1.0    0.981  ...              1.0   \n",
       "8   MacIntel  20.408163      down        1.0    0.747  ...              1.0   \n",
       "9   MacIntel  20.408163      left        1.0    0.704  ...              1.0   \n",
       "10  MacIntel  20.408163     right        1.0    0.620  ...              1.0   \n",
       "\n",
       "    trials.thisTrialN  trials.thisN  trials.thisIndex  trials.ran   text  \\\n",
       "1                 0.0           0.0               5.0         1.0   blue   \n",
       "2                 1.0           1.0               2.0         1.0  green   \n",
       "3                 2.0           2.0               1.0         1.0    red   \n",
       "4                 3.0           3.0               3.0         1.0  green   \n",
       "5                 4.0           4.0               4.0         1.0   blue   \n",
       "6                 5.0           5.0               0.0         1.0    red   \n",
       "7                 0.0           6.0               5.0         1.0   blue   \n",
       "8                 1.0           7.0               2.0         1.0  green   \n",
       "9                 2.0           8.0               0.0         1.0    red   \n",
       "10                3.0           9.0               4.0         1.0   blue   \n",
       "\n",
       "   letterColor corrAns congruent  trial_number  \n",
       "1          red    left       0.0             1  \n",
       "2        green    down       1.0             2  \n",
       "3        green    down       0.0             3  \n",
       "4         blue   right       0.0             4  \n",
       "5         blue   right       1.0             5  \n",
       "6          red    left       1.0             6  \n",
       "7          red    left       0.0             7  \n",
       "8        green    down       1.0             8  \n",
       "9          red    left       1.0             9  \n",
       "10        blue   right       1.0            10  \n",
       "\n",
       "[10 rows x 21 columns]"
      ]
     },
     "execution_count": 11,
     "metadata": {},
     "output_type": "execute_result"
    }
   ],
   "source": [
    "cleaned_df.head(10)"
   ]
  },
  {
   "cell_type": "markdown",
   "metadata": {
    "slideshow": {
     "slide_type": "fragment"
    }
   },
   "source": [
    "Let's check what we have:"
   ]
  },
  {
   "cell_type": "code",
   "execution_count": 13,
   "metadata": {},
   "outputs": [
    {
     "name": "stdout",
     "output_type": "stream",
     "text": [
      "The concatenated dataframe has the following dimensions: (300, 21)\n",
      "We have the following columns: ['participant', 'session', 'date', 'expName', 'psychopyVersion', 'OS', 'frameRate', 'resp.keys', 'resp.corr', 'resp.rt', 'resp.duration', 'trials.thisRepN', 'trials.thisTrialN', 'trials.thisN', 'trials.thisIndex', 'trials.ran', 'text', 'letterColor', 'corrAns', 'congruent', 'trial_number']\n",
      "We have the following participants: ['AG_01_02' 'BF_31_01' 'BF_31_02' 'FB_09_02' 'FB_09_03' 'FK_24_01'\n",
      " 'JB_22_01' 'JB_22_02' 'JB_22_03' 'XY_16_03']\n"
     ]
    }
   ],
   "source": [
    "print('The concatenated dataframe has the following dimensions: %s' %str(cleaned_df.shape))\n",
    "print('We have the following columns: %s' %list(cleaned_df.columns))\n",
    "print('We have the following participants: %s' %cleaned_df['participant'].unique())"
   ]
  },
  {
   "cell_type": "markdown",
   "metadata": {
    "slideshow": {
     "slide_type": "subslide"
    }
   },
   "source": [
    "We can now make use of the `.describe()` `function` to get some first insights at the `group level`. "
   ]
  },
  {
   "cell_type": "code",
   "execution_count": 257,
   "metadata": {},
   "outputs": [
    {
     "data": {
      "text/html": [
       "<div>\n",
       "<style scoped>\n",
       "    .dataframe tbody tr th:only-of-type {\n",
       "        vertical-align: middle;\n",
       "    }\n",
       "\n",
       "    .dataframe tbody tr th {\n",
       "        vertical-align: top;\n",
       "    }\n",
       "\n",
       "    .dataframe thead th {\n",
       "        text-align: right;\n",
       "    }\n",
       "</style>\n",
       "<table border=\"1\" class=\"dataframe\">\n",
       "  <thead>\n",
       "    <tr style=\"text-align: right;\">\n",
       "      <th></th>\n",
       "      <th>session</th>\n",
       "      <th>frameRate</th>\n",
       "      <th>resp.corr</th>\n",
       "      <th>resp.rt</th>\n",
       "      <th>resp.duration</th>\n",
       "      <th>trials.thisRepN</th>\n",
       "      <th>trials.thisTrialN</th>\n",
       "      <th>trials.thisN</th>\n",
       "      <th>trials.thisIndex</th>\n",
       "      <th>trials.ran</th>\n",
       "      <th>congruent</th>\n",
       "      <th>trial_number</th>\n",
       "    </tr>\n",
       "  </thead>\n",
       "  <tbody>\n",
       "    <tr>\n",
       "      <th>count</th>\n",
       "      <td>300.0</td>\n",
       "      <td>300.000000</td>\n",
       "      <td>300.000000</td>\n",
       "      <td>300.000000</td>\n",
       "      <td>0.0</td>\n",
       "      <td>300.000000</td>\n",
       "      <td>300.000000</td>\n",
       "      <td>300.000000</td>\n",
       "      <td>300.000000</td>\n",
       "      <td>300.0</td>\n",
       "      <td>300.000000</td>\n",
       "      <td>300.000000</td>\n",
       "    </tr>\n",
       "    <tr>\n",
       "      <th>mean</th>\n",
       "      <td>1.0</td>\n",
       "      <td>67.035007</td>\n",
       "      <td>0.906667</td>\n",
       "      <td>0.733070</td>\n",
       "      <td>NaN</td>\n",
       "      <td>2.000000</td>\n",
       "      <td>2.500000</td>\n",
       "      <td>14.500000</td>\n",
       "      <td>2.500000</td>\n",
       "      <td>1.0</td>\n",
       "      <td>0.500000</td>\n",
       "      <td>15.500000</td>\n",
       "    </tr>\n",
       "    <tr>\n",
       "      <th>std</th>\n",
       "      <td>0.0</td>\n",
       "      <td>30.648353</td>\n",
       "      <td>0.291385</td>\n",
       "      <td>0.586253</td>\n",
       "      <td>NaN</td>\n",
       "      <td>1.416576</td>\n",
       "      <td>1.710679</td>\n",
       "      <td>8.669903</td>\n",
       "      <td>1.710679</td>\n",
       "      <td>0.0</td>\n",
       "      <td>0.500835</td>\n",
       "      <td>8.669903</td>\n",
       "    </tr>\n",
       "    <tr>\n",
       "      <th>min</th>\n",
       "      <td>1.0</td>\n",
       "      <td>20.408163</td>\n",
       "      <td>0.000000</td>\n",
       "      <td>0.299000</td>\n",
       "      <td>NaN</td>\n",
       "      <td>0.000000</td>\n",
       "      <td>0.000000</td>\n",
       "      <td>0.000000</td>\n",
       "      <td>0.000000</td>\n",
       "      <td>1.0</td>\n",
       "      <td>0.000000</td>\n",
       "      <td>1.000000</td>\n",
       "    </tr>\n",
       "    <tr>\n",
       "      <th>25%</th>\n",
       "      <td>1.0</td>\n",
       "      <td>55.555556</td>\n",
       "      <td>1.000000</td>\n",
       "      <td>0.512750</td>\n",
       "      <td>NaN</td>\n",
       "      <td>1.000000</td>\n",
       "      <td>1.000000</td>\n",
       "      <td>7.000000</td>\n",
       "      <td>1.000000</td>\n",
       "      <td>1.0</td>\n",
       "      <td>0.000000</td>\n",
       "      <td>8.000000</td>\n",
       "    </tr>\n",
       "    <tr>\n",
       "      <th>50%</th>\n",
       "      <td>1.0</td>\n",
       "      <td>58.823529</td>\n",
       "      <td>1.000000</td>\n",
       "      <td>0.614000</td>\n",
       "      <td>NaN</td>\n",
       "      <td>2.000000</td>\n",
       "      <td>2.500000</td>\n",
       "      <td>14.500000</td>\n",
       "      <td>2.500000</td>\n",
       "      <td>1.0</td>\n",
       "      <td>0.500000</td>\n",
       "      <td>15.500000</td>\n",
       "    </tr>\n",
       "    <tr>\n",
       "      <th>75%</th>\n",
       "      <td>1.0</td>\n",
       "      <td>76.923077</td>\n",
       "      <td>1.000000</td>\n",
       "      <td>0.795250</td>\n",
       "      <td>NaN</td>\n",
       "      <td>3.000000</td>\n",
       "      <td>4.000000</td>\n",
       "      <td>22.000000</td>\n",
       "      <td>4.000000</td>\n",
       "      <td>1.0</td>\n",
       "      <td>1.000000</td>\n",
       "      <td>23.000000</td>\n",
       "    </tr>\n",
       "    <tr>\n",
       "      <th>max</th>\n",
       "      <td>1.0</td>\n",
       "      <td>142.857143</td>\n",
       "      <td>1.000000</td>\n",
       "      <td>8.553000</td>\n",
       "      <td>NaN</td>\n",
       "      <td>4.000000</td>\n",
       "      <td>5.000000</td>\n",
       "      <td>29.000000</td>\n",
       "      <td>5.000000</td>\n",
       "      <td>1.0</td>\n",
       "      <td>1.000000</td>\n",
       "      <td>30.000000</td>\n",
       "    </tr>\n",
       "  </tbody>\n",
       "</table>\n",
       "</div>"
      ],
      "text/plain": [
       "       session   frameRate   resp.corr     resp.rt  resp.duration  \\\n",
       "count    300.0  300.000000  300.000000  300.000000            0.0   \n",
       "mean       1.0   67.035007    0.906667    0.733070            NaN   \n",
       "std        0.0   30.648353    0.291385    0.586253            NaN   \n",
       "min        1.0   20.408163    0.000000    0.299000            NaN   \n",
       "25%        1.0   55.555556    1.000000    0.512750            NaN   \n",
       "50%        1.0   58.823529    1.000000    0.614000            NaN   \n",
       "75%        1.0   76.923077    1.000000    0.795250            NaN   \n",
       "max        1.0  142.857143    1.000000    8.553000            NaN   \n",
       "\n",
       "       trials.thisRepN  trials.thisTrialN  trials.thisN  trials.thisIndex  \\\n",
       "count       300.000000         300.000000    300.000000        300.000000   \n",
       "mean          2.000000           2.500000     14.500000          2.500000   \n",
       "std           1.416576           1.710679      8.669903          1.710679   \n",
       "min           0.000000           0.000000      0.000000          0.000000   \n",
       "25%           1.000000           1.000000      7.000000          1.000000   \n",
       "50%           2.000000           2.500000     14.500000          2.500000   \n",
       "75%           3.000000           4.000000     22.000000          4.000000   \n",
       "max           4.000000           5.000000     29.000000          5.000000   \n",
       "\n",
       "       trials.ran   congruent  trial_number  \n",
       "count       300.0  300.000000    300.000000  \n",
       "mean          1.0    0.500000     15.500000  \n",
       "std           0.0    0.500835      8.669903  \n",
       "min           1.0    0.000000      1.000000  \n",
       "25%           1.0    0.000000      8.000000  \n",
       "50%           1.0    0.500000     15.500000  \n",
       "75%           1.0    1.000000     23.000000  \n",
       "max           1.0    1.000000     30.000000  "
      ]
     },
     "execution_count": 257,
     "metadata": {},
     "output_type": "execute_result"
    }
   ],
   "source": [
    "cleaned_df.describe()"
   ]
  },
  {
   "cell_type": "markdown",
   "metadata": {
    "slideshow": {
     "slide_type": "subslide"
    }
   },
   "source": [
    "However, given the `shape` and `structure` of our `dataframe` we actually might want to consider being more precise and splitting aspects, as we have e.g. multiple entries for each `participants` `age` and can't distinguish `ratings` based on `categories`. "
   ]
  },
  {
   "cell_type": "markdown",
   "metadata": {
    "slideshow": {
     "slide_type": "fragment"
    }
   },
   "source": [
    "Regarding these things, the `.groupby()` `function` can be very helpful as it allows us to `group` and `separate` our `dataframe` based on certain aspects, e.g. `congruent`. "
   ]
  },
  {
   "cell_type": "code",
   "execution_count": 260,
   "metadata": {
    "slideshow": {
     "slide_type": "subslide"
    }
   },
   "outputs": [
    {
     "name": "stdout",
     "output_type": "stream",
     "text": [
      "Showing information for subdataframe: 0.0\n",
      "count    150.000000\n",
      "mean       0.780460\n",
      "std        0.735391\n",
      "min        0.320000\n",
      "25%        0.514250\n",
      "50%        0.629000\n",
      "75%        0.838250\n",
      "max        8.553000\n",
      "Name: resp.rt, dtype: float64\n",
      "Showing information for subdataframe: 1.0\n",
      "count    150.000000\n",
      "mean       0.685680\n",
      "std        0.379962\n",
      "min        0.299000\n",
      "25%        0.509000\n",
      "50%        0.598500\n",
      "75%        0.750000\n",
      "max        3.564000\n",
      "Name: resp.rt, dtype: float64\n"
     ]
    }
   ],
   "source": [
    "for index, df in cleaned_df.groupby('congruent'):\n",
    "    print('Showing information for subdataframe: %s' %index)\n",
    "    print(df['resp.rt'].describe())"
   ]
  },
  {
   "cell_type": "markdown",
   "metadata": {
    "slideshow": {
     "slide_type": "subslide"
    }
   },
   "source": [
    "Comparably, we could use `indexing`/`selecting` again to work with respective `subdataframes`:"
   ]
  },
  {
   "cell_type": "code",
   "execution_count": 264,
   "metadata": {},
   "outputs": [
    {
     "data": {
      "text/html": [
       "<div>\n",
       "<style scoped>\n",
       "    .dataframe tbody tr th:only-of-type {\n",
       "        vertical-align: middle;\n",
       "    }\n",
       "\n",
       "    .dataframe tbody tr th {\n",
       "        vertical-align: top;\n",
       "    }\n",
       "\n",
       "    .dataframe thead th {\n",
       "        text-align: right;\n",
       "    }\n",
       "</style>\n",
       "<table border=\"1\" class=\"dataframe\">\n",
       "  <thead>\n",
       "    <tr style=\"text-align: right;\">\n",
       "      <th></th>\n",
       "      <th>participant</th>\n",
       "      <th>session</th>\n",
       "      <th>date</th>\n",
       "      <th>expName</th>\n",
       "      <th>psychopyVersion</th>\n",
       "      <th>OS</th>\n",
       "      <th>frameRate</th>\n",
       "      <th>resp.keys</th>\n",
       "      <th>resp.corr</th>\n",
       "      <th>resp.rt</th>\n",
       "      <th>...</th>\n",
       "      <th>trials.thisRepN</th>\n",
       "      <th>trials.thisTrialN</th>\n",
       "      <th>trials.thisN</th>\n",
       "      <th>trials.thisIndex</th>\n",
       "      <th>trials.ran</th>\n",
       "      <th>text</th>\n",
       "      <th>letterColor</th>\n",
       "      <th>corrAns</th>\n",
       "      <th>congruent</th>\n",
       "      <th>trial_number</th>\n",
       "    </tr>\n",
       "  </thead>\n",
       "  <tbody>\n",
       "    <tr>\n",
       "      <th>2</th>\n",
       "      <td>AG_01_02</td>\n",
       "      <td>1</td>\n",
       "      <td>2025-01-23_13h12.02.354</td>\n",
       "      <td>stroop</td>\n",
       "      <td>2023.1.3</td>\n",
       "      <td>MacIntel</td>\n",
       "      <td>20.408163</td>\n",
       "      <td>down</td>\n",
       "      <td>1.0</td>\n",
       "      <td>0.342</td>\n",
       "      <td>...</td>\n",
       "      <td>0.0</td>\n",
       "      <td>1.0</td>\n",
       "      <td>1.0</td>\n",
       "      <td>2.0</td>\n",
       "      <td>1.0</td>\n",
       "      <td>green</td>\n",
       "      <td>green</td>\n",
       "      <td>down</td>\n",
       "      <td>1.0</td>\n",
       "      <td>2</td>\n",
       "    </tr>\n",
       "    <tr>\n",
       "      <th>5</th>\n",
       "      <td>AG_01_02</td>\n",
       "      <td>1</td>\n",
       "      <td>2025-01-23_13h12.02.354</td>\n",
       "      <td>stroop</td>\n",
       "      <td>2023.1.3</td>\n",
       "      <td>MacIntel</td>\n",
       "      <td>20.408163</td>\n",
       "      <td>right</td>\n",
       "      <td>1.0</td>\n",
       "      <td>0.680</td>\n",
       "      <td>...</td>\n",
       "      <td>0.0</td>\n",
       "      <td>4.0</td>\n",
       "      <td>4.0</td>\n",
       "      <td>4.0</td>\n",
       "      <td>1.0</td>\n",
       "      <td>blue</td>\n",
       "      <td>blue</td>\n",
       "      <td>right</td>\n",
       "      <td>1.0</td>\n",
       "      <td>5</td>\n",
       "    </tr>\n",
       "    <tr>\n",
       "      <th>6</th>\n",
       "      <td>AG_01_02</td>\n",
       "      <td>1</td>\n",
       "      <td>2025-01-23_13h12.02.354</td>\n",
       "      <td>stroop</td>\n",
       "      <td>2023.1.3</td>\n",
       "      <td>MacIntel</td>\n",
       "      <td>20.408163</td>\n",
       "      <td>left</td>\n",
       "      <td>1.0</td>\n",
       "      <td>0.769</td>\n",
       "      <td>...</td>\n",
       "      <td>0.0</td>\n",
       "      <td>5.0</td>\n",
       "      <td>5.0</td>\n",
       "      <td>0.0</td>\n",
       "      <td>1.0</td>\n",
       "      <td>red</td>\n",
       "      <td>red</td>\n",
       "      <td>left</td>\n",
       "      <td>1.0</td>\n",
       "      <td>6</td>\n",
       "    </tr>\n",
       "    <tr>\n",
       "      <th>8</th>\n",
       "      <td>AG_01_02</td>\n",
       "      <td>1</td>\n",
       "      <td>2025-01-23_13h12.02.354</td>\n",
       "      <td>stroop</td>\n",
       "      <td>2023.1.3</td>\n",
       "      <td>MacIntel</td>\n",
       "      <td>20.408163</td>\n",
       "      <td>down</td>\n",
       "      <td>1.0</td>\n",
       "      <td>0.747</td>\n",
       "      <td>...</td>\n",
       "      <td>1.0</td>\n",
       "      <td>1.0</td>\n",
       "      <td>7.0</td>\n",
       "      <td>2.0</td>\n",
       "      <td>1.0</td>\n",
       "      <td>green</td>\n",
       "      <td>green</td>\n",
       "      <td>down</td>\n",
       "      <td>1.0</td>\n",
       "      <td>8</td>\n",
       "    </tr>\n",
       "    <tr>\n",
       "      <th>9</th>\n",
       "      <td>AG_01_02</td>\n",
       "      <td>1</td>\n",
       "      <td>2025-01-23_13h12.02.354</td>\n",
       "      <td>stroop</td>\n",
       "      <td>2023.1.3</td>\n",
       "      <td>MacIntel</td>\n",
       "      <td>20.408163</td>\n",
       "      <td>left</td>\n",
       "      <td>1.0</td>\n",
       "      <td>0.704</td>\n",
       "      <td>...</td>\n",
       "      <td>1.0</td>\n",
       "      <td>2.0</td>\n",
       "      <td>8.0</td>\n",
       "      <td>0.0</td>\n",
       "      <td>1.0</td>\n",
       "      <td>red</td>\n",
       "      <td>red</td>\n",
       "      <td>left</td>\n",
       "      <td>1.0</td>\n",
       "      <td>9</td>\n",
       "    </tr>\n",
       "    <tr>\n",
       "      <th>...</th>\n",
       "      <td>...</td>\n",
       "      <td>...</td>\n",
       "      <td>...</td>\n",
       "      <td>...</td>\n",
       "      <td>...</td>\n",
       "      <td>...</td>\n",
       "      <td>...</td>\n",
       "      <td>...</td>\n",
       "      <td>...</td>\n",
       "      <td>...</td>\n",
       "      <td>...</td>\n",
       "      <td>...</td>\n",
       "      <td>...</td>\n",
       "      <td>...</td>\n",
       "      <td>...</td>\n",
       "      <td>...</td>\n",
       "      <td>...</td>\n",
       "      <td>...</td>\n",
       "      <td>...</td>\n",
       "      <td>...</td>\n",
       "      <td>...</td>\n",
       "    </tr>\n",
       "    <tr>\n",
       "      <th>311</th>\n",
       "      <td>XY_16_03</td>\n",
       "      <td>1</td>\n",
       "      <td>2025-01-23_13h31.18.706</td>\n",
       "      <td>stroop</td>\n",
       "      <td>2023.1.3</td>\n",
       "      <td>MacIntel</td>\n",
       "      <td>55.555556</td>\n",
       "      <td>down</td>\n",
       "      <td>1.0</td>\n",
       "      <td>0.698</td>\n",
       "      <td>...</td>\n",
       "      <td>3.0</td>\n",
       "      <td>4.0</td>\n",
       "      <td>22.0</td>\n",
       "      <td>2.0</td>\n",
       "      <td>1.0</td>\n",
       "      <td>green</td>\n",
       "      <td>green</td>\n",
       "      <td>down</td>\n",
       "      <td>1.0</td>\n",
       "      <td>23</td>\n",
       "    </tr>\n",
       "    <tr>\n",
       "      <th>312</th>\n",
       "      <td>XY_16_03</td>\n",
       "      <td>1</td>\n",
       "      <td>2025-01-23_13h31.18.706</td>\n",
       "      <td>stroop</td>\n",
       "      <td>2023.1.3</td>\n",
       "      <td>MacIntel</td>\n",
       "      <td>55.555556</td>\n",
       "      <td>left</td>\n",
       "      <td>1.0</td>\n",
       "      <td>0.565</td>\n",
       "      <td>...</td>\n",
       "      <td>3.0</td>\n",
       "      <td>5.0</td>\n",
       "      <td>23.0</td>\n",
       "      <td>0.0</td>\n",
       "      <td>1.0</td>\n",
       "      <td>red</td>\n",
       "      <td>red</td>\n",
       "      <td>left</td>\n",
       "      <td>1.0</td>\n",
       "      <td>24</td>\n",
       "    </tr>\n",
       "    <tr>\n",
       "      <th>314</th>\n",
       "      <td>XY_16_03</td>\n",
       "      <td>1</td>\n",
       "      <td>2025-01-23_13h31.18.706</td>\n",
       "      <td>stroop</td>\n",
       "      <td>2023.1.3</td>\n",
       "      <td>MacIntel</td>\n",
       "      <td>55.555556</td>\n",
       "      <td>down</td>\n",
       "      <td>1.0</td>\n",
       "      <td>0.715</td>\n",
       "      <td>...</td>\n",
       "      <td>4.0</td>\n",
       "      <td>1.0</td>\n",
       "      <td>25.0</td>\n",
       "      <td>2.0</td>\n",
       "      <td>1.0</td>\n",
       "      <td>green</td>\n",
       "      <td>green</td>\n",
       "      <td>down</td>\n",
       "      <td>1.0</td>\n",
       "      <td>26</td>\n",
       "    </tr>\n",
       "    <tr>\n",
       "      <th>317</th>\n",
       "      <td>XY_16_03</td>\n",
       "      <td>1</td>\n",
       "      <td>2025-01-23_13h31.18.706</td>\n",
       "      <td>stroop</td>\n",
       "      <td>2023.1.3</td>\n",
       "      <td>MacIntel</td>\n",
       "      <td>55.555556</td>\n",
       "      <td>left</td>\n",
       "      <td>1.0</td>\n",
       "      <td>0.548</td>\n",
       "      <td>...</td>\n",
       "      <td>4.0</td>\n",
       "      <td>4.0</td>\n",
       "      <td>28.0</td>\n",
       "      <td>0.0</td>\n",
       "      <td>1.0</td>\n",
       "      <td>red</td>\n",
       "      <td>red</td>\n",
       "      <td>left</td>\n",
       "      <td>1.0</td>\n",
       "      <td>29</td>\n",
       "    </tr>\n",
       "    <tr>\n",
       "      <th>318</th>\n",
       "      <td>XY_16_03</td>\n",
       "      <td>1</td>\n",
       "      <td>2025-01-23_13h31.18.706</td>\n",
       "      <td>stroop</td>\n",
       "      <td>2023.1.3</td>\n",
       "      <td>MacIntel</td>\n",
       "      <td>55.555556</td>\n",
       "      <td>right</td>\n",
       "      <td>1.0</td>\n",
       "      <td>0.700</td>\n",
       "      <td>...</td>\n",
       "      <td>4.0</td>\n",
       "      <td>5.0</td>\n",
       "      <td>29.0</td>\n",
       "      <td>4.0</td>\n",
       "      <td>1.0</td>\n",
       "      <td>blue</td>\n",
       "      <td>blue</td>\n",
       "      <td>right</td>\n",
       "      <td>1.0</td>\n",
       "      <td>30</td>\n",
       "    </tr>\n",
       "  </tbody>\n",
       "</table>\n",
       "<p>150 rows × 21 columns</p>\n",
       "</div>"
      ],
      "text/plain": [
       "    participant  session                     date expName psychopyVersion  \\\n",
       "2      AG_01_02        1  2025-01-23_13h12.02.354  stroop        2023.1.3   \n",
       "5      AG_01_02        1  2025-01-23_13h12.02.354  stroop        2023.1.3   \n",
       "6      AG_01_02        1  2025-01-23_13h12.02.354  stroop        2023.1.3   \n",
       "8      AG_01_02        1  2025-01-23_13h12.02.354  stroop        2023.1.3   \n",
       "9      AG_01_02        1  2025-01-23_13h12.02.354  stroop        2023.1.3   \n",
       "..          ...      ...                      ...     ...             ...   \n",
       "311    XY_16_03        1  2025-01-23_13h31.18.706  stroop        2023.1.3   \n",
       "312    XY_16_03        1  2025-01-23_13h31.18.706  stroop        2023.1.3   \n",
       "314    XY_16_03        1  2025-01-23_13h31.18.706  stroop        2023.1.3   \n",
       "317    XY_16_03        1  2025-01-23_13h31.18.706  stroop        2023.1.3   \n",
       "318    XY_16_03        1  2025-01-23_13h31.18.706  stroop        2023.1.3   \n",
       "\n",
       "           OS  frameRate resp.keys  resp.corr  resp.rt  ...  trials.thisRepN  \\\n",
       "2    MacIntel  20.408163      down        1.0    0.342  ...              0.0   \n",
       "5    MacIntel  20.408163     right        1.0    0.680  ...              0.0   \n",
       "6    MacIntel  20.408163      left        1.0    0.769  ...              0.0   \n",
       "8    MacIntel  20.408163      down        1.0    0.747  ...              1.0   \n",
       "9    MacIntel  20.408163      left        1.0    0.704  ...              1.0   \n",
       "..        ...        ...       ...        ...      ...  ...              ...   \n",
       "311  MacIntel  55.555556      down        1.0    0.698  ...              3.0   \n",
       "312  MacIntel  55.555556      left        1.0    0.565  ...              3.0   \n",
       "314  MacIntel  55.555556      down        1.0    0.715  ...              4.0   \n",
       "317  MacIntel  55.555556      left        1.0    0.548  ...              4.0   \n",
       "318  MacIntel  55.555556     right        1.0    0.700  ...              4.0   \n",
       "\n",
       "     trials.thisTrialN  trials.thisN  trials.thisIndex  trials.ran   text  \\\n",
       "2                  1.0           1.0               2.0         1.0  green   \n",
       "5                  4.0           4.0               4.0         1.0   blue   \n",
       "6                  5.0           5.0               0.0         1.0    red   \n",
       "8                  1.0           7.0               2.0         1.0  green   \n",
       "9                  2.0           8.0               0.0         1.0    red   \n",
       "..                 ...           ...               ...         ...    ...   \n",
       "311                4.0          22.0               2.0         1.0  green   \n",
       "312                5.0          23.0               0.0         1.0    red   \n",
       "314                1.0          25.0               2.0         1.0  green   \n",
       "317                4.0          28.0               0.0         1.0    red   \n",
       "318                5.0          29.0               4.0         1.0   blue   \n",
       "\n",
       "    letterColor corrAns congruent  trial_number  \n",
       "2         green    down       1.0             2  \n",
       "5          blue   right       1.0             5  \n",
       "6           red    left       1.0             6  \n",
       "8         green    down       1.0             8  \n",
       "9           red    left       1.0             9  \n",
       "..          ...     ...       ...           ...  \n",
       "311       green    down       1.0            23  \n",
       "312         red    left       1.0            24  \n",
       "314       green    down       1.0            26  \n",
       "317         red    left       1.0            29  \n",
       "318        blue   right       1.0            30  \n",
       "\n",
       "[150 rows x 21 columns]"
      ]
     },
     "execution_count": 264,
     "metadata": {},
     "output_type": "execute_result"
    }
   ],
   "source": [
    "cleaned_df[cleaned_df['congruent']==1]"
   ]
  },
  {
   "cell_type": "markdown",
   "metadata": {
    "slideshow": {
     "slide_type": "subslide"
    }
   },
   "source": [
    "With that, we could start `visualizing` and analyzing our `data` via `inferential statistics`. Regarding the former, `pandas` even has some built-in `functions` for `basic plotting`. Here, some spoilers: a `histogram` for `movie ratings`\n",
    "\n",
    "<center><img src=\"https://pandas.pydata.org/docs/_images/04_plot_overview.svg\" width=\"600px\" style=\"margin-bottom: 10px;\"></center>"
   ]
  },
  {
   "cell_type": "code",
   "execution_count": 15,
   "metadata": {},
   "outputs": [
    {
     "data": {
      "text/plain": [
       "<Axes: ylabel='Frequency'>"
      ]
     },
     "execution_count": 15,
     "metadata": {},
     "output_type": "execute_result"
    },
    {
     "data": {
      "image/png": "[encoded data removed]",
      "text/plain": [
       "<Figure size 640x480 with 1 Axes>"
      ]
     },
     "metadata": {},
     "output_type": "display_data"
    }
   ],
   "source": [
    "cleaned_df[cleaned_df['congruent']==1]['resp.rt'].plot.hist()"
   ]
  },
  {
   "cell_type": "markdown",
   "metadata": {
    "slideshow": {
     "slide_type": "subslide"
    }
   },
   "source": [
    "and a `boxplot` for ratings across `categories`:"
   ]
  },
  {
   "cell_type": "code",
   "execution_count": 23,
   "metadata": {},
   "outputs": [
    {
     "data": {
      "text/plain": [
       "<Axes: title={'center': 'resp.rt'}, xlabel='[congruent]'>"
      ]
     },
     "execution_count": 23,
     "metadata": {},
     "output_type": "execute_result"
    },
    {
     "data": {
      "image/png": "[encoded data removed]",
      "text/plain": [
       "<Figure size 640x480 with 1 Axes>"
      ]
     },
     "metadata": {},
     "output_type": "display_data"
    }
   ],
   "source": [
    "cleaned_df[['congruent', 'resp.rt']].boxplot(by='congruent')"
   ]
  },
  {
   "cell_type": "markdown",
   "metadata": {
    "slideshow": {
     "slide_type": "subslide"
    }
   },
   "source": [
    "Sorry, but that's enough spoilers...way more on `data visualization` next week! For now, we should definitely save the `concatenated dataframe` as we need it for everything that follows!"
   ]
  },
  {
   "cell_type": "code",
   "execution_count": 25,
   "metadata": {},
   "outputs": [],
   "source": [
    "cleaned_df.to_csv('data_experiment/preprocessing/cleaned_df_group.csv', index=False)"
   ]
  },
  {
   "cell_type": "markdown",
   "metadata": {
    "slideshow": {
     "slide_type": "slide"
    }
   },
   "source": [
    "## Outro/Q&A\n",
    "\n",
    "What we went through in this session was intended as a super small showcase of working with certain `data formats` and `files` in `python`, specifically using `pandas` which we only just started to explore and has way more functionality. \n",
    "\n",
    "Sure: this was a very specific use case and `data` but the steps and underlying principles are transferable to the majority of `data handling/wrangling` problems/tasks you might encounter. As always: make sure to check the fantastic docs of the python module you're using (https://pandas.pydata.org/), as well as all the fantastic tutorials out there. "
   ]
  },
  {
   "cell_type": "markdown",
   "metadata": {
    "solution2": "hidden"
   },
   "source": [
    "We can explore its `functions` via `pd.` and then using `tab completion`."
   ]
  },
  {
   "cell_type": "code",
   "execution_count": null,
   "metadata": {
    "solution2": "hidden"
   },
   "outputs": [],
   "source": [
    "pd."
   ]
  },
  {
   "cell_type": "markdown",
   "metadata": {
    "slideshow": {
     "slide_type": "slide"
    }
   },
   "source": [
    "#### The core Python \"data science\" stack\n",
    "* The Python ecosystem contains tens of thousands of packages\n",
    "* Several are very widely used in data science applications:\n",
    "    * [Jupyter](http://jupyter.org): interactive notebooks\n",
    "    * [Numpy](http://numpy.org): numerical computing in Python\n",
    "    * [pandas](http://pandas.pydata.org/): data structures for Python\n",
    "    * [Scipy](http://scipy.org): scientific Python tools\n",
    "    * [Matplotlib](http://matplotlib.org): plotting in Python\n",
    "    * [scikit-learn](http://scikit-learn.org): machine learning in Python\n",
    "* We'll cover the first three very briefly here\n",
    "    * Other tutorials will go into greater detail on most of the others"
   ]
  },
  {
   "cell_type": "markdown",
   "metadata": {
    "slideshow": {
     "slide_type": "subslide"
    }
   },
   "source": [
    "#### The core \"Python for psychology\" stack\n",
    "* The `Python ecosystem` contains tens of thousands of `packages`\n",
    "* Several are very widely used in psychology research:\n",
    "    * [Jupyter](http://jupyter.org): interactive notebooks\n",
    "    * [Numpy](http://numpy.org): numerical computing in `Python`\n",
    "    * [pandas](http://pandas.pydata.org/): data structures for `Python`\n",
    "    * [Scipy](http://scipy.org): scientific `Python` tools\n",
    "    * [Matplotlib](http://matplotlib.org): plotting in `Python`\n",
    "    * [seaborn](https://seaborn.pydata.org/index.html): plotting in `Python`\n",
    "    * [scikit-learn](http://scikit-learn.org): machine learning in `Python`\n",
    "    * [statsmodels](https://www.statsmodels.org/stable/index.html): statistical analyses in `Python`\n",
    "    * [pingouin](https://pingouin-stats.org/): statistical analyses in `Python`\n",
    "    * [psychopy](https://www.psychopy.org/): running experiments in `Python`\n",
    "    * [nilearn](https://nilearn.github.io/stable/index.html): brain imaging analyses in `Python``\n",
    "    * [mne](https://mne.tools/stable/index.html): electrophysiology analyses in `Python` \n",
    "* Execept `scikit-learn`, `nilearn` and `mne`, we'll cover all very briefly in this course\n",
    "    * there are many free tutorials online that will go into greater detail and also cover the other `packages`"
   ]
  }
 ],
 "metadata": {
  "anaconda-cloud": {},
  "celltoolbar": "Slideshow",
  "kernelspec": {
   "display_name": "Python 3 (ipykernel)",
   "language": "python",
   "name": "python3"
  },
  "language_info": {
   "codemirror_mode": {
    "name": "ipython",
    "version": 3
   },
   "file_extension": ".py",
   "mimetype": "text/x-python",
   "name": "python",
   "nbconvert_exporter": "python",
   "pygments_lexer": "ipython3",
   "version": "3.12.7"
  }
 },
 "nbformat": 4,
 "nbformat_minor": 4
}