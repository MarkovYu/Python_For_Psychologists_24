{
 "cells": [
  {
   "cell_type": "code",
   "execution_count": 1,
   "id": "a748c3a2",
   "metadata": {},
   "outputs": [
    {
     "name": "stdout",
     "output_type": "stream",
     "text": [
      "Requirement already satisfied: jupyter-book in c:\\users\\ika_m\\anaconda3\\lib\\site-packages (1.0.0)\n",
      "Requirement already satisfied: click<9,>=7.1 in c:\\users\\ika_m\\anaconda3\\lib\\site-packages (from jupyter-book) (8.0.4)\n",
      "Requirement already satisfied: Jinja2 in c:\\users\\ika_m\\anaconda3\\lib\\site-packages (from jupyter-book) (3.1.2)\n",
      "Requirement already satisfied: jsonschema<5 in c:\\users\\ika_m\\anaconda3\\lib\\site-packages (from jupyter-book) (4.17.3)\n",
      "Requirement already satisfied: linkify-it-py<3,>=2 in c:\\users\\ika_m\\anaconda3\\lib\\site-packages (from jupyter-book) (2.0.0)\n",
      "Requirement already satisfied: myst-nb<3,>=1 in c:\\users\\ika_m\\anaconda3\\lib\\site-packages (from jupyter-book) (1.0.0)\n",
      "Requirement already satisfied: myst-parser<3,>=1 in c:\\users\\ika_m\\anaconda3\\lib\\site-packages (from jupyter-book) (2.0.0)\n",
      "Requirement already satisfied: pyyaml in c:\\users\\ika_m\\anaconda3\\lib\\site-packages (from jupyter-book) (6.0)\n",
      "Requirement already satisfied: sphinx<8,>=5 in c:\\users\\ika_m\\anaconda3\\lib\\site-packages (from jupyter-book) (7.2.6)\n",
      "Requirement already satisfied: sphinx-comments in c:\\users\\ika_m\\anaconda3\\lib\\site-packages (from jupyter-book) (0.0.3)\n",
      "Requirement already satisfied: sphinx-copybutton in c:\\users\\ika_m\\anaconda3\\lib\\site-packages (from jupyter-book) (0.5.2)\n",
      "Requirement already satisfied: sphinx-external-toc<2,>=1.0.1 in c:\\users\\ika_m\\anaconda3\\lib\\site-packages (from jupyter-book) (1.0.1)\n",
      "Requirement already satisfied: sphinx-jupyterbook-latex<2,>=1 in c:\\users\\ika_m\\anaconda3\\lib\\site-packages (from jupyter-book) (1.0.0)\n",
      "Requirement already satisfied: sphinx-design<1,>=0.5 in c:\\users\\ika_m\\anaconda3\\lib\\site-packages (from jupyter-book) (0.5.0)\n",
      "Requirement already satisfied: sphinx-thebe<1,>=0.3 in c:\\users\\ika_m\\anaconda3\\lib\\site-packages (from jupyter-book) (0.3.1)\n",
      "Requirement already satisfied: sphinx-book-theme<2,>=1.1.0 in c:\\users\\ika_m\\anaconda3\\lib\\site-packages (from jupyter-book) (1.1.2)\n",
      "Requirement already satisfied: sphinx_togglebutton in c:\\users\\ika_m\\anaconda3\\lib\\site-packages (from jupyter-book) (0.3.2)\n",
      "Requirement already satisfied: sphinxcontrib-bibtex<3,>=2.5.0 in c:\\users\\ika_m\\anaconda3\\lib\\site-packages (from jupyter-book) (2.6.2)\n",
      "Requirement already satisfied: sphinx-multitoc-numbering<1,>=0.1.3 in c:\\users\\ika_m\\anaconda3\\lib\\site-packages (from jupyter-book) (0.1.3)\n",
      "Requirement already satisfied: colorama in c:\\users\\ika_m\\anaconda3\\lib\\site-packages (from click<9,>=7.1->jupyter-book) (0.4.6)\n",
      "Requirement already satisfied: attrs>=17.4.0 in c:\\users\\ika_m\\anaconda3\\lib\\site-packages (from jsonschema<5->jupyter-book) (22.1.0)\n",
      "Requirement already satisfied: pyrsistent!=0.17.0,!=0.17.1,!=0.17.2,>=0.14.0 in c:\\users\\ika_m\\anaconda3\\lib\\site-packages (from jsonschema<5->jupyter-book) (0.18.0)\n",
      "Requirement already satisfied: uc-micro-py in c:\\users\\ika_m\\anaconda3\\lib\\site-packages (from linkify-it-py<3,>=2->jupyter-book) (1.0.1)\n",
      "Requirement already satisfied: importlib_metadata in c:\\users\\ika_m\\anaconda3\\lib\\site-packages (from myst-nb<3,>=1->jupyter-book) (6.0.0)\n",
      "Requirement already satisfied: ipython in c:\\users\\ika_m\\anaconda3\\lib\\site-packages (from myst-nb<3,>=1->jupyter-book) (8.15.0)\n",
      "Requirement already satisfied: jupyter-cache>=0.5 in c:\\users\\ika_m\\anaconda3\\lib\\site-packages (from myst-nb<3,>=1->jupyter-book) (1.0.0)\n",
      "Requirement already satisfied: nbclient in c:\\users\\ika_m\\anaconda3\\lib\\site-packages (from myst-nb<3,>=1->jupyter-book) (0.5.13)\n",
      "Requirement already satisfied: nbformat>=5.0 in c:\\users\\ika_m\\anaconda3\\lib\\site-packages (from myst-nb<3,>=1->jupyter-book) (5.9.2)\n",
      "Requirement already satisfied: typing-extensions in c:\\users\\ika_m\\anaconda3\\lib\\site-packages (from myst-nb<3,>=1->jupyter-book) (4.7.1)\n",
      "Requirement already satisfied: ipykernel in c:\\users\\ika_m\\anaconda3\\lib\\site-packages (from myst-nb<3,>=1->jupyter-book) (6.25.0)\n",
      "Requirement already satisfied: docutils<0.21,>=0.16 in c:\\users\\ika_m\\anaconda3\\lib\\site-packages (from myst-parser<3,>=1->jupyter-book) (0.20.1)\n",
      "Requirement already satisfied: markdown-it-py~=3.0 in c:\\users\\ika_m\\anaconda3\\lib\\site-packages (from myst-parser<3,>=1->jupyter-book) (3.0.0)\n",
      "Requirement already satisfied: mdit-py-plugins~=0.4 in c:\\users\\ika_m\\anaconda3\\lib\\site-packages (from myst-parser<3,>=1->jupyter-book) (0.4.0)\n",
      "Requirement already satisfied: sphinxcontrib-applehelp in c:\\users\\ika_m\\anaconda3\\lib\\site-packages (from sphinx<8,>=5->jupyter-book) (1.0.2)\n",
      "Requirement already satisfied: sphinxcontrib-devhelp in c:\\users\\ika_m\\anaconda3\\lib\\site-packages (from sphinx<8,>=5->jupyter-book) (1.0.2)\n",
      "Requirement already satisfied: sphinxcontrib-jsmath in c:\\users\\ika_m\\anaconda3\\lib\\site-packages (from sphinx<8,>=5->jupyter-book) (1.0.1)\n",
      "Requirement already satisfied: sphinxcontrib-htmlhelp>=2.0.0 in c:\\users\\ika_m\\anaconda3\\lib\\site-packages (from sphinx<8,>=5->jupyter-book) (2.0.0)\n",
      "Requirement already satisfied: sphinxcontrib-serializinghtml>=1.1.9 in c:\\users\\ika_m\\anaconda3\\lib\\site-packages (from sphinx<8,>=5->jupyter-book) (1.1.10)\n",
      "Requirement already satisfied: sphinxcontrib-qthelp in c:\\users\\ika_m\\anaconda3\\lib\\site-packages (from sphinx<8,>=5->jupyter-book) (1.0.3)\n",
      "Requirement already satisfied: Pygments>=2.14 in c:\\users\\ika_m\\anaconda3\\lib\\site-packages (from sphinx<8,>=5->jupyter-book) (2.15.1)\n",
      "Requirement already satisfied: snowballstemmer>=2.0 in c:\\users\\ika_m\\anaconda3\\lib\\site-packages (from sphinx<8,>=5->jupyter-book) (2.2.0)\n",
      "Requirement already satisfied: babel>=2.9 in c:\\users\\ika_m\\anaconda3\\lib\\site-packages (from sphinx<8,>=5->jupyter-book) (2.11.0)\n",
      "Requirement already satisfied: alabaster<0.8,>=0.7 in c:\\users\\ika_m\\anaconda3\\lib\\site-packages (from sphinx<8,>=5->jupyter-book) (0.7.12)\n",
      "Requirement already satisfied: imagesize>=1.3 in c:\\users\\ika_m\\anaconda3\\lib\\site-packages (from sphinx<8,>=5->jupyter-book) (1.4.1)\n",
      "Requirement already satisfied: requests>=2.25.0 in c:\\users\\ika_m\\anaconda3\\lib\\site-packages (from sphinx<8,>=5->jupyter-book) (2.31.0)\n",
      "Requirement already satisfied: packaging>=21.0 in c:\\users\\ika_m\\anaconda3\\lib\\site-packages (from sphinx<8,>=5->jupyter-book) (23.1)\n",
      "Requirement already satisfied: MarkupSafe>=2.0 in c:\\users\\ika_m\\anaconda3\\lib\\site-packages (from Jinja2->jupyter-book) (2.1.1)\n",
      "Requirement already satisfied: pydata-sphinx-theme>=0.14 in c:\\users\\ika_m\\anaconda3\\lib\\site-packages (from sphinx-book-theme<2,>=1.1.0->jupyter-book) (0.15.2)\n",
      "Requirement already satisfied: pybtex>=0.24 in c:\\users\\ika_m\\anaconda3\\lib\\site-packages (from sphinxcontrib-bibtex<3,>=2.5.0->jupyter-book) (0.24.0)\n",
      "Requirement already satisfied: pybtex-docutils>=1.0.0 in c:\\users\\ika_m\\anaconda3\\lib\\site-packages (from sphinxcontrib-bibtex<3,>=2.5.0->jupyter-book) (1.0.3)\n",
      "Requirement already satisfied: setuptools in c:\\users\\ika_m\\anaconda3\\lib\\site-packages (from sphinx_togglebutton->jupyter-book) (68.0.0)\n",
      "Requirement already satisfied: wheel in c:\\users\\ika_m\\anaconda3\\lib\\site-packages (from sphinx_togglebutton->jupyter-book) (0.38.4)\n",
      "Requirement already satisfied: pytz>=2015.7 in c:\\users\\ika_m\\anaconda3\\lib\\site-packages (from babel>=2.9->sphinx<8,>=5->jupyter-book) (2023.3.post1)\n",
      "Requirement already satisfied: sqlalchemy<3,>=1.3.12 in c:\\users\\ika_m\\anaconda3\\lib\\site-packages (from jupyter-cache>=0.5->myst-nb<3,>=1->jupyter-book) (1.4.39)\n",
      "Requirement already satisfied: tabulate in c:\\users\\ika_m\\anaconda3\\lib\\site-packages (from jupyter-cache>=0.5->myst-nb<3,>=1->jupyter-book) (0.8.10)\n",
      "Requirement already satisfied: mdurl~=0.1 in c:\\users\\ika_m\\anaconda3\\lib\\site-packages (from markdown-it-py~=3.0->myst-parser<3,>=1->jupyter-book) (0.1.0)\n",
      "Requirement already satisfied: traitlets>=5.0.0 in c:\\users\\ika_m\\anaconda3\\lib\\site-packages (from nbclient->myst-nb<3,>=1->jupyter-book) (5.7.1)\n",
      "Requirement already satisfied: jupyter-client>=6.1.5 in c:\\users\\ika_m\\anaconda3\\lib\\site-packages (from nbclient->myst-nb<3,>=1->jupyter-book) (7.4.9)\n",
      "Requirement already satisfied: nest-asyncio in c:\\users\\ika_m\\anaconda3\\lib\\site-packages (from nbclient->myst-nb<3,>=1->jupyter-book) (1.5.6)\n",
      "Requirement already satisfied: fastjsonschema in c:\\users\\ika_m\\anaconda3\\lib\\site-packages (from nbformat>=5.0->myst-nb<3,>=1->jupyter-book) (2.16.2)\n",
      "Requirement already satisfied: jupyter-core in c:\\users\\ika_m\\anaconda3\\lib\\site-packages (from nbformat>=5.0->myst-nb<3,>=1->jupyter-book) (5.3.0)\n",
      "Requirement already satisfied: latexcodec>=1.0.4 in c:\\users\\ika_m\\anaconda3\\lib\\site-packages (from pybtex>=0.24->sphinxcontrib-bibtex<3,>=2.5.0->jupyter-book) (3.0.0)\n",
      "Requirement already satisfied: six in c:\\users\\ika_m\\anaconda3\\lib\\site-packages (from pybtex>=0.24->sphinxcontrib-bibtex<3,>=2.5.0->jupyter-book) (1.16.0)\n",
      "Requirement already satisfied: beautifulsoup4 in c:\\users\\ika_m\\anaconda3\\lib\\site-packages (from pydata-sphinx-theme>=0.14->sphinx-book-theme<2,>=1.1.0->jupyter-book) (4.12.2)\n",
      "Requirement already satisfied: accessible-pygments in c:\\users\\ika_m\\anaconda3\\lib\\site-packages (from pydata-sphinx-theme>=0.14->sphinx-book-theme<2,>=1.1.0->jupyter-book) (0.0.4)\n",
      "Requirement already satisfied: charset-normalizer<4,>=2 in c:\\users\\ika_m\\anaconda3\\lib\\site-packages (from requests>=2.25.0->sphinx<8,>=5->jupyter-book) (2.0.4)\n",
      "Requirement already satisfied: idna<4,>=2.5 in c:\\users\\ika_m\\anaconda3\\lib\\site-packages (from requests>=2.25.0->sphinx<8,>=5->jupyter-book) (3.4)\n",
      "Requirement already satisfied: urllib3<3,>=1.21.1 in c:\\users\\ika_m\\anaconda3\\lib\\site-packages (from requests>=2.25.0->sphinx<8,>=5->jupyter-book) (1.26.16)\n",
      "Requirement already satisfied: certifi>=2017.4.17 in c:\\users\\ika_m\\anaconda3\\lib\\site-packages (from requests>=2.25.0->sphinx<8,>=5->jupyter-book) (2023.7.22)\n",
      "Requirement already satisfied: zipp>=0.5 in c:\\users\\ika_m\\anaconda3\\lib\\site-packages (from importlib_metadata->myst-nb<3,>=1->jupyter-book) (3.11.0)\n",
      "Requirement already satisfied: comm>=0.1.1 in c:\\users\\ika_m\\anaconda3\\lib\\site-packages (from ipykernel->myst-nb<3,>=1->jupyter-book) (0.1.2)\n",
      "Requirement already satisfied: debugpy>=1.6.5 in c:\\users\\ika_m\\anaconda3\\lib\\site-packages (from ipykernel->myst-nb<3,>=1->jupyter-book) (1.6.7)\n",
      "Requirement already satisfied: matplotlib-inline>=0.1 in c:\\users\\ika_m\\anaconda3\\lib\\site-packages (from ipykernel->myst-nb<3,>=1->jupyter-book) (0.1.6)\n",
      "Requirement already satisfied: psutil in c:\\users\\ika_m\\anaconda3\\lib\\site-packages (from ipykernel->myst-nb<3,>=1->jupyter-book) (5.9.0)\n",
      "Requirement already satisfied: pyzmq>=20 in c:\\users\\ika_m\\anaconda3\\lib\\site-packages (from ipykernel->myst-nb<3,>=1->jupyter-book) (23.2.0)\n",
      "Requirement already satisfied: tornado>=6.1 in c:\\users\\ika_m\\anaconda3\\lib\\site-packages (from ipykernel->myst-nb<3,>=1->jupyter-book) (6.3.2)\n",
      "Requirement already satisfied: backcall in c:\\users\\ika_m\\anaconda3\\lib\\site-packages (from ipython->myst-nb<3,>=1->jupyter-book) (0.2.0)\n",
      "Requirement already satisfied: decorator in c:\\users\\ika_m\\anaconda3\\lib\\site-packages (from ipython->myst-nb<3,>=1->jupyter-book) (5.1.1)\n",
      "Requirement already satisfied: jedi>=0.16 in c:\\users\\ika_m\\anaconda3\\lib\\site-packages (from ipython->myst-nb<3,>=1->jupyter-book) (0.18.1)\n",
      "Requirement already satisfied: pickleshare in c:\\users\\ika_m\\anaconda3\\lib\\site-packages (from ipython->myst-nb<3,>=1->jupyter-book) (0.7.5)\n",
      "Requirement already satisfied: prompt-toolkit!=3.0.37,<3.1.0,>=3.0.30 in c:\\users\\ika_m\\anaconda3\\lib\\site-packages (from ipython->myst-nb<3,>=1->jupyter-book) (3.0.36)\n",
      "Requirement already satisfied: stack-data in c:\\users\\ika_m\\anaconda3\\lib\\site-packages (from ipython->myst-nb<3,>=1->jupyter-book) (0.2.0)\n",
      "Requirement already satisfied: parso<0.9.0,>=0.8.0 in c:\\users\\ika_m\\anaconda3\\lib\\site-packages (from jedi>=0.16->ipython->myst-nb<3,>=1->jupyter-book) (0.8.3)\n",
      "Requirement already satisfied: entrypoints in c:\\users\\ika_m\\anaconda3\\lib\\site-packages (from jupyter-client>=6.1.5->nbclient->myst-nb<3,>=1->jupyter-book) (0.4)\n",
      "Requirement already satisfied: python-dateutil>=2.8.2 in c:\\users\\ika_m\\anaconda3\\lib\\site-packages (from jupyter-client>=6.1.5->nbclient->myst-nb<3,>=1->jupyter-book) (2.8.2)\n",
      "Requirement already satisfied: platformdirs>=2.5 in c:\\users\\ika_m\\anaconda3\\lib\\site-packages (from jupyter-core->nbformat>=5.0->myst-nb<3,>=1->jupyter-book) (3.10.0)\n",
      "Requirement already satisfied: pywin32>=300 in c:\\users\\ika_m\\anaconda3\\lib\\site-packages (from jupyter-core->nbformat>=5.0->myst-nb<3,>=1->jupyter-book) (305.1)\n",
      "Requirement already satisfied: wcwidth in c:\\users\\ika_m\\anaconda3\\lib\\site-packages (from prompt-toolkit!=3.0.37,<3.1.0,>=3.0.30->ipython->myst-nb<3,>=1->jupyter-book) (0.2.5)\n",
      "Requirement already satisfied: greenlet!=0.4.17 in c:\\users\\ika_m\\anaconda3\\lib\\site-packages (from sqlalchemy<3,>=1.3.12->jupyter-cache>=0.5->myst-nb<3,>=1->jupyter-book) (2.0.1)\n",
      "Requirement already satisfied: soupsieve>1.2 in c:\\users\\ika_m\\anaconda3\\lib\\site-packages (from beautifulsoup4->pydata-sphinx-theme>=0.14->sphinx-book-theme<2,>=1.1.0->jupyter-book) (2.4)\n",
      "Requirement already satisfied: executing in c:\\users\\ika_m\\anaconda3\\lib\\site-packages (from stack-data->ipython->myst-nb<3,>=1->jupyter-book) (0.8.3)\n",
      "Requirement already satisfied: asttokens in c:\\users\\ika_m\\anaconda3\\lib\\site-packages (from stack-data->ipython->myst-nb<3,>=1->jupyter-book) (2.0.5)\n",
      "Requirement already satisfied: pure-eval in c:\\users\\ika_m\\anaconda3\\lib\\site-packages (from stack-data->ipython->myst-nb<3,>=1->jupyter-book) (0.2.2)\n",
      "Note: you may need to restart the kernel to use updated packages.\n"
     ]
    }
   ],
   "source": [
    "pip install -U jupyter-book"
   ]
  },
  {
   "cell_type": "code",
   "execution_count": 3,
   "id": "8387d4fe",
   "metadata": {},
   "outputs": [
    {
     "ename": "SyntaxError",
     "evalue": "invalid syntax (632565663.py, line 1)",
     "output_type": "error",
     "traceback": [
      "\u001b[1;36m  Cell \u001b[1;32mIn[3], line 1\u001b[1;36m\u001b[0m\n\u001b[1;33m    $jupyter-book build lecture\u001b[0m\n\u001b[1;37m    ^\u001b[0m\n\u001b[1;31mSyntaxError\u001b[0m\u001b[1;31m:\u001b[0m invalid syntax\n"
     ]
    }
   ],
   "source": [
    "$jupyter-book build lecture"
   ]
  }
 ],
 "metadata": {
  "kernelspec": {
   "display_name": "Python 3 (ipykernel)",
   "language": "python",
   "name": "python3"
  },
  "language_info": {
   "codemirror_mode": {
    "name": "ipython",
    "version": 3
   },
   "file_extension": ".py",
   "mimetype": "text/x-python",
   "name": "python",
   "nbconvert_exporter": "python",
   "pygments_lexer": "ipython3",
   "version": "3.11.5"
  }
 },
 "nbformat": 4,
 "nbformat_minor": 5
}
