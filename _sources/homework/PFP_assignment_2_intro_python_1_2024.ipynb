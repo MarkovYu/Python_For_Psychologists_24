{
 "cells": [
  {
   "cell_type": "markdown",
   "id": "379573b3",
   "metadata": {},
   "source": [
    "<img src=\"https://github.com/M-earnest/Python_for_Psychologists_Winter2022/blob/main/lecture/static/pfp_logo.png?raw=true\" width=300 />\n",
    "\n",
    "<center><h3>Homework assignment #2 - Introduction to Python - 1</h3></center>\n",
    "\n",
    "Ahoi hoi folks and welcome to homework assignment #2 of the \"Python for Psychologists\" course, winter term 2024. This homework assignment will be your first venture into the practical use of python and probably also your first time working with jupyter notebooks. Even though we've used `jupyter notebooks` in the seminar sessions you'll might encounter some problems or unexpected behaviors. Thus, if you encounter any problems along the way, please don't hesitate to get in touch (via e-mail or the discord server) or check back in the [`Introduction to Jupyter`](https://markovyu.github.io/Python_For_Psychologists_24/introduction/introduction_2.html) or the [`Intro to Python I`](https://markovyu.github.io/Python_For_Psychologists_24/introduction/introduction_4.html) chapters on the course website. \n",
    "\n",
    "\n",
    "Some general points:\n",
    "\n",
    "Throughout the assignment you will be asked to either provide some `answers to questions in written form` or directly `code`. Regarding the first, you can just write your answer in the empty `markdown cells` below the questions. Regarding the second, you can write your `code` in the empty `code cells` below the questions and actually `run` it so that the output (if there's one) will be included in the notebook. The `number` and `type` of `cell` you need to answer a given questions will be indicated but if you want to use more `cells` please don't hesitate to add a few. If you see something like \"Type Markdown ... or Please provide your solution here\n",
    "\", you can just click (or double-click) on it to make it a `markdown cell`. If any of this sounds confusing or unclear you can again consult the [`Introduction to Jupyter`](https://markovyu.github.io/Python_For_Psychologists_24/introduction/introduction_2.html) page. \n",
    "\n",
    "Please don't forget to save your `notebook` regularly (maybe every few minutes) either via `strg + s` on `windows` and `cmd + s` on `macOS`. Once you finished the `assignment`, pleas save the entire `notebook` via `File` -> `Save as...` and provide the following name `FirstNameSurname_pfp_2023_homework_assignment_2` where `FirstName` should be changed to your first name and `Surname` to your surname.\n",
    "\n",
    "The aim of this homework assignment is to go through the things we talked about in the session again and deepen your understanding of them. This will entail the following parts:\n",
    "\n",
    "[1. Characteristics of the `python` programming language]()  \n",
    "[2. Modules]()  \n",
    "[3. Variables & data types]()  \n",
    "[4. Outro/Q&A]()  \n",
    "\n",
    "You should be able to answer all of the following questions given the content included in the respective sections on the website, as well as the things covered in during the session. **If you feel like some of the things asked here were actually not (sufficiently) covered during the session, please don't hesitate to let me know ASAP and we'll figure that out.** Otherwise you of course are welcome to train your \"google muscles\", just keep in mind that code directly copied from the internet should include sufficient credits (i.e. include links to the respective website as a comment in code/markdown cells). And remember that there is always more than one correct answer in `programming`.\n",
    "\n",
    "However, after this way too long intro, I wish you a great time and hope this will feel less like an assignment and more like a fun add on to the session. Again: learning new things takes time and programming is by no means an exception to that. Thus don't worry if you have to look back and fourth between the assignment and the materials: we all start somewhere and you putting in the effort is already fantastic. You got this!\n",
    "\n"
   ]
  },
  {
   "cell_type": "markdown",
   "id": "66b22150",
   "metadata": {},
   "source": [
    "## Homework assignment #2\n",
    "\n",
    "### [1. Characteristics of the `python` programming language]()\n",
    "\n",
    "During the session we talked about `Python` being a **widely used/very flexible**, **high-level**, **general-purpose**, **dynamic** programming language but what does this mean again? Please provide some points regarding each of these characteristics below, preferably in your own words. You can just write your answer in the `markdown cells` below the questions.  \n",
    "\n",
    "What is meant by **widely used**?"
   ]
  },
  {
   "cell_type": "markdown",
   "id": "2c2fc664",
   "metadata": {},
   "source": [
    "Please provide your solution here"
   ]
  },
  {
   "cell_type": "markdown",
   "id": "2eaa0f0f",
   "metadata": {},
   "source": [
    "What is meant by **high-level**?"
   ]
  },
  {
   "cell_type": "markdown",
   "id": "70eaaa03",
   "metadata": {},
   "source": [
    "Please provide your solution here"
   ]
  },
  {
   "cell_type": "markdown",
   "id": "fe5fb567",
   "metadata": {},
   "source": [
    "What is meant by **general-purpose**?"
   ]
  },
  {
   "cell_type": "markdown",
   "id": "0576fa1e",
   "metadata": {},
   "source": [
    "Please provide your solution here"
   ]
  },
  {
   "cell_type": "markdown",
   "id": "80fab0e8",
   "metadata": {},
   "source": [
    "What is meant by **dynamic**?"
   ]
  },
  {
   "cell_type": "markdown",
   "id": "a146769c",
   "metadata": {},
   "source": [
    "Please provide your solution here"
   ]
  },
  {
   "cell_type": "markdown",
   "id": "f27e4916",
   "metadata": {},
   "source": [
    "### [2. Modules]()  \n",
    "\n",
    "We started our endeavors in `python` via talking about `modules` as they are crucial to basically anything we want to do. What is a `module` again and what role do they have within the `python` ecosystem? You can just write your answer in the `markdown cell` below."
   ]
  },
  {
   "cell_type": "markdown",
   "id": "0e17f58f",
   "metadata": {},
   "source": [
    "Please provide your solution here"
   ]
  },
  {
   "cell_type": "markdown",
   "id": "cc3434a5",
   "metadata": {},
   "source": [
    "Lets assume you want to run a few basic `statistical analyses` on a behavioral dataset using the following `python modules`: `numpy`, `scipy` & `pandas`. How would you import these modules in their entirety?"
   ]
  },
  {
   "cell_type": "code",
   "execution_count": null,
   "id": "bcca6b56",
   "metadata": {},
   "outputs": [],
   "source": [
    "# Please write your solution here"
   ]
  },
  {
   "cell_type": "markdown",
   "id": "7dd9b21b",
   "metadata": {},
   "source": [
    "Would it also be possible to `import` these `modules` given certain `access names`, so that it's easier to refer to them and access their `functions`? If so, could you show how one would do that for each of the three `modules` mentioned above?"
   ]
  },
  {
   "cell_type": "markdown",
   "id": "ca2270f5",
   "metadata": {},
   "source": [
    "**Note**: The common custom access names for these modules are np, sp and pd. You can see the pattern here"
   ]
  },
  {
   "cell_type": "code",
   "execution_count": null,
   "id": "d49b27b8",
   "metadata": {},
   "outputs": [],
   "source": [
    "# Please write your solution here"
   ]
  },
  {
   "cell_type": "markdown",
   "id": "b1560fe2",
   "metadata": {},
   "source": [
    "While having access to the entire `module` is cool we learned that we will actually only use certain `submodules`/`functions` most of the time. Based on our analyses we know that we will need the `\"min\"`, `\"max\"` and `\"mean\"` `functions` from [numpy](https://numpy.org/), the `\"DataFrame\"` `function` from [pandas](https://pandas.pydata.org/) and the `\"stats\"` package from [scipy](https://scipy.github.io/devdocs/index.html). How would you do this? (Remember that Python is case-senstive and that you can usually use tab-complete to short-cut writing out most keywords, folks!)"
   ]
  },
  {
   "cell_type": "code",
   "execution_count": null,
   "id": "33ca87f0",
   "metadata": {},
   "outputs": [],
   "source": [
    "# Please write your solution here"
   ]
  },
  {
   "cell_type": "markdown",
   "id": "55cb06e6",
   "metadata": {},
   "source": [
    "You may have noticed that the above lines contain links to the `documentation` of each `module`. This is meant to stress a very important point: `python` is not only great because it's `open-source` and has an incredible `community`, it's `modules`/`libraries` also usually have fantastics `documentation` that explain many details of the `module`, including `background`, `installation`, `functions`, `examples`, etc. . It's a great starting point for working with a new `module` and/or `function`, always freely available to you!  \n",
    "\n",
    "Before we utilize the `imported functions` we want to make sure how they work and what they do. Is there any option in `python` and/or `jupyter notebooks` to get some information or help regarding a `function`? If there is, how would you do this for the modules at hand?"
   ]
  },
  {
   "cell_type": "code",
   "execution_count": null,
   "id": "bf814a3a",
   "metadata": {},
   "outputs": [],
   "source": [
    "# Please write your solution here"
   ]
  },
  {
   "cell_type": "markdown",
   "id": "c945a0b3",
   "metadata": {},
   "source": [
    "Bonus: try searching for the `functions` you imported in the respective `documentation` or `docs` of the `module`.\n",
    "\n",
    "That being said, what would be the result if we try to use a `module`/`function` we did not `import` yet? Can you provide a brief explanation (in the markdown cell below) and proof your answer with an example (in the code cell below)?"
   ]
  },
  {
   "cell_type": "code",
   "execution_count": null,
   "id": "98c82efa",
   "metadata": {},
   "outputs": [],
   "source": [
    "# Please write your solution here"
   ]
  },
  {
   "cell_type": "markdown",
   "id": "7fa22a02",
   "metadata": {},
   "source": [
    "### [3. Variables & data types]()\n",
    "\n",
    "The final part of the session introduced more core concepts and building blocks of the `python programming language`, specifically `assignments` (the `operator`, not homework, hehe), `variables` and `data types`. Could you briefly describe what a variable actually is?"
   ]
  },
  {
   "cell_type": "markdown",
   "id": "9a0038f9",
   "metadata": {},
   "source": [
    "Please provide your solution here"
   ]
  },
  {
   "cell_type": "markdown",
   "id": "b21c80a9",
   "metadata": {},
   "source": [
    "Amazing, thanks! Now that we know what a `variable` is we need to talk about how we `declare` them via `assignments`. If you'd want to create two `variables` `group_1` and `group_2` with the respective `values` `\"control\"` and `\"target\"`, how would you do that? "
   ]
  },
  {
   "cell_type": "code",
   "execution_count": null,
   "id": "8d4614a9",
   "metadata": {},
   "outputs": [],
   "source": [
    "# Please write your solution here"
   ]
  },
  {
   "cell_type": "markdown",
   "id": "34dc8ba9",
   "metadata": {},
   "source": [
    "Oh, this `assignment` `operator` looks like something we all saw in our `math` classes. Could you briefly explain the difference between `variables` in `coding` and `math` using the meaning of the `operator` used above? (Again, if you for example do not remember what an `operator`is in the python language, feel free to look that up.)"
   ]
  },
  {
   "cell_type": "markdown",
   "id": "c58509cb",
   "metadata": {},
   "source": [
    "Please provide your solution here"
   ]
  },
  {
   "cell_type": "markdown",
   "id": "97c17b5f",
   "metadata": {},
   "source": [
    "Speaking of which: what happens when you try to refer to an `variable` that has not been `declared` yet? Can you provide a brief explanation and proof your answer with an example?"
   ]
  },
  {
   "cell_type": "markdown",
   "id": "b10a6067",
   "metadata": {},
   "source": [
    "Please provide your solution here"
   ]
  },
  {
   "cell_type": "code",
   "execution_count": null,
   "id": "7c830c86",
   "metadata": {},
   "outputs": [],
   "source": [
    "# Please write your solution here"
   ]
  },
  {
   "cell_type": "markdown",
   "id": "b3bbe58e",
   "metadata": {},
   "source": [
    "Talking about `assignments`, `operators` and `variables`, can we actually use literally \"anything\" as a `variable name` or are there certain limitations? If so, can you name what these limitations would be and why these exist? "
   ]
  },
  {
   "cell_type": "markdown",
   "id": "c91bba9c",
   "metadata": {},
   "source": [
    "Please provide your solution here"
   ]
  },
  {
   "cell_type": "markdown",
   "id": "81d53eed",
   "metadata": {},
   "source": [
    "Talking about `variables` what is the most common way to name a variable in Python? "
   ]
  },
  {
   "cell_type": "markdown",
   "id": "d1387c52",
   "metadata": {},
   "source": [
    "- snake_case\n",
    "- CamelCase\n",
    "- SMTH_LIKE_THIS\n",
    "- SmThLiKe_ThAT"
   ]
  },
  {
   "cell_type": "markdown",
   "id": "e28f4382",
   "metadata": {},
   "source": [
    "Following up on this, we also talked about different **basic** `data types` we might encounter in `python`. Could you maybe list the most common ones we talked about during the `session` and what they entail?"
   ]
  },
  {
   "cell_type": "markdown",
   "id": "952101d1",
   "metadata": {},
   "source": [
    "Please provide your solution here"
   ]
  },
  {
   "cell_type": "markdown",
   "id": "60f78e38",
   "metadata": {},
   "source": [
    "Ah right, those were the ones we checked out! Is there potentially a way to find out what `type` a given `variable` has? Can you demonstrate how you would find out the `data type` of our `variables` `group_1` and `group_2`?"
   ]
  },
  {
   "cell_type": "code",
   "execution_count": null,
   "id": "27990837",
   "metadata": {},
   "outputs": [],
   "source": [
    "# Please write your solution here"
   ]
  },
  {
   "cell_type": "markdown",
   "id": "083d69d9",
   "metadata": {},
   "source": [
    "Could you please `declare` `variables` n_students, n_laptops, course_year and fun_factor these new `values`: twenty (in `int`), twenty-one (in `float`), 2024 (in `str`) and true (`boolean`)? \n",
    "\n",
    "Please print each variable using print() and also print each type of variable\n",
    "\n",
    "**Note**: you can print multiple instances using , - `print(var1, var2, type(var1))`"
   ]
  },
  {
   "cell_type": "code",
   "execution_count": null,
   "id": "2eb2cb4a",
   "metadata": {},
   "outputs": [],
   "source": [
    "# Please write your solution here"
   ]
  },
  {
   "cell_type": "markdown",
   "id": "4ce681c0",
   "metadata": {},
   "source": [
    "Assign to n_students value of n_laptops. Damn, did we just overwrite our `variable` initial `values`? How does this work in `python`? What type now is n_students?"
   ]
  },
  {
   "cell_type": "code",
   "execution_count": null,
   "id": "8cac4bf0",
   "metadata": {},
   "outputs": [],
   "source": [
    "# Please write your solution here"
   ]
  },
  {
   "cell_type": "markdown",
   "id": "2e79d38b",
   "metadata": {},
   "source": [
    "You are a 🧙‍♂️ wizard in a mystical land, and you have three magical ingredients: a Golden Apple (`integer`), a Mana Elixir (`float`), and a Mysterious Scroll (`string`). You need to _use_ Mysterious Scroll by assigning it new value \"Used Swap Scroll\" and swap the values of Golden Apple and Mana Elixir.\n",
    "\n",
    "**Note** you **CAN'T** in this task just assign new values to `golden_apple` and `mana_elixir`. Like `golden_apple = 2.5` or `crystal_elixir = 5`"
   ]
  },
  {
   "cell_type": "code",
   "execution_count": null,
   "id": "4e77455a",
   "metadata": {},
   "outputs": [],
   "source": [
    "# Step 1: Assign magical ingredients\n",
    "golden_apple = 5      # Integer: Number of Golden Apples\n",
    "mana_elixir = 2.5     # Float: Amount of Mana Elixir\n",
    "mysterious_scroll = \"Swap Scroll\"  # String: Contents of the Mysterious Scroll\n",
    "\n",
    "# Step 2: Print original ingredients\n",
    "print(\"🧙‍♂️ Before the Magical Swap:\")\n",
    "print(f\"📜 Mysterious Scroll: '{mysterious_scroll}'\")\n",
    "print(f\"✨ Golden Apples: {golden_apple}\")\n",
    "print(f\"💧 Mana Elixir: {mana_elixir} liters\")\n",
    "\n",
    "\n",
    "# Step 3: Use the scroll and perform the magical swap\n",
    "# Please write your solution here\n",
    "\n",
    "# Step 4: Print resulting ingredients\n",
    "print(\"\\n🎉 After the Magical Swap:\")\n",
    "print(f\"📜 Mysterious Scroll (updated): '{mysterious_scroll}'\")\n",
    "print(f\"✨ Golden Apples (now Elixir): {golden_apple} liters\")\n",
    "print(f\"💧 Mana Elixir (now Apples): {mana_elixir}\")\n"
   ]
  },
  {
   "cell_type": "markdown",
   "id": "c783f296",
   "metadata": {},
   "source": [
    "Create a program where a 🧙‍♂️ wizard transforms an `integer` (the number of magical artifacts) through the steps of converting it to a `float`, then to a `string`, and finally using a `boolean` to check if the transformation was successful."
   ]
  },
  {
   "cell_type": "code",
   "execution_count": null,
   "id": "9655b782",
   "metadata": {},
   "outputs": [],
   "source": [
    "# Step 1: Assign the initial value\n",
    "num_artifacts = 7  # Integer: Number of magical artifacts\n",
    "\n",
    "# Step 2: Print the original number of artifacts\n",
    "print(\"🔮 Before Transformation:\")\n",
    "print(f\"The wizard has {num_artifacts} magical artifacts.\")\n",
    "\n",
    "# Step 3: Transform to float\n",
    "artifact_strength =   # Convert to float\n",
    "print(f\"✨ After the spell of transformation, the artifact strength is: {artifact_strength} (float)\")\n",
    "\n",
    "# Step 4: Transform to string\n",
    "artifact_description =   # Convert to string\n",
    "print(f\"📜 The artifact description is: '{artifact_description}'\")\n",
    "\n",
    "# Step 5: Check with boolean\n",
    "is_magic =  # Check if the description contains \"magic\"\n",
    "print(f\"🧙‍♂️ Is the description magical? {is_magic}\")\n",
    "\n",
    "# Step 6: Check the type of num_artifacts, artifact_strength, artifact_description and is_magic"
   ]
  },
  {
   "cell_type": "markdown",
   "id": "6c990b19",
   "metadata": {},
   "source": [
    "Create a program where a 🧙‍♂️ wizard calculates the strength of his potions using the `math` module. In the enchanted forest, a wizard brews potions to enhance his magical powers. To determine the strength of his potions, he uses a special formula that involves calculating the square root of the total number of ingredients he has multiplied by pi number.\n",
    "\n",
    "🧙‍♂️ wizard is old and have not enough memory, please only `import` functions which will help to calculate `potion_strength`"
   ]
  },
  {
   "cell_type": "code",
   "execution_count": null,
   "id": "c03b4c3f",
   "metadata": {},
   "outputs": [],
   "source": [
    "num_ingredients = 25 # Integer: Total number of ingredients\n",
    "print(\"🧙‍♂️ Before Potion Brewing:\")\n",
    "print(f\"The wizard has {num_ingredients} magical ingredients.\")\n",
    "\n",
    "# Please write your solution here\n",
    "potion_strength = \n",
    "\n",
    "print(f\"✨ The strength of the potion is: {potion_strength:.2f}\")\n",
    "print(f\"📜 With a strength of {potion_strength:.2f}, the potion is ready for casting!\")"
   ]
  },
  {
   "cell_type": "markdown",
   "id": "a0913a9d",
   "metadata": {},
   "source": [
    "### [4. Outro]()\n",
    "\n",
    "Welcome to the end, you did, great job!\n",
    "\n",
    "Please remember to save the `notebook` as described in the beginning and send it to Peer via e-mail. If you have questions, encountered problems and/or errors, please use the `cell` to outline things further. The same holds true for any type of `feedback`! "
   ]
  },
  {
   "cell_type": "markdown",
   "id": "f7482559",
   "metadata": {},
   "source": []
  },
  {
   "cell_type": "markdown",
   "id": "519b1946",
   "metadata": {},
   "source": [
    "Thanks for going through this `assignment`, we hope you found it useful and informative. `Feedback` on your work can also by provided and is just one e-mail or discord message away!"
   ]
  }
 ],
 "metadata": {
  "kernelspec": {
   "display_name": "Python 3 (ipykernel)",
   "language": "python",
   "name": "python3"
  },
  "language_info": {
   "codemirror_mode": {
    "name": "ipython",
    "version": 3
   },
   "file_extension": ".py",
   "mimetype": "text/x-python",
   "name": "python",
   "nbconvert_exporter": "python",
   "pygments_lexer": "ipython3",
   "version": "3.7.6"
  }
 },
 "nbformat": 4,
 "nbformat_minor": 5
}
